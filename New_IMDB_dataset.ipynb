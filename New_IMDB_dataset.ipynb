{
 "cells": [
  {
   "cell_type": "code",
   "execution_count": 149,
   "metadata": {},
   "outputs": [],
   "source": [
    "import seaborn as sns\n",
    "from matplotlib import pyplot as plt\n",
    "import numpy as np\n",
    "from scipy import stats\n",
    "from sklearn.datasets import load_iris\n",
    "import pandas as pd"
   ]
  },
  {
   "cell_type": "markdown",
   "metadata": {},
   "source": [
    "# Data Understanding"
   ]
  },
  {
   "cell_type": "code",
   "execution_count": 150,
   "metadata": {},
   "outputs": [],
   "source": [
    "df = pd.read_csv('zippedData/movie_metadata.csv')\n",
    "# Imports IMDB Data"
   ]
  },
  {
   "cell_type": "code",
   "execution_count": 202,
   "metadata": {},
   "outputs": [
    {
     "name": "stdout",
     "output_type": "stream",
     "text": [
      "<class 'pandas.core.frame.DataFrame'>\n",
      "Index: 5043 entries, 0 to 5042\n",
      "Data columns (total 26 columns):\n",
      " #   Column                     Non-Null Count  Dtype  \n",
      "---  ------                     --------------  -----  \n",
      " 0   color                      5024 non-null   object \n",
      " 1   director_name              4939 non-null   object \n",
      " 2   num_critic_for_reviews     4993 non-null   float64\n",
      " 3   duration                   5028 non-null   float64\n",
      " 4   director_facebook_likes    4939 non-null   float64\n",
      " 5   actor_3_facebook_likes     5020 non-null   float64\n",
      " 6   actor_1_facebook_likes     5036 non-null   float64\n",
      " 7   gross                      4159 non-null   float64\n",
      " 8   genres                     5043 non-null   object \n",
      " 9   actor                      5036 non-null   object \n",
      " 10  movie_title                5043 non-null   object \n",
      " 11  num_voted_users            5043 non-null   int64  \n",
      " 12  cast_total_facebook_likes  5043 non-null   int64  \n",
      " 13  facenumber_in_poster       5030 non-null   float64\n",
      " 14  plot_keywords              4890 non-null   object \n",
      " 15  movie_imdb_link            5043 non-null   object \n",
      " 16  num_user_for_reviews       5022 non-null   float64\n",
      " 17  language                   5031 non-null   object \n",
      " 18  country                    5038 non-null   object \n",
      " 19  content_rating             4740 non-null   object \n",
      " 20  budget                     4551 non-null   float64\n",
      " 21  title_year                 4935 non-null   float64\n",
      " 22  actor_2_facebook_likes     5030 non-null   float64\n",
      " 23  imdb_score                 5043 non-null   float64\n",
      " 24  aspect_ratio               4714 non-null   float64\n",
      " 25  movie_facebook_likes       5043 non-null   int64  \n",
      "dtypes: float64(13), int64(3), object(10)\n",
      "memory usage: 1.0+ MB\n"
     ]
    },
    {
     "data": {
      "text/plain": [
       "movie_title\n",
       "Avatar              760.505847\n",
       "Titanic             658.672302\n",
       "Jurassic World      652.177271\n",
       "The Avengers        623.279547\n",
       "The Dark Knight     533.316061\n",
       "                       ...    \n",
       "Zambezia                   NaN\n",
       "Zipper                     NaN\n",
       "Zombie Hunter              NaN\n",
       "Zulu                       NaN\n",
       "[Rec]                      NaN\n",
       "Name: gross, Length: 4917, dtype: float64"
      ]
     },
     "execution_count": 202,
     "metadata": {},
     "output_type": "execute_result"
    }
   ],
   "source": [
    "df.info()\n",
    "df.groupby('movie_title').mean()['gross'].sort_values(ascending=False)"
   ]
  },
  {
   "cell_type": "code",
   "execution_count": 152,
   "metadata": {
    "scrolled": false
   },
   "outputs": [],
   "source": [
    "df['gross'] = df['gross'].apply(lambda x: x/1000000)"
   ]
  },
  {
   "cell_type": "markdown",
   "metadata": {},
   "source": [
    "The gross revenue column ('gross')  is not very digestible because it is in dollars, the code above turns it into millions "
   ]
  },
  {
   "cell_type": "code",
   "execution_count": 153,
   "metadata": {},
   "outputs": [],
   "source": [
    "def split_genres(genre):\n",
    "    return genre.split('|')[0]\n",
    "\n",
    "df['genres'] = df['genres'].apply(split_genres)"
   ]
  },
  {
   "cell_type": "markdown",
   "metadata": {},
   "source": [
    "In the IMDB dataset the 'genres' column has multiple entries separated by \"|\". For example, the first entry is 'Action|Adventure|Fantasy|Sci-Fi'. The above cell creates a function that returns the first main genre listed (so for the first entry it would return \"Action\""
   ]
  },
  {
   "cell_type": "code",
   "execution_count": 154,
   "metadata": {},
   "outputs": [
    {
     "data": {
      "text/plain": [
       "Comedy         1329\n",
       "Action         1153\n",
       "Drama           972\n",
       "Adventure       453\n",
       "Crime           349\n",
       "Biography       252\n",
       "Horror          232\n",
       "Documentary      84\n",
       "Animation        61\n",
       "Fantasy          53\n",
       "Mystery          33\n",
       "Thriller         22\n",
       "Sci-Fi           13\n",
       "Western          12\n",
       "Family           11\n",
       "Romance           6\n",
       "Musical           4\n",
       "Music             1\n",
       "Film-Noir         1\n",
       "History           1\n",
       "Game-Show         1\n",
       "Name: genres, dtype: int64"
      ]
     },
     "execution_count": 154,
     "metadata": {},
     "output_type": "execute_result"
    }
   ],
   "source": [
    "df['genres'].value_counts()"
   ]
  },
  {
   "cell_type": "markdown",
   "metadata": {},
   "source": [
    "# Business Understanding"
   ]
  },
  {
   "cell_type": "code",
   "execution_count": 206,
   "metadata": {
    "scrolled": true
   },
   "outputs": [
    {
     "data": {
      "text/plain": [
       "genres\n",
       "Family         149.160478\n",
       "Adventure       86.325758\n",
       "Animation       85.314064\n",
       "Action          76.289889\n",
       "Musical         61.566602\n",
       "Mystery         48.822296\n",
       "Fantasy         37.782735\n",
       "Comedy          35.524880\n",
       "Biography       35.045008\n",
       "Horror          34.828279\n",
       "Crime           29.989961\n",
       "Drama           28.151436\n",
       "Sci-Fi          26.071841\n",
       "Romance         20.886339\n",
       "Western         11.993216\n",
       "Documentary     10.802871\n",
       "Music            3.419967\n",
       "Thriller         0.540970\n",
       "Film-Noir             NaN\n",
       "Game-Show             NaN\n",
       "History               NaN\n",
       "Name: gross, dtype: float64"
      ]
     },
     "execution_count": 206,
     "metadata": {},
     "output_type": "execute_result"
    }
   ],
   "source": [
    "df.groupby('genres')['gross'].mean().sort_values(ascending=False)"
   ]
  },
  {
   "cell_type": "markdown",
   "metadata": {},
   "source": [
    "The above cell shows the mean gross revenue for movies in each genre and sorts them from highest to lowest. There is a bit of a drop off after \"Musical,\" so we will use the top 5 genres as a subset moving forward. It is our recommendation that Microsoft should create a movie in one of these genres -- below we will try to make some recommendations of director, actor, and movie plot! "
   ]
  },
  {
   "cell_type": "code",
   "execution_count": 208,
   "metadata": {},
   "outputs": [
    {
     "name": "stderr",
     "output_type": "stream",
     "text": [
      "/Users/kevinmcdonough/opt/anaconda3/envs/learn-env/lib/python3.8/site-packages/seaborn/_decorators.py:36: FutureWarning: Pass the following variables as keyword args: x, y. From version 0.12, the only valid positional argument will be `data`, and passing other arguments without an explicit keyword will result in an error or misinterpretation.\n",
      "  warnings.warn(\n"
     ]
    },
    {
     "data": {
      "image/png": "[encoded data removed]",
      "text/plain": [
       "<Figure size 864x576 with 1 Axes>"
      ]
     },
     "metadata": {
      "needs_background": "light"
     },
     "output_type": "display_data"
    }
   ],
   "source": [
    "x = list(df.groupby('genres')['gross'].mean().sort_values(ascending=False).index[0:10])\n",
    "y= list(df.groupby('genres')['gross'].mean().sort_values(ascending=False).values[0:10])\n",
    "\n",
    "fig, ax = plt.subplots(figsize=[12,8])\n",
    "ax = sns.barplot(x,y)\n",
    "ax.set_xlabel('Genre')\n",
    "ax.set_ylabel('Average Domestic Gross')\n",
    "ax.set_title('Most Profitable Genres');"
   ]
  },
  {
   "cell_type": "code",
   "execution_count": 209,
   "metadata": {},
   "outputs": [],
   "source": [
    "df_genre_sub = df[df['genres'].isin(['Family', 'Action', 'Adventure', 'Animation', 'Musical'])]\n",
    "# Creates a new DF that only contains movies in the specified genres"
   ]
  },
  {
   "cell_type": "code",
   "execution_count": 210,
   "metadata": {},
   "outputs": [
    {
     "data": {
      "text/plain": [
       "Steven Spielberg      16\n",
       "Tony Scott            12\n",
       "Michael Bay           12\n",
       "Ridley Scott          11\n",
       "Renny Harlin          11\n",
       "                      ..\n",
       "Guillermo del Toro     4\n",
       "John Moore             4\n",
       "William Friedkin       4\n",
       "George Lucas           4\n",
       "Luc Besson             4\n",
       "Name: director_name, Length: 100, dtype: int64"
      ]
     },
     "execution_count": 210,
     "metadata": {},
     "output_type": "execute_result"
    }
   ],
   "source": [
    "df_genre_sub['director_name'].value_counts()[0:100]"
   ]
  },
  {
   "cell_type": "markdown",
   "metadata": {},
   "source": [
    "The code above shows the 100 directors who have made the most movies in the genres we have specified. 100 is a bit of an arbitrary cutoff but we wanted to select directors that had experience. Even the 100th person on this list (Luc Besson) has created 4 movies in the specified genres"
   ]
  },
  {
   "cell_type": "code",
   "execution_count": 158,
   "metadata": {
    "scrolled": true
   },
   "outputs": [],
   "source": [
    "top_100_directors_for_genre = list(df_genre_sub['director_name'].value_counts().index[0:100])\n",
    "# Creates a list containing names of the 100 directors who have made the most movies in the specified genre"
   ]
  },
  {
   "cell_type": "code",
   "execution_count": 159,
   "metadata": {},
   "outputs": [],
   "source": [
    "df_director_sub = df_genre_sub[df_genre_sub['director_name'].isin(top_100_directors_for_genre)]\n",
    "# Uses the list above to create a new dataframe with only entries for the above directors "
   ]
  },
  {
   "cell_type": "code",
   "execution_count": 160,
   "metadata": {
    "scrolled": true
   },
   "outputs": [
    {
     "data": {
      "text/plain": [
       "director_name\n",
       "Joss Whedon          432.721657\n",
       "George Lucas         406.604620\n",
       "Christopher Nolan    333.470153\n",
       "Andrew Adamson       284.361730\n",
       "Peter Jackson        277.994940\n",
       "                        ...    \n",
       "John Carpenter        18.085589\n",
       "Simon Wincer          17.934710\n",
       "Mark L. Lester         8.687779\n",
       "Hayao Miyazaki         8.035079\n",
       "Uwe Boll               3.042558\n",
       "Name: gross, Length: 100, dtype: float64"
      ]
     },
     "execution_count": 160,
     "metadata": {},
     "output_type": "execute_result"
    }
   ],
   "source": [
    "df_director_sub.groupby('director_name').mean()['gross'].sort_values(ascending=False)"
   ]
  },
  {
   "cell_type": "markdown",
   "metadata": {},
   "source": [
    "The code above groups the directors and shows the average gross revenue for movies they've produced. Based on the output, we should target Joss Whedon, George Lucas, Christopher Nolan, Andrew Agamson and Peter Jackson because they direct profitable movies "
   ]
  },
  {
   "cell_type": "code",
   "execution_count": 214,
   "metadata": {},
   "outputs": [
    {
     "name": "stderr",
     "output_type": "stream",
     "text": [
      "/Users/kevinmcdonough/opt/anaconda3/envs/learn-env/lib/python3.8/site-packages/seaborn/_decorators.py:36: FutureWarning: Pass the following variables as keyword args: x, y. From version 0.12, the only valid positional argument will be `data`, and passing other arguments without an explicit keyword will result in an error or misinterpretation.\n",
      "  warnings.warn(\n"
     ]
    },
    {
     "data": {
      "image/png": "[encoded data removed]",
      "text/plain": [
       "<Figure size 864x576 with 1 Axes>"
      ]
     },
     "metadata": {
      "needs_background": "light"
     },
     "output_type": "display_data"
    }
   ],
   "source": [
    "x = df_director_sub.groupby('director_name').mean()['gross'].sort_values(ascending=False).index[0:10]\n",
    "y = df_director_sub.groupby('director_name').mean()['gross'].sort_values(ascending=False).values[0:10]\n",
    "\n",
    "fig, ax = plt.subplots(figsize=[12,8])\n",
    "ax = sns.barplot(x,y)\n",
    "ax.set_xlabel('Director')\n",
    "ax.set_ylabel('Average Domestic Gross per Movie')\n",
    "ax.set_title('Most Profitable Directors');\n",
    "ax.set_xticklabels(labels=x, rotation=45) ;"
   ]
  },
  {
   "cell_type": "markdown",
   "metadata": {},
   "source": [
    "# Data Understanding "
   ]
  },
  {
   "cell_type": "code",
   "execution_count": 161,
   "metadata": {},
   "outputs": [
    {
     "name": "stdout",
     "output_type": "stream",
     "text": [
      "<class 'pandas.core.frame.DataFrame'>\n",
      "RangeIndex: 5043 entries, 0 to 5042\n",
      "Data columns (total 28 columns):\n",
      " #   Column                     Non-Null Count  Dtype  \n",
      "---  ------                     --------------  -----  \n",
      " 0   color                      5024 non-null   object \n",
      " 1   director_name              4939 non-null   object \n",
      " 2   num_critic_for_reviews     4993 non-null   float64\n",
      " 3   duration                   5028 non-null   float64\n",
      " 4   director_facebook_likes    4939 non-null   float64\n",
      " 5   actor_3_facebook_likes     5020 non-null   float64\n",
      " 6   actor_2_name               5030 non-null   object \n",
      " 7   actor_1_facebook_likes     5036 non-null   float64\n",
      " 8   gross                      4159 non-null   float64\n",
      " 9   genres                     5043 non-null   object \n",
      " 10  actor_1_name               5036 non-null   object \n",
      " 11  movie_title                5043 non-null   object \n",
      " 12  num_voted_users            5043 non-null   int64  \n",
      " 13  cast_total_facebook_likes  5043 non-null   int64  \n",
      " 14  actor_3_name               5020 non-null   object \n",
      " 15  facenumber_in_poster       5030 non-null   float64\n",
      " 16  plot_keywords              4890 non-null   object \n",
      " 17  movie_imdb_link            5043 non-null   object \n",
      " 18  num_user_for_reviews       5022 non-null   float64\n",
      " 19  language                   5031 non-null   object \n",
      " 20  country                    5038 non-null   object \n",
      " 21  content_rating             4740 non-null   object \n",
      " 22  budget                     4551 non-null   float64\n",
      " 23  title_year                 4935 non-null   float64\n",
      " 24  actor_2_facebook_likes     5030 non-null   float64\n",
      " 25  imdb_score                 5043 non-null   float64\n",
      " 26  aspect_ratio               4714 non-null   float64\n",
      " 27  movie_facebook_likes       5043 non-null   int64  \n",
      "dtypes: float64(13), int64(3), object(12)\n",
      "memory usage: 1.1+ MB\n"
     ]
    }
   ],
   "source": [
    "df.info()"
   ]
  },
  {
   "cell_type": "markdown",
   "metadata": {},
   "source": [
    "Based on the output above, we can see that there are 3 seperate columns for actors"
   ]
  },
  {
   "cell_type": "code",
   "execution_count": 162,
   "metadata": {},
   "outputs": [],
   "source": [
    "df_2 = df.copy()\n",
    "df_3 = df.copy()\n",
    "\n",
    "# Creates two copies of the DF"
   ]
  },
  {
   "cell_type": "code",
   "execution_count": 163,
   "metadata": {},
   "outputs": [],
   "source": [
    "df.drop(columns=['actor_2_name', 'actor_3_name'], inplace=True)\n",
    "df.rename(index=str, columns={\"actor_1_name\": \"actor\"}, inplace=True)\n",
    "# Deletes the actor_2 column and actor_3 column from the original DF and renames the actor_1 column "
   ]
  },
  {
   "cell_type": "code",
   "execution_count": 164,
   "metadata": {},
   "outputs": [],
   "source": [
    "df_2.drop(columns=['actor_1_name', 'actor_3_name'], inplace=True)\n",
    "df_2.rename(index=str, columns={\"actor_2_name\": \"actor\"}, inplace=True)\n",
    "# Deletes the actor_1 column and actor_3 column from the original DF and renames the actor_2 column "
   ]
  },
  {
   "cell_type": "code",
   "execution_count": 165,
   "metadata": {},
   "outputs": [],
   "source": [
    "df_3.drop(columns=['actor_1_name', 'actor_2_name'], inplace=True)\n",
    "df_3.rename(index=str, columns={\"actor_3_name\": \"actor\"}, inplace=True)\n",
    "# Deletes the actor_1 column and actor_3 column from the original DF and renames the actor_2 column "
   ]
  },
  {
   "cell_type": "code",
   "execution_count": 166,
   "metadata": {},
   "outputs": [],
   "source": [
    "actors = pd.concat([df,df_2, df_3])"
   ]
  },
  {
   "cell_type": "code",
   "execution_count": 167,
   "metadata": {},
   "outputs": [
    {
     "name": "stdout",
     "output_type": "stream",
     "text": [
      "<class 'pandas.core.frame.DataFrame'>\n",
      "Index: 15129 entries, 0 to 5042\n",
      "Data columns (total 26 columns):\n",
      " #   Column                     Non-Null Count  Dtype  \n",
      "---  ------                     --------------  -----  \n",
      " 0   color                      15072 non-null  object \n",
      " 1   director_name              14817 non-null  object \n",
      " 2   num_critic_for_reviews     14979 non-null  float64\n",
      " 3   duration                   15084 non-null  float64\n",
      " 4   director_facebook_likes    14817 non-null  float64\n",
      " 5   actor_3_facebook_likes     15060 non-null  float64\n",
      " 6   actor_1_facebook_likes     15108 non-null  float64\n",
      " 7   gross                      12477 non-null  float64\n",
      " 8   genres                     15129 non-null  object \n",
      " 9   actor                      15086 non-null  object \n",
      " 10  movie_title                15129 non-null  object \n",
      " 11  num_voted_users            15129 non-null  int64  \n",
      " 12  cast_total_facebook_likes  15129 non-null  int64  \n",
      " 13  facenumber_in_poster       15090 non-null  float64\n",
      " 14  plot_keywords              14670 non-null  object \n",
      " 15  movie_imdb_link            15129 non-null  object \n",
      " 16  num_user_for_reviews       15066 non-null  float64\n",
      " 17  language                   15093 non-null  object \n",
      " 18  country                    15114 non-null  object \n",
      " 19  content_rating             14220 non-null  object \n",
      " 20  budget                     13653 non-null  float64\n",
      " 21  title_year                 14805 non-null  float64\n",
      " 22  actor_2_facebook_likes     15090 non-null  float64\n",
      " 23  imdb_score                 15129 non-null  float64\n",
      " 24  aspect_ratio               14142 non-null  float64\n",
      " 25  movie_facebook_likes       15129 non-null  int64  \n",
      "dtypes: float64(13), int64(3), object(10)\n",
      "memory usage: 3.1+ MB\n"
     ]
    }
   ],
   "source": [
    "actors.info()"
   ]
  },
  {
   "cell_type": "code",
   "execution_count": 168,
   "metadata": {},
   "outputs": [],
   "source": [
    "assert actors['gross'][5043] == actors['gross'][0]"
   ]
  },
  {
   "cell_type": "code",
   "execution_count": 169,
   "metadata": {},
   "outputs": [
    {
     "ename": "AssertionError",
     "evalue": "",
     "output_type": "error",
     "traceback": [
      "\u001b[0;31m---------------------------------------------------------------------------\u001b[0m",
      "\u001b[0;31mAssertionError\u001b[0m                            Traceback (most recent call last)",
      "\u001b[0;32m<ipython-input-169-e7e48e5e5486>\u001b[0m in \u001b[0;36m<module>\u001b[0;34m\u001b[0m\n\u001b[0;32m----> 1\u001b[0;31m \u001b[0;32massert\u001b[0m \u001b[0mactors\u001b[0m\u001b[0;34m[\u001b[0m\u001b[0;34m'actor'\u001b[0m\u001b[0;34m]\u001b[0m\u001b[0;34m[\u001b[0m\u001b[0;36m5043\u001b[0m\u001b[0;34m]\u001b[0m \u001b[0;34m==\u001b[0m \u001b[0mactors\u001b[0m\u001b[0;34m[\u001b[0m\u001b[0;34m'actor'\u001b[0m\u001b[0;34m]\u001b[0m\u001b[0;34m[\u001b[0m\u001b[0;36m0\u001b[0m\u001b[0;34m]\u001b[0m\u001b[0;34m\u001b[0m\u001b[0;34m\u001b[0m\u001b[0m\n\u001b[0m",
      "\u001b[0;31mAssertionError\u001b[0m: "
     ]
    }
   ],
   "source": [
    "assert actors['actor'][5043] == actors['actor'][0]"
   ]
  },
  {
   "cell_type": "markdown",
   "metadata": {},
   "source": [
    "The above code was a little clunky but we now have a dataframe with all of the actors in one column. We combined 3 indivdual dataframes. The second dataframe contained actors that were previously in the actor_2 column while the 3rd dataframe contained actors that were previously in the actor_3 column. Each of these dataframes was 5,043 rows and each row represents a movie. In the concatanated dataframe, each movie has 3 row entries, one for each actor. The assert statement above shows us that the gross revenue for row 0 is the same as the gross revenue for row 5043 (because they are the same movie!). There is an error in the second assert statement because now they have seperate actors in the actor column"
   ]
  },
  {
   "cell_type": "markdown",
   "metadata": {},
   "source": [
    "# Business Understanding"
   ]
  },
  {
   "cell_type": "code",
   "execution_count": 170,
   "metadata": {},
   "outputs": [],
   "source": [
    "actors_genres_sub = actors[actors['genres'].isin(['Family', 'Action', 'Adventure', 'Animation', 'Musical'])]\n",
    "# This code creates a new DF with only movies in the genres we highlighted before "
   ]
  },
  {
   "cell_type": "code",
   "execution_count": 171,
   "metadata": {},
   "outputs": [
    {
     "data": {
      "text/plain": [
       "Bruce Willis          27\n",
       "Liam Neeson           21\n",
       "Morgan Freeman        20\n",
       "Jason Statham         20\n",
       "Sylvester Stallone    20\n",
       "                      ..\n",
       "Margot Kidder          4\n",
       "Bokeem Woodbine        4\n",
       "Paul Sorvino           4\n",
       "Kelly Preston          4\n",
       "Gary Cole              4\n",
       "Name: actor, Length: 200, dtype: int64"
      ]
     },
     "execution_count": 171,
     "metadata": {},
     "output_type": "execute_result"
    }
   ],
   "source": [
    "actors_genres_sub['actor'].value_counts()[0:200]"
   ]
  },
  {
   "cell_type": "markdown",
   "metadata": {},
   "source": [
    "Similar to the exercise we did with directors, the above output shows us the actors that have been in the most movies in the genres that we had selected as most profitable"
   ]
  },
  {
   "cell_type": "code",
   "execution_count": 172,
   "metadata": {},
   "outputs": [],
   "source": [
    "top_200_actors_in_genre = list(actors_genres_sub['actor'].value_counts().index[0:200])\n",
    "# takes the above output and puts it into a list of actor names"
   ]
  },
  {
   "cell_type": "code",
   "execution_count": 173,
   "metadata": {},
   "outputs": [],
   "source": [
    "actors_genres_sub = actors_genres_sub[actors_genres_sub['actor'].isin(top_200_actors_in_genre)]\n",
    "# Filters out actors that aren't in the top 200 list we created "
   ]
  },
  {
   "cell_type": "code",
   "execution_count": 174,
   "metadata": {},
   "outputs": [
    {
     "data": {
      "text/plain": [
       "actor\n",
       "Robert Downey Jr.     333.076701\n",
       "Robert Pattinson      293.956643\n",
       "Jennifer Lawrence     283.817172\n",
       "Scarlett Johansson    266.460894\n",
       "Daniel Radcliffe      253.932119\n",
       "                         ...    \n",
       "Michael Jai White      23.433206\n",
       "Ashley Scott           20.782174\n",
       "Minnie Driver          20.473460\n",
       "Fisher Stevens         19.906282\n",
       "Andy Lau                7.572250\n",
       "Name: gross, Length: 200, dtype: float64"
      ]
     },
     "execution_count": 174,
     "metadata": {},
     "output_type": "execute_result"
    }
   ],
   "source": [
    "actors_genres_sub.groupby('actor').mean()['gross'].sort_values(ascending=False)\n",
    "# Sorts actors by the average profitability of the movies that they are in."
   ]
  },
  {
   "cell_type": "markdown",
   "metadata": {},
   "source": [
    "Based on the above, it looks like we should target Robert Downey Jr., Robert Pattinson, Jennifer Lawrence, Scarlett Johansson and Daniel Radcliffe if we want a profitable movie!"
   ]
  },
  {
   "cell_type": "code",
   "execution_count": 175,
   "metadata": {},
   "outputs": [
    {
     "data": {
      "text/plain": [
       "actor\n",
       "John Ratzenberger    7.890000\n",
       "Tom Hanks            7.737500\n",
       "Albert Finney        7.700000\n",
       "Orlando Bloom        7.677778\n",
       "Tom Hardy            7.575000\n",
       "                       ...   \n",
       "Michael Jai White    5.085714\n",
       "Udo Kier             4.933333\n",
       "Alexa PenaVega       4.928571\n",
       "Taylor Lautner       4.900000\n",
       "Jesse McCartney      4.775000\n",
       "Name: imdb_score, Length: 200, dtype: float64"
      ]
     },
     "execution_count": 175,
     "metadata": {},
     "output_type": "execute_result"
    }
   ],
   "source": [
    "actors_genres_sub.groupby('actor').mean()['imdb_score'].sort_values(ascending=False)"
   ]
  },
  {
   "cell_type": "markdown",
   "metadata": {},
   "source": [
    "The above sorts the top 200 actors in the specified genres by the average IMDB score for the movies they are in. None of the names in here appear in the most profitable"
   ]
  },
  {
   "cell_type": "markdown",
   "metadata": {},
   "source": [
    "# Data Understanding "
   ]
  },
  {
   "cell_type": "code",
   "execution_count": 176,
   "metadata": {},
   "outputs": [],
   "source": [
    "df_keywords1 = pd.read_csv('zippedData/movie_metadata.csv')"
   ]
  },
  {
   "cell_type": "code",
   "execution_count": 177,
   "metadata": {},
   "outputs": [
    {
     "data": {
      "text/plain": [
       "'avatar|future|marine|native|paraplegic'"
      ]
     },
     "execution_count": 177,
     "metadata": {},
     "output_type": "execute_result"
    }
   ],
   "source": [
    "df_keywords1['plot_keywords'][0]"
   ]
  },
  {
   "cell_type": "markdown",
   "metadata": {},
   "source": [
    "The dataset has a column for keywords in the plot (shown above), but similar to genre it has more than one keyword per movie and the keywords are divided by a \"|\". "
   ]
  },
  {
   "cell_type": "code",
   "execution_count": 178,
   "metadata": {},
   "outputs": [],
   "source": [
    "def split_keyword1(keywords):\n",
    "      return keywords.split('|')[0]\n",
    "\n",
    "def split_keyword2(keywords):\n",
    "        if len(keywords.split('|')) > 1:\n",
    "            return keywords.split('|')[1]\n",
    "        else:\n",
    "            return \"No second keyword\"\n",
    "\n",
    "def split_keyword3(keywords):\n",
    "        if len(keywords.split('|')) > 2:\n",
    "            return keywords.split('|')[2]\n",
    "        else:\n",
    "            return \"No third keyword\"\n",
    "\n",
    "def split_keyword4(keywords):\n",
    "        if len(keywords.split('|')) > 3:\n",
    "            return keywords.split('|')[3]\n",
    "        else:\n",
    "            return \"No fourth keyword\"\n",
    "\n",
    "def split_keyword5(keywords):\n",
    "        if len(keywords.split('|')) > 4:\n",
    "            return keywords.split('|')[4]\n",
    "        else:\n",
    "            return \"No fifth keyword\""
   ]
  },
  {
   "cell_type": "markdown",
   "metadata": {},
   "source": [
    "The code above is a little messy but it creates 5 different functions that each return one of the keywords in the column. The function \"split_keyword1\" returns the first keyword, the function \"split_keyword2\" returns the second keyword and so on. The if statement within the function exists in case there are titles with only 1 or 2 keywords. If this is the case, without the if statement there would be an error message if we attempted to run 'split_keyword5'. Instead, the function returns the string \"No fifth keyword\""
   ]
  },
  {
   "cell_type": "code",
   "execution_count": 179,
   "metadata": {},
   "outputs": [],
   "source": [
    "df_keywords1.dropna(subset=['plot_keywords'], inplace=True)\n",
    "df_keywords1['plot_keywords'] = df_keywords1['plot_keywords'].apply(split_keyword1)"
   ]
  },
  {
   "cell_type": "code",
   "execution_count": 180,
   "metadata": {},
   "outputs": [],
   "source": [
    "df_keywords2 = pd.read_csv('zippedData/movie_metadata.csv')\n",
    "df_keywords2.dropna(subset=['plot_keywords'], inplace=True)\n",
    "df_keywords2['plot_keywords'] = df_keywords2['plot_keywords'].apply(split_keyword2)"
   ]
  },
  {
   "cell_type": "code",
   "execution_count": 181,
   "metadata": {},
   "outputs": [],
   "source": [
    "df_keywords3 = pd.read_csv('zippedData/movie_metadata.csv')\n",
    "df_keywords3.dropna(subset=['plot_keywords'], inplace=True)\n",
    "df_keywords3['plot_keywords'] = df_keywords3['plot_keywords'].apply(split_keyword3)"
   ]
  },
  {
   "cell_type": "code",
   "execution_count": 182,
   "metadata": {},
   "outputs": [],
   "source": [
    "df_keywords4 = pd.read_csv('zippedData/movie_metadata.csv')\n",
    "df_keywords4.dropna(subset=['plot_keywords'], inplace=True)\n",
    "df_keywords4['plot_keywords'] = df_keywords4['plot_keywords'].apply(split_keyword4)"
   ]
  },
  {
   "cell_type": "code",
   "execution_count": 183,
   "metadata": {},
   "outputs": [],
   "source": [
    "df_keywords5 = pd.read_csv('zippedData/movie_metadata.csv')\n",
    "df_keywords5.dropna(subset=['plot_keywords'], inplace=True)\n",
    "df_keywords5['plot_keywords'] = df_keywords5['plot_keywords'].apply(split_keyword5)"
   ]
  },
  {
   "cell_type": "code",
   "execution_count": 184,
   "metadata": {},
   "outputs": [],
   "source": [
    "df_keywords = pd.concat([df_keywords1,df_keywords2, df_keywords3, df_keywords4, df_keywords5])"
   ]
  },
  {
   "cell_type": "code",
   "execution_count": 185,
   "metadata": {
    "scrolled": true
   },
   "outputs": [
    {
     "data": {
      "text/html": [
       "<div>\n",
       "<style scoped>\n",
       "    .dataframe tbody tr th:only-of-type {\n",
       "        vertical-align: middle;\n",
       "    }\n",
       "\n",
       "    .dataframe tbody tr th {\n",
       "        vertical-align: top;\n",
       "    }\n",
       "\n",
       "    .dataframe thead th {\n",
       "        text-align: right;\n",
       "    }\n",
       "</style>\n",
       "<table border=\"1\" class=\"dataframe\">\n",
       "  <thead>\n",
       "    <tr style=\"text-align: right;\">\n",
       "      <th></th>\n",
       "      <th>color</th>\n",
       "      <th>director_name</th>\n",
       "      <th>num_critic_for_reviews</th>\n",
       "      <th>duration</th>\n",
       "      <th>director_facebook_likes</th>\n",
       "      <th>actor_3_facebook_likes</th>\n",
       "      <th>actor_2_name</th>\n",
       "      <th>actor_1_facebook_likes</th>\n",
       "      <th>gross</th>\n",
       "      <th>genres</th>\n",
       "      <th>...</th>\n",
       "      <th>num_user_for_reviews</th>\n",
       "      <th>language</th>\n",
       "      <th>country</th>\n",
       "      <th>content_rating</th>\n",
       "      <th>budget</th>\n",
       "      <th>title_year</th>\n",
       "      <th>actor_2_facebook_likes</th>\n",
       "      <th>imdb_score</th>\n",
       "      <th>aspect_ratio</th>\n",
       "      <th>movie_facebook_likes</th>\n",
       "    </tr>\n",
       "  </thead>\n",
       "  <tbody>\n",
       "    <tr>\n",
       "      <th>0</th>\n",
       "      <td>Color</td>\n",
       "      <td>James Cameron</td>\n",
       "      <td>723.0</td>\n",
       "      <td>178.0</td>\n",
       "      <td>0.0</td>\n",
       "      <td>855.0</td>\n",
       "      <td>Joel David Moore</td>\n",
       "      <td>1000.0</td>\n",
       "      <td>760505847.0</td>\n",
       "      <td>Action|Adventure|Fantasy|Sci-Fi</td>\n",
       "      <td>...</td>\n",
       "      <td>3054.0</td>\n",
       "      <td>English</td>\n",
       "      <td>USA</td>\n",
       "      <td>PG-13</td>\n",
       "      <td>237000000.0</td>\n",
       "      <td>2009.0</td>\n",
       "      <td>936.0</td>\n",
       "      <td>7.9</td>\n",
       "      <td>1.78</td>\n",
       "      <td>33000</td>\n",
       "    </tr>\n",
       "    <tr>\n",
       "      <th>1</th>\n",
       "      <td>Color</td>\n",
       "      <td>Gore Verbinski</td>\n",
       "      <td>302.0</td>\n",
       "      <td>169.0</td>\n",
       "      <td>563.0</td>\n",
       "      <td>1000.0</td>\n",
       "      <td>Orlando Bloom</td>\n",
       "      <td>40000.0</td>\n",
       "      <td>309404152.0</td>\n",
       "      <td>Action|Adventure|Fantasy</td>\n",
       "      <td>...</td>\n",
       "      <td>1238.0</td>\n",
       "      <td>English</td>\n",
       "      <td>USA</td>\n",
       "      <td>PG-13</td>\n",
       "      <td>300000000.0</td>\n",
       "      <td>2007.0</td>\n",
       "      <td>5000.0</td>\n",
       "      <td>7.1</td>\n",
       "      <td>2.35</td>\n",
       "      <td>0</td>\n",
       "    </tr>\n",
       "    <tr>\n",
       "      <th>2</th>\n",
       "      <td>Color</td>\n",
       "      <td>Sam Mendes</td>\n",
       "      <td>602.0</td>\n",
       "      <td>148.0</td>\n",
       "      <td>0.0</td>\n",
       "      <td>161.0</td>\n",
       "      <td>Rory Kinnear</td>\n",
       "      <td>11000.0</td>\n",
       "      <td>200074175.0</td>\n",
       "      <td>Action|Adventure|Thriller</td>\n",
       "      <td>...</td>\n",
       "      <td>994.0</td>\n",
       "      <td>English</td>\n",
       "      <td>UK</td>\n",
       "      <td>PG-13</td>\n",
       "      <td>245000000.0</td>\n",
       "      <td>2015.0</td>\n",
       "      <td>393.0</td>\n",
       "      <td>6.8</td>\n",
       "      <td>2.35</td>\n",
       "      <td>85000</td>\n",
       "    </tr>\n",
       "    <tr>\n",
       "      <th>3</th>\n",
       "      <td>Color</td>\n",
       "      <td>Christopher Nolan</td>\n",
       "      <td>813.0</td>\n",
       "      <td>164.0</td>\n",
       "      <td>22000.0</td>\n",
       "      <td>23000.0</td>\n",
       "      <td>Christian Bale</td>\n",
       "      <td>27000.0</td>\n",
       "      <td>448130642.0</td>\n",
       "      <td>Action|Thriller</td>\n",
       "      <td>...</td>\n",
       "      <td>2701.0</td>\n",
       "      <td>English</td>\n",
       "      <td>USA</td>\n",
       "      <td>PG-13</td>\n",
       "      <td>250000000.0</td>\n",
       "      <td>2012.0</td>\n",
       "      <td>23000.0</td>\n",
       "      <td>8.5</td>\n",
       "      <td>2.35</td>\n",
       "      <td>164000</td>\n",
       "    </tr>\n",
       "    <tr>\n",
       "      <th>5</th>\n",
       "      <td>Color</td>\n",
       "      <td>Andrew Stanton</td>\n",
       "      <td>462.0</td>\n",
       "      <td>132.0</td>\n",
       "      <td>475.0</td>\n",
       "      <td>530.0</td>\n",
       "      <td>Samantha Morton</td>\n",
       "      <td>640.0</td>\n",
       "      <td>73058679.0</td>\n",
       "      <td>Action|Adventure|Sci-Fi</td>\n",
       "      <td>...</td>\n",
       "      <td>738.0</td>\n",
       "      <td>English</td>\n",
       "      <td>USA</td>\n",
       "      <td>PG-13</td>\n",
       "      <td>263700000.0</td>\n",
       "      <td>2012.0</td>\n",
       "      <td>632.0</td>\n",
       "      <td>6.6</td>\n",
       "      <td>2.35</td>\n",
       "      <td>24000</td>\n",
       "    </tr>\n",
       "    <tr>\n",
       "      <th>...</th>\n",
       "      <td>...</td>\n",
       "      <td>...</td>\n",
       "      <td>...</td>\n",
       "      <td>...</td>\n",
       "      <td>...</td>\n",
       "      <td>...</td>\n",
       "      <td>...</td>\n",
       "      <td>...</td>\n",
       "      <td>...</td>\n",
       "      <td>...</td>\n",
       "      <td>...</td>\n",
       "      <td>...</td>\n",
       "      <td>...</td>\n",
       "      <td>...</td>\n",
       "      <td>...</td>\n",
       "      <td>...</td>\n",
       "      <td>...</td>\n",
       "      <td>...</td>\n",
       "      <td>...</td>\n",
       "      <td>...</td>\n",
       "      <td>...</td>\n",
       "    </tr>\n",
       "    <tr>\n",
       "      <th>5036</th>\n",
       "      <td>Color</td>\n",
       "      <td>Anthony Vallone</td>\n",
       "      <td>NaN</td>\n",
       "      <td>84.0</td>\n",
       "      <td>2.0</td>\n",
       "      <td>2.0</td>\n",
       "      <td>John Considine</td>\n",
       "      <td>45.0</td>\n",
       "      <td>NaN</td>\n",
       "      <td>Crime|Drama</td>\n",
       "      <td>...</td>\n",
       "      <td>1.0</td>\n",
       "      <td>English</td>\n",
       "      <td>USA</td>\n",
       "      <td>PG-13</td>\n",
       "      <td>3250.0</td>\n",
       "      <td>2005.0</td>\n",
       "      <td>44.0</td>\n",
       "      <td>7.8</td>\n",
       "      <td>NaN</td>\n",
       "      <td>4</td>\n",
       "    </tr>\n",
       "    <tr>\n",
       "      <th>5037</th>\n",
       "      <td>Color</td>\n",
       "      <td>Edward Burns</td>\n",
       "      <td>14.0</td>\n",
       "      <td>95.0</td>\n",
       "      <td>0.0</td>\n",
       "      <td>133.0</td>\n",
       "      <td>Caitlin FitzGerald</td>\n",
       "      <td>296.0</td>\n",
       "      <td>4584.0</td>\n",
       "      <td>Comedy|Drama</td>\n",
       "      <td>...</td>\n",
       "      <td>14.0</td>\n",
       "      <td>English</td>\n",
       "      <td>USA</td>\n",
       "      <td>Not Rated</td>\n",
       "      <td>9000.0</td>\n",
       "      <td>2011.0</td>\n",
       "      <td>205.0</td>\n",
       "      <td>6.4</td>\n",
       "      <td>NaN</td>\n",
       "      <td>413</td>\n",
       "    </tr>\n",
       "    <tr>\n",
       "      <th>5038</th>\n",
       "      <td>Color</td>\n",
       "      <td>Scott Smith</td>\n",
       "      <td>1.0</td>\n",
       "      <td>87.0</td>\n",
       "      <td>2.0</td>\n",
       "      <td>318.0</td>\n",
       "      <td>Daphne Zuniga</td>\n",
       "      <td>637.0</td>\n",
       "      <td>NaN</td>\n",
       "      <td>Comedy|Drama</td>\n",
       "      <td>...</td>\n",
       "      <td>6.0</td>\n",
       "      <td>English</td>\n",
       "      <td>Canada</td>\n",
       "      <td>NaN</td>\n",
       "      <td>NaN</td>\n",
       "      <td>2013.0</td>\n",
       "      <td>470.0</td>\n",
       "      <td>7.7</td>\n",
       "      <td>NaN</td>\n",
       "      <td>84</td>\n",
       "    </tr>\n",
       "    <tr>\n",
       "      <th>5039</th>\n",
       "      <td>Color</td>\n",
       "      <td>NaN</td>\n",
       "      <td>43.0</td>\n",
       "      <td>43.0</td>\n",
       "      <td>NaN</td>\n",
       "      <td>319.0</td>\n",
       "      <td>Valorie Curry</td>\n",
       "      <td>841.0</td>\n",
       "      <td>NaN</td>\n",
       "      <td>Crime|Drama|Mystery|Thriller</td>\n",
       "      <td>...</td>\n",
       "      <td>359.0</td>\n",
       "      <td>English</td>\n",
       "      <td>USA</td>\n",
       "      <td>TV-14</td>\n",
       "      <td>NaN</td>\n",
       "      <td>NaN</td>\n",
       "      <td>593.0</td>\n",
       "      <td>7.5</td>\n",
       "      <td>16.00</td>\n",
       "      <td>32000</td>\n",
       "    </tr>\n",
       "    <tr>\n",
       "      <th>5042</th>\n",
       "      <td>Color</td>\n",
       "      <td>Jon Gunn</td>\n",
       "      <td>43.0</td>\n",
       "      <td>90.0</td>\n",
       "      <td>16.0</td>\n",
       "      <td>16.0</td>\n",
       "      <td>Brian Herzlinger</td>\n",
       "      <td>86.0</td>\n",
       "      <td>85222.0</td>\n",
       "      <td>Documentary</td>\n",
       "      <td>...</td>\n",
       "      <td>84.0</td>\n",
       "      <td>English</td>\n",
       "      <td>USA</td>\n",
       "      <td>PG</td>\n",
       "      <td>1100.0</td>\n",
       "      <td>2004.0</td>\n",
       "      <td>23.0</td>\n",
       "      <td>6.6</td>\n",
       "      <td>1.85</td>\n",
       "      <td>456</td>\n",
       "    </tr>\n",
       "  </tbody>\n",
       "</table>\n",
       "<p>24450 rows × 28 columns</p>\n",
       "</div>"
      ],
      "text/plain": [
       "      color      director_name  num_critic_for_reviews  duration  \\\n",
       "0     Color      James Cameron                   723.0     178.0   \n",
       "1     Color     Gore Verbinski                   302.0     169.0   \n",
       "2     Color         Sam Mendes                   602.0     148.0   \n",
       "3     Color  Christopher Nolan                   813.0     164.0   \n",
       "5     Color     Andrew Stanton                   462.0     132.0   \n",
       "...     ...                ...                     ...       ...   \n",
       "5036  Color    Anthony Vallone                     NaN      84.0   \n",
       "5037  Color       Edward Burns                    14.0      95.0   \n",
       "5038  Color        Scott Smith                     1.0      87.0   \n",
       "5039  Color                NaN                    43.0      43.0   \n",
       "5042  Color           Jon Gunn                    43.0      90.0   \n",
       "\n",
       "      director_facebook_likes  actor_3_facebook_likes        actor_2_name  \\\n",
       "0                         0.0                   855.0    Joel David Moore   \n",
       "1                       563.0                  1000.0       Orlando Bloom   \n",
       "2                         0.0                   161.0        Rory Kinnear   \n",
       "3                     22000.0                 23000.0      Christian Bale   \n",
       "5                       475.0                   530.0     Samantha Morton   \n",
       "...                       ...                     ...                 ...   \n",
       "5036                      2.0                     2.0      John Considine   \n",
       "5037                      0.0                   133.0  Caitlin FitzGerald   \n",
       "5038                      2.0                   318.0       Daphne Zuniga   \n",
       "5039                      NaN                   319.0       Valorie Curry   \n",
       "5042                     16.0                    16.0    Brian Herzlinger   \n",
       "\n",
       "      actor_1_facebook_likes        gross                           genres  \\\n",
       "0                     1000.0  760505847.0  Action|Adventure|Fantasy|Sci-Fi   \n",
       "1                    40000.0  309404152.0         Action|Adventure|Fantasy   \n",
       "2                    11000.0  200074175.0        Action|Adventure|Thriller   \n",
       "3                    27000.0  448130642.0                  Action|Thriller   \n",
       "5                      640.0   73058679.0          Action|Adventure|Sci-Fi   \n",
       "...                      ...          ...                              ...   \n",
       "5036                    45.0          NaN                      Crime|Drama   \n",
       "5037                   296.0       4584.0                     Comedy|Drama   \n",
       "5038                   637.0          NaN                     Comedy|Drama   \n",
       "5039                   841.0          NaN     Crime|Drama|Mystery|Thriller   \n",
       "5042                    86.0      85222.0                      Documentary   \n",
       "\n",
       "      ... num_user_for_reviews language  country  content_rating       budget  \\\n",
       "0     ...               3054.0  English      USA           PG-13  237000000.0   \n",
       "1     ...               1238.0  English      USA           PG-13  300000000.0   \n",
       "2     ...                994.0  English       UK           PG-13  245000000.0   \n",
       "3     ...               2701.0  English      USA           PG-13  250000000.0   \n",
       "5     ...                738.0  English      USA           PG-13  263700000.0   \n",
       "...   ...                  ...      ...      ...             ...          ...   \n",
       "5036  ...                  1.0  English      USA           PG-13       3250.0   \n",
       "5037  ...                 14.0  English      USA       Not Rated       9000.0   \n",
       "5038  ...                  6.0  English   Canada             NaN          NaN   \n",
       "5039  ...                359.0  English      USA           TV-14          NaN   \n",
       "5042  ...                 84.0  English      USA              PG       1100.0   \n",
       "\n",
       "      title_year actor_2_facebook_likes imdb_score  aspect_ratio  \\\n",
       "0         2009.0                  936.0        7.9          1.78   \n",
       "1         2007.0                 5000.0        7.1          2.35   \n",
       "2         2015.0                  393.0        6.8          2.35   \n",
       "3         2012.0                23000.0        8.5          2.35   \n",
       "5         2012.0                  632.0        6.6          2.35   \n",
       "...          ...                    ...        ...           ...   \n",
       "5036      2005.0                   44.0        7.8           NaN   \n",
       "5037      2011.0                  205.0        6.4           NaN   \n",
       "5038      2013.0                  470.0        7.7           NaN   \n",
       "5039         NaN                  593.0        7.5         16.00   \n",
       "5042      2004.0                   23.0        6.6          1.85   \n",
       "\n",
       "     movie_facebook_likes  \n",
       "0                   33000  \n",
       "1                       0  \n",
       "2                   85000  \n",
       "3                  164000  \n",
       "5                   24000  \n",
       "...                   ...  \n",
       "5036                    4  \n",
       "5037                  413  \n",
       "5038                   84  \n",
       "5039                32000  \n",
       "5042                  456  \n",
       "\n",
       "[24450 rows x 28 columns]"
      ]
     },
     "execution_count": 185,
     "metadata": {},
     "output_type": "execute_result"
    }
   ],
   "source": [
    "df_keywords"
   ]
  },
  {
   "cell_type": "markdown",
   "metadata": {},
   "source": [
    "The above is a little repetitive. It creates 5 new dataframes and populated each one with one of the title keywords. dataframe 1 has the first keyword in the 'plot_keyword column', dataframe 2 has the second keyword in the 'plot_keyword' and so on. "
   ]
  },
  {
   "cell_type": "code",
   "execution_count": 186,
   "metadata": {},
   "outputs": [],
   "source": [
    "df_keywords = df_keywords[df_keywords['plot_keywords'] != \"No second keyword\"] \n",
    "df_keywords = df_keywords[df_keywords['plot_keywords'] != \"No third keyword\"] \n",
    "df_keywords = df_keywords[df_keywords['plot_keywords'] != \"No fourth keyword\"] \n",
    "df_keywords = df_keywords[df_keywords['plot_keywords'] != \"No fifth keyword\"] \n",
    "\n",
    "# The above eliminates all the instances in which the function didn't have a keyword"
   ]
  },
  {
   "cell_type": "markdown",
   "metadata": {},
   "source": [
    "# Business Understanding"
   ]
  },
  {
   "cell_type": "code",
   "execution_count": 187,
   "metadata": {},
   "outputs": [],
   "source": [
    "x= list(df_keywords['plot_keywords'].value_counts().index[0:10])\n",
    "y= list(df_keywords['plot_keywords'].value_counts().values[0:10])"
   ]
  },
  {
   "cell_type": "code",
   "execution_count": 188,
   "metadata": {},
   "outputs": [
    {
     "name": "stderr",
     "output_type": "stream",
     "text": [
      "/Users/kevinmcdonough/opt/anaconda3/envs/learn-env/lib/python3.8/site-packages/seaborn/_decorators.py:36: FutureWarning: Pass the following variables as keyword args: x, y. From version 0.12, the only valid positional argument will be `data`, and passing other arguments without an explicit keyword will result in an error or misinterpretation.\n",
      "  warnings.warn(\n"
     ]
    },
    {
     "data": {
      "image/png": "[encoded data removed]",
      "text/plain": [
       "<Figure size 864x576 with 1 Axes>"
      ]
     },
     "metadata": {
      "needs_background": "light"
     },
     "output_type": "display_data"
    }
   ],
   "source": [
    "fig, ax = plt.subplots(figsize=[12,8])\n",
    "ax = sns.barplot(x,y)\n",
    "ax.set_xlabel('Plot Theme')\n",
    "ax.set_ylabel('Movie Counts')\n",
    "ax.set_title('Most Popular Movie Themes');"
   ]
  },
  {
   "cell_type": "markdown",
   "metadata": {},
   "source": [
    "Using our new dataframe of keywords, we created a list of the top 10 words and their associated counts above. The plot word that appears most often is \"Love\", awwwwwwwww! "
   ]
  },
  {
   "cell_type": "code",
   "execution_count": 193,
   "metadata": {},
   "outputs": [],
   "source": [
    "top_100_keywords = list(df_keywords['plot_keywords'].value_counts().index[0:100])"
   ]
  },
  {
   "cell_type": "code",
   "execution_count": 194,
   "metadata": {},
   "outputs": [],
   "source": [
    "df_keyword_sub = df_keywords[df_keywords['plot_keywords'].isin(top_100_keywords)]\n",
    "df_keyword_sub = df_keyword_sub.dropna(subset=['gross'])"
   ]
  },
  {
   "cell_type": "markdown",
   "metadata": {},
   "source": [
    "The above creates a list of 100 keywords that appear most frequently in the dataset and then filters out all movies that don't contain a keyword in this list and also filters out entries that don't have a value in the 'gross column'"
   ]
  },
  {
   "cell_type": "code",
   "execution_count": 195,
   "metadata": {},
   "outputs": [
    {
     "data": {
      "text/plain": [
       "plot_keywords\n",
       "superhero                   136.025491\n",
       "princess                    118.124350\n",
       "magic                       111.002026\n",
       "battle                      101.337732\n",
       "monster                      97.822698\n",
       "                               ...    \n",
       "gay                          20.367470\n",
       "female frontal nudity        19.785387\n",
       "box office flop              18.272964\n",
       "title directed by female     16.599813\n",
       "sex                          16.067441\n",
       "Name: gross, Length: 100, dtype: float64"
      ]
     },
     "execution_count": 195,
     "metadata": {},
     "output_type": "execute_result"
    }
   ],
   "source": [
    "df_keyword_sub['gross'] = df_keyword_sub['gross'].apply(lambda x: x/1000000)\n",
    "df_keyword_sub.groupby('plot_keywords').mean()['gross'].sort_values(ascending=False)"
   ]
  },
  {
   "cell_type": "code",
   "execution_count": 196,
   "metadata": {},
   "outputs": [],
   "source": [
    "x = df_keyword_sub.groupby('plot_keywords').mean()['gross'].sort_values(ascending=False).index[0:10]\n",
    "y = df_keyword_sub.groupby('plot_keywords').mean()['gross'].sort_values(ascending=False).values[0:10]"
   ]
  },
  {
   "cell_type": "code",
   "execution_count": 203,
   "metadata": {},
   "outputs": [
    {
     "name": "stderr",
     "output_type": "stream",
     "text": [
      "/Users/kevinmcdonough/opt/anaconda3/envs/learn-env/lib/python3.8/site-packages/seaborn/_decorators.py:36: FutureWarning: Pass the following variables as keyword args: x, y. From version 0.12, the only valid positional argument will be `data`, and passing other arguments without an explicit keyword will result in an error or misinterpretation.\n",
      "  warnings.warn(\n"
     ]
    },
    {
     "data": {
      "image/png": "[encoded data removed]",
      "text/plain": [
       "<Figure size 864x576 with 1 Axes>"
      ]
     },
     "metadata": {
      "needs_background": "light"
     },
     "output_type": "display_data"
    }
   ],
   "source": [
    "fig, ax = plt.subplots(figsize=[12,8])\n",
    "ax = sns.barplot(x,y)\n",
    "ax.set_xlabel('Plot Theme')\n",
    "ax.set_ylabel('Average Domestic Gross Revenue (in $mm)')\n",
    "ax.set_title('Average Gross Revenue for Highest Grossing Plot Themes');"
   ]
  },
  {
   "cell_type": "markdown",
   "metadata": {},
   "source": [
    "Above, we grouped movies by keywords (aka plot themes) and then calculated the average revenue of movies containing that theme. The top 10 themes associated with the highest revenue are listed above. Due to this output, we would recommend creating a movie that has one of these themes"
   ]
  }
 ],
 "metadata": {
  "kernelspec": {
   "display_name": "Python (learn-env)",
   "language": "python",
   "name": "learn-env"
  },
  "language_info": {
   "codemirror_mode": {
    "name": "ipython",
    "version": 3
   },
   "file_extension": ".py",
   "mimetype": "text/x-python",
   "name": "python",
   "nbconvert_exporter": "python",
   "pygments_lexer": "ipython3",
   "version": "3.8.5"
  }
 },
 "nbformat": 4,
 "nbformat_minor": 4
}
