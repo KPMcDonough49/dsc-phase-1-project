{
 "cells": [
  {
   "cell_type": "code",
   "execution_count": 410,
   "metadata": {},
   "outputs": [],
   "source": [
    "import seaborn as sns\n",
    "from matplotlib import pyplot as plt\n",
    "import numpy as np\n",
    "from scipy import stats\n",
    "from sklearn.datasets import load_iris\n",
    "import pandas as pd"
   ]
  },
  {
   "cell_type": "code",
   "execution_count": 411,
   "metadata": {},
   "outputs": [],
   "source": [
    "df_rt1 = pd.read_csv('zippedData/rt.movie_info.tsv.gz', sep='\\t')"
   ]
  },
  {
   "cell_type": "code",
   "execution_count": 412,
   "metadata": {},
   "outputs": [
    {
     "name": "stdout",
     "output_type": "stream",
     "text": [
      "<class 'pandas.core.frame.DataFrame'>\n",
      "RangeIndex: 1560 entries, 0 to 1559\n",
      "Data columns (total 12 columns):\n",
      " #   Column        Non-Null Count  Dtype \n",
      "---  ------        --------------  ----- \n",
      " 0   id            1560 non-null   int64 \n",
      " 1   synopsis      1498 non-null   object\n",
      " 2   rating        1557 non-null   object\n",
      " 3   genre         1552 non-null   object\n",
      " 4   director      1361 non-null   object\n",
      " 5   writer        1111 non-null   object\n",
      " 6   theater_date  1201 non-null   object\n",
      " 7   dvd_date      1201 non-null   object\n",
      " 8   currency      340 non-null    object\n",
      " 9   box_office    340 non-null    object\n",
      " 10  runtime       1530 non-null   object\n",
      " 11  studio        494 non-null    object\n",
      "dtypes: int64(1), object(11)\n",
      "memory usage: 146.4+ KB\n"
     ]
    }
   ],
   "source": [
    "df_rt1.info()"
   ]
  },
  {
   "cell_type": "code",
   "execution_count": 413,
   "metadata": {},
   "outputs": [],
   "source": [
    "df_rt2 = pd.read_csv('zippedData/rt.reviews.tsv.gz', sep='\\t', encoding=\"cp1252\")"
   ]
  },
  {
   "cell_type": "code",
   "execution_count": 414,
   "metadata": {},
   "outputs": [
    {
     "name": "stdout",
     "output_type": "stream",
     "text": [
      "<class 'pandas.core.frame.DataFrame'>\n",
      "RangeIndex: 54432 entries, 0 to 54431\n",
      "Data columns (total 8 columns):\n",
      " #   Column      Non-Null Count  Dtype \n",
      "---  ------      --------------  ----- \n",
      " 0   id          54432 non-null  int64 \n",
      " 1   review      48869 non-null  object\n",
      " 2   rating      40915 non-null  object\n",
      " 3   fresh       54432 non-null  object\n",
      " 4   critic      51710 non-null  object\n",
      " 5   top_critic  54432 non-null  int64 \n",
      " 6   publisher   54123 non-null  object\n",
      " 7   date        54432 non-null  object\n",
      "dtypes: int64(2), object(6)\n",
      "memory usage: 3.3+ MB\n"
     ]
    }
   ],
   "source": [
    "df_rt2.info()"
   ]
  },
  {
   "cell_type": "code",
   "execution_count": 415,
   "metadata": {},
   "outputs": [],
   "source": [
    "df_rt = df_rt1.merge(df_rt2, how='inner', on='id')"
   ]
  },
  {
   "cell_type": "code",
   "execution_count": 416,
   "metadata": {},
   "outputs": [
    {
     "name": "stdout",
     "output_type": "stream",
     "text": [
      "<class 'pandas.core.frame.DataFrame'>\n",
      "Int64Index: 54432 entries, 0 to 54431\n",
      "Data columns (total 19 columns):\n",
      " #   Column        Non-Null Count  Dtype \n",
      "---  ------        --------------  ----- \n",
      " 0   id            54432 non-null  int64 \n",
      " 1   synopsis      54300 non-null  object\n",
      " 2   rating_x      54346 non-null  object\n",
      " 3   genre         54345 non-null  object\n",
      " 4   director      48992 non-null  object\n",
      " 5   writer        45206 non-null  object\n",
      " 6   theater_date  53206 non-null  object\n",
      " 7   dvd_date      53206 non-null  object\n",
      " 8   currency      33310 non-null  object\n",
      " 9   box_office    33310 non-null  object\n",
      " 10  runtime       53594 non-null  object\n",
      " 11  studio        40125 non-null  object\n",
      " 12  review        48869 non-null  object\n",
      " 13  rating_y      40915 non-null  object\n",
      " 14  fresh         54432 non-null  object\n",
      " 15  critic        51710 non-null  object\n",
      " 16  top_critic    54432 non-null  int64 \n",
      " 17  publisher     54123 non-null  object\n",
      " 18  date          54432 non-null  object\n",
      "dtypes: int64(2), object(17)\n",
      "memory usage: 8.3+ MB\n"
     ]
    }
   ],
   "source": [
    "df_rt.info()"
   ]
  },
  {
   "cell_type": "code",
   "execution_count": 417,
   "metadata": {},
   "outputs": [],
   "source": [
    "df_rt['box_office'] = df_rt['box_office'].str.replace('[{}]'.format(string.punctuation), '')"
   ]
  },
  {
   "cell_type": "code",
   "execution_count": 418,
   "metadata": {},
   "outputs": [],
   "source": [
    "df_rt['box_office'] = df_rt['box_office'].apply(lambda x: float(x))"
   ]
  },
  {
   "cell_type": "code",
   "execution_count": 419,
   "metadata": {},
   "outputs": [],
   "source": [
    "df_rt['runtime'] = df_rt['runtime'].str.strip('minutes')"
   ]
  },
  {
   "cell_type": "code",
   "execution_count": 421,
   "metadata": {},
   "outputs": [],
   "source": [
    "df_rt['theater_date'] = pd.to_datetime(df_rt['theater_date'], )"
   ]
  },
  {
   "cell_type": "code",
   "execution_count": 422,
   "metadata": {},
   "outputs": [],
   "source": [
    "df_rt.dropna(subset=['rating_y'], inplace=True)"
   ]
  },
  {
   "cell_type": "code",
   "execution_count": 423,
   "metadata": {},
   "outputs": [],
   "source": [
    "ratings = list(df_rt['rating_y'].value_counts().index[0:186])"
   ]
  },
  {
   "cell_type": "code",
   "execution_count": 424,
   "metadata": {},
   "outputs": [
    {
     "data": {
      "text/plain": [
       "['3/5',\n",
       " '4/5',\n",
       " '3/4',\n",
       " '2/5',\n",
       " '2/4',\n",
       " '2.5/4',\n",
       " '3.5/4',\n",
       " '3.5/5',\n",
       " '5/5',\n",
       " 'B',\n",
       " '1/5',\n",
       " '1.5/4',\n",
       " '4/4',\n",
       " '2.5/5',\n",
       " 'B+',\n",
       " '1/4',\n",
       " 'B-',\n",
       " 'C',\n",
       " 'C+',\n",
       " '4.5/5',\n",
       " '7/10',\n",
       " 'A-',\n",
       " '8/10',\n",
       " 'C-',\n",
       " '6/10',\n",
       " '1.5/5',\n",
       " 'A',\n",
       " '5/10',\n",
       " 'D',\n",
       " '9/10',\n",
       " '4/10',\n",
       " 'D+',\n",
       " '0/5',\n",
       " '8',\n",
       " '3/10',\n",
       " '1',\n",
       " '0/4',\n",
       " '7',\n",
       " 'F',\n",
       " '0.5/4',\n",
       " 'D-',\n",
       " '6',\n",
       " 'A+',\n",
       " '2/10',\n",
       " '7.5/10',\n",
       " '0.5/5',\n",
       " '5',\n",
       " '8.5/10',\n",
       " '6.5/10',\n",
       " '4',\n",
       " '3',\n",
       " '9',\n",
       " '1/10',\n",
       " '5.5/10',\n",
       " '3.0/4',\n",
       " '4.5/10',\n",
       " '3.5',\n",
       " '9.5/10',\n",
       " '3/6',\n",
       " '3.0/5',\n",
       " '2.0/5',\n",
       " '4.0/4',\n",
       " '2',\n",
       " '5.0/5',\n",
       " '2.1/2',\n",
       " '4/6',\n",
       " '2/6',\n",
       " '2.5',\n",
       " '6/8',\n",
       " '2.7',\n",
       " '4.0/5',\n",
       " '0',\n",
       " '7.1/10',\n",
       " '6.0/10',\n",
       " '2.5/10',\n",
       " '5.9/10',\n",
       " 'R',\n",
       " '8.2/10',\n",
       " '1.5',\n",
       " '3.7',\n",
       " '5.0/10',\n",
       " '2.2',\n",
       " '4.5',\n",
       " '2.0/4',\n",
       " '8.0/10',\n",
       " '7.4/10',\n",
       " '0/10',\n",
       " '3.5/10',\n",
       " '6.8/10',\n",
       " '7.2/10',\n",
       " '7.9/10',\n",
       " '5.5/5',\n",
       " '5/6',\n",
       " '8.9/10',\n",
       " '1/6',\n",
       " '3.2',\n",
       " '1.5/10',\n",
       " '8.4/10',\n",
       " '7.7/10',\n",
       " '9.2/10',\n",
       " '1.0/4',\n",
       " '3.8/5',\n",
       " '4.7',\n",
       " '3.3/5',\n",
       " '2.4/5',\n",
       " '8.2',\n",
       " '3.0',\n",
       " '2/2',\n",
       " '4.9/10',\n",
       " '4.8',\n",
       " '8.1/10',\n",
       " '3.7/5',\n",
       " '8.8/10',\n",
       " '3.6/5',\n",
       " '7.0/10',\n",
       " 'N',\n",
       " '3.4',\n",
       " '6.9/10',\n",
       " '7.6/10',\n",
       " '7.8/10',\n",
       " '5.8/10',\n",
       " '5.8',\n",
       " '8.6/10',\n",
       " '9.0/10',\n",
       " '8.3/10',\n",
       " '8.7/10',\n",
       " '9.8',\n",
       " '1.9/5',\n",
       " '4.2/10',\n",
       " '4.2/5',\n",
       " '4.0',\n",
       " '2.3/5',\n",
       " '8.5',\n",
       " '3.1/5',\n",
       " '3.1',\n",
       " '5.2',\n",
       " '1-5',\n",
       " '2.3/4',\n",
       " '6.7',\n",
       " '9.0',\n",
       " '2.2/5',\n",
       " '1/2',\n",
       " '9.2',\n",
       " '3 1/2',\n",
       " '3.3',\n",
       " '3.8/10',\n",
       " '9.7',\n",
       " '1.6/5',\n",
       " '0/6',\n",
       " 'T',\n",
       " '2.3/10',\n",
       " '8.4',\n",
       " '5/4',\n",
       " '6.2/10',\n",
       " '4.9',\n",
       " '7.9',\n",
       " '4.3/10',\n",
       " '4.1',\n",
       " '3.0/10',\n",
       " '7.8',\n",
       " '2.6/6',\n",
       " '1.0',\n",
       " '4.1/10',\n",
       " '2.6/5',\n",
       " '5.9',\n",
       " 'F+',\n",
       " '6.3/10',\n",
       " '7.7',\n",
       " '4.4/5',\n",
       " '7.3',\n",
       " '4.0/10',\n",
       " '7.4',\n",
       " '9.6/10',\n",
       " '4.3/5',\n",
       " '0.5/10',\n",
       " '4.2',\n",
       " '7.3/10',\n",
       " '2.7/5',\n",
       " '8.9',\n",
       " '1.8',\n",
       " '1.7',\n",
       " 'F-',\n",
       " '3/2',\n",
       " '7.1',\n",
       " '6.2',\n",
       " '1.0/5']"
      ]
     },
     "execution_count": 424,
     "metadata": {},
     "output_type": "execute_result"
    }
   ],
   "source": [
    "ratings"
   ]
  },
  {
   "cell_type": "code",
   "execution_count": 425,
   "metadata": {},
   "outputs": [],
   "source": [
    "def standardize(rating):\n",
    "    if rating.endswith('5') and '/' in rating and '.' in rating:\n",
    "        return (float(rating[0:3]) / float(rating[-1])) * 100\n",
    "    elif rating.endswith('10') and '/' in rating and '.' in rating:\n",
    "        return (float(rating[0:3]) / float(rating[-2:])) * 100\n",
    "    elif rating.endswith('5') and '/' in rating:\n",
    "        return (float(rating[0]) / float(rating[-1])) * 100\n",
    "    elif rating.endswith('10') and '/' in rating:\n",
    "        return (float(rating[0]) / float(rating[-2:])) * 100\n",
    "    elif rating == 'A+':\n",
    "        return 98\n",
    "    elif rating == 'A':\n",
    "        return 95\n",
    "    elif rating == 'A-':\n",
    "        return 92\n",
    "    elif rating == 'B+':\n",
    "        return 88\n",
    "    elif rating == 'B':\n",
    "        return 85\n",
    "    elif rating == 'B-':\n",
    "        return 82\n",
    "    elif rating == 'C+':\n",
    "        return 78\n",
    "    elif rating == 'C':\n",
    "        return 75\n",
    "    elif rating == 'C-':\n",
    "        return 72\n",
    "    elif rating == 'D+': \n",
    "        return 68\n",
    "    elif rating == 'D':\n",
    "        return 65\n",
    "    elif rating == 'D-':\n",
    "        return 62\n",
    "        "
   ]
  },
  {
   "cell_type": "code",
   "execution_count": 426,
   "metadata": {},
   "outputs": [],
   "source": [
    "standardized_list = []\n",
    "for rating in ratings:\n",
    "    new_rating = standardize(rating)\n",
    "    standardized_list.append(new_rating)"
   ]
  },
  {
   "cell_type": "code",
   "execution_count": 427,
   "metadata": {},
   "outputs": [
    {
     "data": {
      "text/plain": [
       "91"
      ]
     },
     "execution_count": 427,
     "metadata": {},
     "output_type": "execute_result"
    }
   ],
   "source": [
    "standardized_list.index(110.00000000000001)"
   ]
  },
  {
   "cell_type": "code",
   "execution_count": 428,
   "metadata": {},
   "outputs": [],
   "source": [
    "df_rt['rating_y'] = df_rt['rating_y'].apply(standardize)"
   ]
  },
  {
   "cell_type": "code",
   "execution_count": 429,
   "metadata": {},
   "outputs": [],
   "source": [
    "df_rt.dropna(subset=['rating_y'], inplace=True)"
   ]
  },
  {
   "cell_type": "code",
   "execution_count": 430,
   "metadata": {},
   "outputs": [
    {
     "data": {
      "text/plain": [
       "0        60.0\n",
       "6        75.0\n",
       "7        40.0\n",
       "11       82.0\n",
       "13       85.0\n",
       "         ... \n",
       "54424    30.0\n",
       "54428    20.0\n",
       "54429    40.0\n",
       "54430    50.0\n",
       "54431    60.0\n",
       "Name: rating_y, Length: 26352, dtype: float64"
      ]
     },
     "execution_count": 430,
     "metadata": {},
     "output_type": "execute_result"
    }
   ],
   "source": [
    "df_rt['rating_y']"
   ]
  },
  {
   "cell_type": "code",
   "execution_count": 431,
   "metadata": {},
   "outputs": [
    {
     "data": {
      "image/png": "[encoded data removed]",
      "text/plain": [
       "<Figure size 432x288 with 1 Axes>"
      ]
     },
     "metadata": {
      "needs_background": "light"
     },
     "output_type": "display_data"
    }
   ],
   "source": [
    "fig, ax = plt.subplots()\n",
    "ax.hist(df_rt['rating_y']);"
   ]
  },
  {
   "cell_type": "code",
   "execution_count": 432,
   "metadata": {},
   "outputs": [],
   "source": [
    "df_rt.dropna(subset=['box_office'], inplace=True)"
   ]
  },
  {
   "cell_type": "code",
   "execution_count": 433,
   "metadata": {},
   "outputs": [],
   "source": [
    "def fresh(rating):\n",
    "    if rating == 'fresh':\n",
    "        return 1\n",
    "    elif rating == 'rotten':\n",
    "        return 0 "
   ]
  },
  {
   "cell_type": "code",
   "execution_count": 434,
   "metadata": {},
   "outputs": [],
   "source": [
    "df_rt['fresh'] = df_rt['fresh'].apply(fresh)"
   ]
  },
  {
   "cell_type": "code",
   "execution_count": 435,
   "metadata": {},
   "outputs": [
    {
     "data": {
      "text/plain": [
       "$    15686\n",
       "Name: currency, dtype: int64"
      ]
     },
     "execution_count": 435,
     "metadata": {},
     "output_type": "execute_result"
    }
   ],
   "source": [
    "df_rt['currency'].value_counts()"
   ]
  },
  {
   "cell_type": "code",
   "execution_count": 436,
   "metadata": {},
   "outputs": [],
   "source": [
    "df_rt['rating_y'] = df_rt.groupby('id')['rating_y'].transform(\n",
    "    lambda grp: np.mean(grp)\n",
    ")"
   ]
  },
  {
   "cell_type": "code",
   "execution_count": 445,
   "metadata": {},
   "outputs": [],
   "source": [
    "df_rt = df_rt.drop_duplicates(subset='id')"
   ]
  },
  {
   "cell_type": "code",
   "execution_count": 450,
   "metadata": {
    "scrolled": true
   },
   "outputs": [
    {
     "data": {
      "image/png": "[encoded data removed]",
      "text/plain": [
       "<Figure size 432x288 with 1 Axes>"
      ]
     },
     "metadata": {
      "needs_background": "light"
     },
     "output_type": "display_data"
    }
   ],
   "source": [
    "fig, ax = plt.subplots()\n",
    "x = df_rt['rating_y']\n",
    "y = df_rt['box_office']\n",
    "ax.scatter(x,y);"
   ]
  },
  {
   "cell_type": "code",
   "execution_count": 453,
   "metadata": {},
   "outputs": [
    {
     "data": {
      "text/plain": [
       "0                       Drama|Science Fiction and Fantasy\n",
       "318                                                Comedy\n",
       "427                                                 Drama\n",
       "521                                                 Drama\n",
       "726                                                 Drama\n",
       "                               ...                       \n",
       "53572    Action and Adventure|Art House and International\n",
       "53718    Action and Adventure|Science Fiction and Fantasy\n",
       "53887                                        Comedy|Drama\n",
       "53892            Art House and International|Comedy|Drama\n",
       "54175    Action and Adventure|Horror|Mystery and Suspense\n",
       "Name: genre, Length: 299, dtype: object"
      ]
     },
     "execution_count": 453,
     "metadata": {},
     "output_type": "execute_result"
    }
   ],
   "source": []
  },
  {
   "cell_type": "code",
   "execution_count": null,
   "metadata": {},
   "outputs": [],
   "source": []
  }
 ],
 "metadata": {
  "kernelspec": {
   "display_name": "Python (learn-env)",
   "language": "python",
   "name": "learn-env"
  },
  "language_info": {
   "codemirror_mode": {
    "name": "ipython",
    "version": 3
   },
   "file_extension": ".py",
   "mimetype": "text/x-python",
   "name": "python",
   "nbconvert_exporter": "python",
   "pygments_lexer": "ipython3",
   "version": "3.8.5"
  }
 },
 "nbformat": 4,
 "nbformat_minor": 4
}
