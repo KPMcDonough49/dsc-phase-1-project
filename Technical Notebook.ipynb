{
 "cells": [
  {
   "cell_type": "markdown",
   "metadata": {},
   "source": [
    "# Phase 1 Project Technical Notebook\n",
    "Authors: Victor Chen and Kevin McDonough \n",
    "\n"
   ]
  },
  {
   "cell_type": "code",
   "execution_count": 32,
   "metadata": {},
   "outputs": [],
   "source": [
    "import seaborn as sns\n",
    "from matplotlib import pyplot as plt\n",
    "import numpy as np\n",
    "from scipy import stats\n",
    "from sklearn.datasets import load_iris\n",
    "import pandas as pd"
   ]
  },
  {
   "cell_type": "markdown",
   "metadata": {},
   "source": [
    "## Rotten Tomatoes Data - Business Recommendation 1: High Critic Ratings Doesn't Necessarilly Translate to Box Office Success "
   ]
  },
  {
   "cell_type": "markdown",
   "metadata": {},
   "source": [
    "### Importing Rotten Tomatoes Files "
   ]
  },
  {
   "cell_type": "code",
   "execution_count": 33,
   "metadata": {},
   "outputs": [],
   "source": [
    "df_rt1 = pd.read_csv('zippedData/rt.movie_info.tsv.gz', sep='\\t')\n",
    "df_rt2 = pd.read_csv('zippedData/rt.reviews.tsv.gz', sep='\\t', encoding='iso8859_1')"
   ]
  },
  {
   "cell_type": "code",
   "execution_count": 34,
   "metadata": {},
   "outputs": [
    {
     "name": "stdout",
     "output_type": "stream",
     "text": [
      "<class 'pandas.core.frame.DataFrame'>\n",
      "RangeIndex: 1560 entries, 0 to 1559\n",
      "Data columns (total 12 columns):\n",
      " #   Column        Non-Null Count  Dtype \n",
      "---  ------        --------------  ----- \n",
      " 0   id            1560 non-null   int64 \n",
      " 1   synopsis      1498 non-null   object\n",
      " 2   rating        1557 non-null   object\n",
      " 3   genre         1552 non-null   object\n",
      " 4   director      1361 non-null   object\n",
      " 5   writer        1111 non-null   object\n",
      " 6   theater_date  1201 non-null   object\n",
      " 7   dvd_date      1201 non-null   object\n",
      " 8   currency      340 non-null    object\n",
      " 9   box_office    340 non-null    object\n",
      " 10  runtime       1530 non-null   object\n",
      " 11  studio        494 non-null    object\n",
      "dtypes: int64(1), object(11)\n",
      "memory usage: 146.4+ KB\n"
     ]
    }
   ],
   "source": [
    "df_rt1.info()"
   ]
  },
  {
   "cell_type": "code",
   "execution_count": 35,
   "metadata": {},
   "outputs": [
    {
     "name": "stdout",
     "output_type": "stream",
     "text": [
      "<class 'pandas.core.frame.DataFrame'>\n",
      "RangeIndex: 54432 entries, 0 to 54431\n",
      "Data columns (total 8 columns):\n",
      " #   Column      Non-Null Count  Dtype \n",
      "---  ------      --------------  ----- \n",
      " 0   id          54432 non-null  int64 \n",
      " 1   review      48869 non-null  object\n",
      " 2   rating      40915 non-null  object\n",
      " 3   fresh       54432 non-null  object\n",
      " 4   critic      51710 non-null  object\n",
      " 5   top_critic  54432 non-null  int64 \n",
      " 6   publisher   54123 non-null  object\n",
      " 7   date        54432 non-null  object\n",
      "dtypes: int64(2), object(6)\n",
      "memory usage: 3.3+ MB\n"
     ]
    }
   ],
   "source": [
    "df_rt2.info()"
   ]
  },
  {
   "cell_type": "markdown",
   "metadata": {},
   "source": [
    "The two rotten tomatoes datasets share a common attribute: 'id\", so we can merge them using this column"
   ]
  },
  {
   "cell_type": "markdown",
   "metadata": {},
   "source": [
    "### Data Cleaning:"
   ]
  },
  {
   "cell_type": "code",
   "execution_count": 36,
   "metadata": {},
   "outputs": [],
   "source": [
    "# Merges the two Rotten Tomatoes dataframes on their shared column: 'id'\n",
    "df_rt = df_rt1.merge(df_rt2, how='inner', on='id')"
   ]
  },
  {
   "cell_type": "code",
   "execution_count": 37,
   "metadata": {},
   "outputs": [],
   "source": [
    "import string\n",
    "df_rt['box_office'] = df_rt['box_office'].str.replace('[{}]'.format(string.punctuation), '')\n",
    "# Removes the commas from the box office column"
   ]
  },
  {
   "cell_type": "code",
   "execution_count": 38,
   "metadata": {},
   "outputs": [],
   "source": [
    "df_rt['box_office'] = df_rt['box_office'].apply(lambda x: float(x))\n",
    "# Changes the box office column from strings to floats"
   ]
  },
  {
   "cell_type": "code",
   "execution_count": 39,
   "metadata": {},
   "outputs": [],
   "source": [
    "df_rt['runtime'] = df_rt['runtime'].str.strip('minutes')\n",
    "# Strips the 'minutes' from the runtime column so that we can convert to an int "
   ]
  },
  {
   "cell_type": "code",
   "execution_count": 40,
   "metadata": {},
   "outputs": [],
   "source": [
    "df_rt['theater_date'] = pd.to_datetime(df_rt['theater_date'], )\n",
    "# Changes release date from string to datetime "
   ]
  },
  {
   "cell_type": "code",
   "execution_count": 41,
   "metadata": {},
   "outputs": [],
   "source": [
    "df_rt.dropna(subset=['rating_y'], inplace=True)\n",
    "# drops null values in the rating column"
   ]
  },
  {
   "cell_type": "code",
   "execution_count": 42,
   "metadata": {},
   "outputs": [
    {
     "data": {
      "text/plain": [
       "0       3/5\n",
       "6         C\n",
       "7       2/5\n",
       "11       B-\n",
       "12      2/4\n",
       "13        B\n",
       "14      3/4\n",
       "15      3/5\n",
       "16      4/5\n",
       "17        B\n",
       "18      2/4\n",
       "19      4/4\n",
       "20     6/10\n",
       "21      1/4\n",
       "22        8\n",
       "23      2/5\n",
       "24    2.5/4\n",
       "25     4/10\n",
       "27    2.5/4\n",
       "29    2.0/5\n",
       "Name: rating_y, dtype: object"
      ]
     },
     "execution_count": 42,
     "metadata": {},
     "output_type": "execute_result"
    }
   ],
   "source": [
    "df_rt['rating_y'][0:20]"
   ]
  },
  {
   "cell_type": "markdown",
   "metadata": {},
   "source": [
    "Based on the output above, the rating column is a mess. Some of the ratings are out of 5, some are out of 10, some are our of 4 and some are letter grades. If we want to use this column, we need to figure out a way to standardize it. "
   ]
  },
  {
   "cell_type": "code",
   "execution_count": 43,
   "metadata": {},
   "outputs": [],
   "source": [
    "def standardize(rating):\n",
    "    if rating.endswith('5') and '/' in rating and '.' in rating:\n",
    "        return (float(rating[0:3]) / float(rating[-1])) * 100\n",
    "    elif rating.endswith('10') and '/' in rating and '.' in rating:\n",
    "        return (float(rating[0:3]) / float(rating[-2:])) * 100\n",
    "    elif rating.endswith('5') and '/' in rating:\n",
    "        return (float(rating[0]) / float(rating[-1])) * 100\n",
    "    elif rating.endswith('10') and '/' in rating and len(rating) < 5:\n",
    "        return (float(rating[0]) / float(rating[-2:])) * 100\n",
    "    elif rating.endswith('10') and '/' in rating and len(rating) == 5:\n",
    "        return (float(rating[0:2]) / float(rating[-2:])) * 100\n",
    "    elif rating.endswith('4') and '/' in rating and '.' in rating:\n",
    "        return (float(rating[0:3]) / float(rating[-1])) * 100\n",
    "    elif rating.endswith('5') and '/' in rating:\n",
    "        return (float(rating[0]) / float(rating[-1])) * 100\n",
    "    elif rating == 'A+':\n",
    "        return 98\n",
    "    elif rating == 'A':\n",
    "        return 95\n",
    "    elif rating == 'A-':\n",
    "        return 92\n",
    "    elif rating == 'B+':\n",
    "        return 88\n",
    "    elif rating == 'B':\n",
    "        return 85\n",
    "    elif rating == 'B-':\n",
    "        return 82\n",
    "    elif rating == 'C+':\n",
    "        return 78\n",
    "    elif rating == 'C':\n",
    "        return 75\n",
    "    elif rating == 'C-':\n",
    "        return 72\n",
    "    elif rating == 'D+': \n",
    "        return 68\n",
    "    elif rating == 'D':\n",
    "        return 65\n",
    "    elif rating == 'D-':\n",
    "        return 62"
   ]
  },
  {
   "cell_type": "code",
   "execution_count": 44,
   "metadata": {
    "scrolled": true
   },
   "outputs": [
    {
     "data": {
      "text/plain": [
       "100.0"
      ]
     },
     "execution_count": 44,
     "metadata": {},
     "output_type": "execute_result"
    }
   ],
   "source": [
    "standardize('10.0/10')"
   ]
  },
  {
   "cell_type": "markdown",
   "metadata": {},
   "source": [
    "The function above takes in a rating and returns an integer from 0 to 100. Because the majority of data points in the 'ratings_y' column are either out of 5, 10, or in letter grade format this function will give us standardized ratings for a majority of the entries. "
   ]
  },
  {
   "cell_type": "code",
   "execution_count": 45,
   "metadata": {},
   "outputs": [
    {
     "data": {
      "text/plain": [
       "186"
      ]
     },
     "execution_count": 45,
     "metadata": {},
     "output_type": "execute_result"
    }
   ],
   "source": [
    "ratings = list(df_rt['rating_y'].value_counts().index[0:])\n",
    "len(ratings)\n",
    "# creates a list of all unique ratings so that we can test our function"
   ]
  },
  {
   "cell_type": "code",
   "execution_count": 46,
   "metadata": {},
   "outputs": [
    {
     "data": {
      "text/plain": [
       "0.5913978494623655"
      ]
     },
     "execution_count": 46,
     "metadata": {},
     "output_type": "execute_result"
    }
   ],
   "source": [
    "standardized_list = []\n",
    "for rating in ratings:\n",
    "    new_rating = standardize(rating)\n",
    "    standardized_list.append(new_rating)\n",
    "    \n",
    "none_count = []\n",
    "for item in standardized_list:\n",
    "    if item == None:\n",
    "        none_count.append(item)\n",
    "\n",
    "1 - (len(none_count)) / len(ratings)"
   ]
  },
  {
   "cell_type": "markdown",
   "metadata": {},
   "source": [
    "The above tells us that our function was able to capture ~60% of the unique review types. Although 60% doesn't sound great, the majority of reviews are in the common formats featured above so we won't lose too much data when we implement the function"
   ]
  },
  {
   "cell_type": "code",
   "execution_count": 47,
   "metadata": {},
   "outputs": [],
   "source": [
    "df_rt['rating_y'] = df_rt['rating_y'].apply(standardize)"
   ]
  },
  {
   "cell_type": "code",
   "execution_count": 48,
   "metadata": {},
   "outputs": [],
   "source": [
    "df_rt.dropna(subset=['rating_y'], inplace=True)"
   ]
  },
  {
   "cell_type": "code",
   "execution_count": 49,
   "metadata": {
    "scrolled": false
   },
   "outputs": [
    {
     "data": {
      "text/html": [
       "<div>\n",
       "<style scoped>\n",
       "    .dataframe tbody tr th:only-of-type {\n",
       "        vertical-align: middle;\n",
       "    }\n",
       "\n",
       "    .dataframe tbody tr th {\n",
       "        vertical-align: top;\n",
       "    }\n",
       "\n",
       "    .dataframe thead th {\n",
       "        text-align: right;\n",
       "    }\n",
       "</style>\n",
       "<table border=\"1\" class=\"dataframe\">\n",
       "  <thead>\n",
       "    <tr style=\"text-align: right;\">\n",
       "      <th></th>\n",
       "      <th>id</th>\n",
       "      <th>synopsis</th>\n",
       "      <th>rating_x</th>\n",
       "      <th>genre</th>\n",
       "      <th>director</th>\n",
       "      <th>writer</th>\n",
       "      <th>theater_date</th>\n",
       "      <th>dvd_date</th>\n",
       "      <th>currency</th>\n",
       "      <th>box_office</th>\n",
       "      <th>runtime</th>\n",
       "      <th>studio</th>\n",
       "      <th>review</th>\n",
       "      <th>rating_y</th>\n",
       "      <th>fresh</th>\n",
       "      <th>critic</th>\n",
       "      <th>top_critic</th>\n",
       "      <th>publisher</th>\n",
       "      <th>date</th>\n",
       "    </tr>\n",
       "  </thead>\n",
       "  <tbody>\n",
       "    <tr>\n",
       "      <th>0</th>\n",
       "      <td>3</td>\n",
       "      <td>New York City, not-too-distant-future: Eric Pa...</td>\n",
       "      <td>R</td>\n",
       "      <td>Drama|Science Fiction and Fantasy</td>\n",
       "      <td>David Cronenberg</td>\n",
       "      <td>David Cronenberg|Don DeLillo</td>\n",
       "      <td>2012-08-17</td>\n",
       "      <td>Jan 1, 2013</td>\n",
       "      <td>$</td>\n",
       "      <td>600000.0</td>\n",
       "      <td>108</td>\n",
       "      <td>Entertainment One</td>\n",
       "      <td>A distinctly gallows take on contemporary fina...</td>\n",
       "      <td>60.0</td>\n",
       "      <td>fresh</td>\n",
       "      <td>PJ Nabarro</td>\n",
       "      <td>0</td>\n",
       "      <td>Patrick Nabarro</td>\n",
       "      <td>November 10, 2018</td>\n",
       "    </tr>\n",
       "    <tr>\n",
       "      <th>6</th>\n",
       "      <td>3</td>\n",
       "      <td>New York City, not-too-distant-future: Eric Pa...</td>\n",
       "      <td>R</td>\n",
       "      <td>Drama|Science Fiction and Fantasy</td>\n",
       "      <td>David Cronenberg</td>\n",
       "      <td>David Cronenberg|Don DeLillo</td>\n",
       "      <td>2012-08-17</td>\n",
       "      <td>Jan 1, 2013</td>\n",
       "      <td>$</td>\n",
       "      <td>600000.0</td>\n",
       "      <td>108</td>\n",
       "      <td>Entertainment One</td>\n",
       "      <td>Quickly grows repetitive and tiresome, meander...</td>\n",
       "      <td>75.0</td>\n",
       "      <td>rotten</td>\n",
       "      <td>Eric D. Snider</td>\n",
       "      <td>0</td>\n",
       "      <td>EricDSnider.com</td>\n",
       "      <td>July 17, 2013</td>\n",
       "    </tr>\n",
       "    <tr>\n",
       "      <th>7</th>\n",
       "      <td>3</td>\n",
       "      <td>New York City, not-too-distant-future: Eric Pa...</td>\n",
       "      <td>R</td>\n",
       "      <td>Drama|Science Fiction and Fantasy</td>\n",
       "      <td>David Cronenberg</td>\n",
       "      <td>David Cronenberg|Don DeLillo</td>\n",
       "      <td>2012-08-17</td>\n",
       "      <td>Jan 1, 2013</td>\n",
       "      <td>$</td>\n",
       "      <td>600000.0</td>\n",
       "      <td>108</td>\n",
       "      <td>Entertainment One</td>\n",
       "      <td>Cronenberg is not a director to be daunted by ...</td>\n",
       "      <td>40.0</td>\n",
       "      <td>rotten</td>\n",
       "      <td>Matt Kelemen</td>\n",
       "      <td>0</td>\n",
       "      <td>Las Vegas CityLife</td>\n",
       "      <td>April 21, 2013</td>\n",
       "    </tr>\n",
       "    <tr>\n",
       "      <th>11</th>\n",
       "      <td>3</td>\n",
       "      <td>New York City, not-too-distant-future: Eric Pa...</td>\n",
       "      <td>R</td>\n",
       "      <td>Drama|Science Fiction and Fantasy</td>\n",
       "      <td>David Cronenberg</td>\n",
       "      <td>David Cronenberg|Don DeLillo</td>\n",
       "      <td>2012-08-17</td>\n",
       "      <td>Jan 1, 2013</td>\n",
       "      <td>$</td>\n",
       "      <td>600000.0</td>\n",
       "      <td>108</td>\n",
       "      <td>Entertainment One</td>\n",
       "      <td>While not one of Cronenberg's stronger films, ...</td>\n",
       "      <td>82.0</td>\n",
       "      <td>fresh</td>\n",
       "      <td>Emanuel Levy</td>\n",
       "      <td>0</td>\n",
       "      <td>EmanuelLevy.Com</td>\n",
       "      <td>February 3, 2013</td>\n",
       "    </tr>\n",
       "    <tr>\n",
       "      <th>13</th>\n",
       "      <td>3</td>\n",
       "      <td>New York City, not-too-distant-future: Eric Pa...</td>\n",
       "      <td>R</td>\n",
       "      <td>Drama|Science Fiction and Fantasy</td>\n",
       "      <td>David Cronenberg</td>\n",
       "      <td>David Cronenberg|Don DeLillo</td>\n",
       "      <td>2012-08-17</td>\n",
       "      <td>Jan 1, 2013</td>\n",
       "      <td>$</td>\n",
       "      <td>600000.0</td>\n",
       "      <td>108</td>\n",
       "      <td>Entertainment One</td>\n",
       "      <td>The anger over the injustice of the financial ...</td>\n",
       "      <td>85.0</td>\n",
       "      <td>fresh</td>\n",
       "      <td>Robert Roten</td>\n",
       "      <td>0</td>\n",
       "      <td>Laramie Movie Scope</td>\n",
       "      <td>January 7, 2013</td>\n",
       "    </tr>\n",
       "    <tr>\n",
       "      <th>...</th>\n",
       "      <td>...</td>\n",
       "      <td>...</td>\n",
       "      <td>...</td>\n",
       "      <td>...</td>\n",
       "      <td>...</td>\n",
       "      <td>...</td>\n",
       "      <td>...</td>\n",
       "      <td>...</td>\n",
       "      <td>...</td>\n",
       "      <td>...</td>\n",
       "      <td>...</td>\n",
       "      <td>...</td>\n",
       "      <td>...</td>\n",
       "      <td>...</td>\n",
       "      <td>...</td>\n",
       "      <td>...</td>\n",
       "      <td>...</td>\n",
       "      <td>...</td>\n",
       "      <td>...</td>\n",
       "    </tr>\n",
       "    <tr>\n",
       "      <th>54424</th>\n",
       "      <td>2000</td>\n",
       "      <td>Suspended from the force, Paris cop Hubert is ...</td>\n",
       "      <td>R</td>\n",
       "      <td>Action and Adventure|Art House and Internation...</td>\n",
       "      <td>NaN</td>\n",
       "      <td>Luc Besson</td>\n",
       "      <td>2001-09-27</td>\n",
       "      <td>Feb 11, 2003</td>\n",
       "      <td>NaN</td>\n",
       "      <td>NaN</td>\n",
       "      <td>94</td>\n",
       "      <td>Columbia Pictures</td>\n",
       "      <td>Dawdles and drags when it should pop; it doesn...</td>\n",
       "      <td>30.0</td>\n",
       "      <td>rotten</td>\n",
       "      <td>Manohla Dargis</td>\n",
       "      <td>1</td>\n",
       "      <td>Los Angeles Times</td>\n",
       "      <td>September 26, 2002</td>\n",
       "    </tr>\n",
       "    <tr>\n",
       "      <th>54428</th>\n",
       "      <td>2000</td>\n",
       "      <td>Suspended from the force, Paris cop Hubert is ...</td>\n",
       "      <td>R</td>\n",
       "      <td>Action and Adventure|Art House and Internation...</td>\n",
       "      <td>NaN</td>\n",
       "      <td>Luc Besson</td>\n",
       "      <td>2001-09-27</td>\n",
       "      <td>Feb 11, 2003</td>\n",
       "      <td>NaN</td>\n",
       "      <td>NaN</td>\n",
       "      <td>94</td>\n",
       "      <td>Columbia Pictures</td>\n",
       "      <td>NaN</td>\n",
       "      <td>20.0</td>\n",
       "      <td>rotten</td>\n",
       "      <td>Michael Szymanski</td>\n",
       "      <td>0</td>\n",
       "      <td>Zap2it.com</td>\n",
       "      <td>September 21, 2005</td>\n",
       "    </tr>\n",
       "    <tr>\n",
       "      <th>54429</th>\n",
       "      <td>2000</td>\n",
       "      <td>Suspended from the force, Paris cop Hubert is ...</td>\n",
       "      <td>R</td>\n",
       "      <td>Action and Adventure|Art House and Internation...</td>\n",
       "      <td>NaN</td>\n",
       "      <td>Luc Besson</td>\n",
       "      <td>2001-09-27</td>\n",
       "      <td>Feb 11, 2003</td>\n",
       "      <td>NaN</td>\n",
       "      <td>NaN</td>\n",
       "      <td>94</td>\n",
       "      <td>Columbia Pictures</td>\n",
       "      <td>NaN</td>\n",
       "      <td>40.0</td>\n",
       "      <td>rotten</td>\n",
       "      <td>Emanuel Levy</td>\n",
       "      <td>0</td>\n",
       "      <td>EmanuelLevy.Com</td>\n",
       "      <td>July 17, 2005</td>\n",
       "    </tr>\n",
       "    <tr>\n",
       "      <th>54430</th>\n",
       "      <td>2000</td>\n",
       "      <td>Suspended from the force, Paris cop Hubert is ...</td>\n",
       "      <td>R</td>\n",
       "      <td>Action and Adventure|Art House and Internation...</td>\n",
       "      <td>NaN</td>\n",
       "      <td>Luc Besson</td>\n",
       "      <td>2001-09-27</td>\n",
       "      <td>Feb 11, 2003</td>\n",
       "      <td>NaN</td>\n",
       "      <td>NaN</td>\n",
       "      <td>94</td>\n",
       "      <td>Columbia Pictures</td>\n",
       "      <td>NaN</td>\n",
       "      <td>50.0</td>\n",
       "      <td>rotten</td>\n",
       "      <td>Christopher Null</td>\n",
       "      <td>0</td>\n",
       "      <td>Filmcritic.com</td>\n",
       "      <td>September 7, 2003</td>\n",
       "    </tr>\n",
       "    <tr>\n",
       "      <th>54431</th>\n",
       "      <td>2000</td>\n",
       "      <td>Suspended from the force, Paris cop Hubert is ...</td>\n",
       "      <td>R</td>\n",
       "      <td>Action and Adventure|Art House and Internation...</td>\n",
       "      <td>NaN</td>\n",
       "      <td>Luc Besson</td>\n",
       "      <td>2001-09-27</td>\n",
       "      <td>Feb 11, 2003</td>\n",
       "      <td>NaN</td>\n",
       "      <td>NaN</td>\n",
       "      <td>94</td>\n",
       "      <td>Columbia Pictures</td>\n",
       "      <td>NaN</td>\n",
       "      <td>60.0</td>\n",
       "      <td>fresh</td>\n",
       "      <td>Nicolas Lacroix</td>\n",
       "      <td>0</td>\n",
       "      <td>Showbizz.net</td>\n",
       "      <td>November 12, 2002</td>\n",
       "    </tr>\n",
       "  </tbody>\n",
       "</table>\n",
       "<p>31745 rows × 19 columns</p>\n",
       "</div>"
      ],
      "text/plain": [
       "         id                                           synopsis rating_x  \\\n",
       "0         3  New York City, not-too-distant-future: Eric Pa...        R   \n",
       "6         3  New York City, not-too-distant-future: Eric Pa...        R   \n",
       "7         3  New York City, not-too-distant-future: Eric Pa...        R   \n",
       "11        3  New York City, not-too-distant-future: Eric Pa...        R   \n",
       "13        3  New York City, not-too-distant-future: Eric Pa...        R   \n",
       "...     ...                                                ...      ...   \n",
       "54424  2000  Suspended from the force, Paris cop Hubert is ...        R   \n",
       "54428  2000  Suspended from the force, Paris cop Hubert is ...        R   \n",
       "54429  2000  Suspended from the force, Paris cop Hubert is ...        R   \n",
       "54430  2000  Suspended from the force, Paris cop Hubert is ...        R   \n",
       "54431  2000  Suspended from the force, Paris cop Hubert is ...        R   \n",
       "\n",
       "                                                   genre          director  \\\n",
       "0                      Drama|Science Fiction and Fantasy  David Cronenberg   \n",
       "6                      Drama|Science Fiction and Fantasy  David Cronenberg   \n",
       "7                      Drama|Science Fiction and Fantasy  David Cronenberg   \n",
       "11                     Drama|Science Fiction and Fantasy  David Cronenberg   \n",
       "13                     Drama|Science Fiction and Fantasy  David Cronenberg   \n",
       "...                                                  ...               ...   \n",
       "54424  Action and Adventure|Art House and Internation...               NaN   \n",
       "54428  Action and Adventure|Art House and Internation...               NaN   \n",
       "54429  Action and Adventure|Art House and Internation...               NaN   \n",
       "54430  Action and Adventure|Art House and Internation...               NaN   \n",
       "54431  Action and Adventure|Art House and Internation...               NaN   \n",
       "\n",
       "                             writer theater_date      dvd_date currency  \\\n",
       "0      David Cronenberg|Don DeLillo   2012-08-17   Jan 1, 2013        $   \n",
       "6      David Cronenberg|Don DeLillo   2012-08-17   Jan 1, 2013        $   \n",
       "7      David Cronenberg|Don DeLillo   2012-08-17   Jan 1, 2013        $   \n",
       "11     David Cronenberg|Don DeLillo   2012-08-17   Jan 1, 2013        $   \n",
       "13     David Cronenberg|Don DeLillo   2012-08-17   Jan 1, 2013        $   \n",
       "...                             ...          ...           ...      ...   \n",
       "54424                    Luc Besson   2001-09-27  Feb 11, 2003      NaN   \n",
       "54428                    Luc Besson   2001-09-27  Feb 11, 2003      NaN   \n",
       "54429                    Luc Besson   2001-09-27  Feb 11, 2003      NaN   \n",
       "54430                    Luc Besson   2001-09-27  Feb 11, 2003      NaN   \n",
       "54431                    Luc Besson   2001-09-27  Feb 11, 2003      NaN   \n",
       "\n",
       "       box_office runtime             studio  \\\n",
       "0        600000.0    108   Entertainment One   \n",
       "6        600000.0    108   Entertainment One   \n",
       "7        600000.0    108   Entertainment One   \n",
       "11       600000.0    108   Entertainment One   \n",
       "13       600000.0    108   Entertainment One   \n",
       "...           ...     ...                ...   \n",
       "54424         NaN     94   Columbia Pictures   \n",
       "54428         NaN     94   Columbia Pictures   \n",
       "54429         NaN     94   Columbia Pictures   \n",
       "54430         NaN     94   Columbia Pictures   \n",
       "54431         NaN     94   Columbia Pictures   \n",
       "\n",
       "                                                  review  rating_y   fresh  \\\n",
       "0      A distinctly gallows take on contemporary fina...      60.0   fresh   \n",
       "6      Quickly grows repetitive and tiresome, meander...      75.0  rotten   \n",
       "7      Cronenberg is not a director to be daunted by ...      40.0  rotten   \n",
       "11     While not one of Cronenberg's stronger films, ...      82.0   fresh   \n",
       "13     The anger over the injustice of the financial ...      85.0   fresh   \n",
       "...                                                  ...       ...     ...   \n",
       "54424  Dawdles and drags when it should pop; it doesn...      30.0  rotten   \n",
       "54428                                                NaN      20.0  rotten   \n",
       "54429                                                NaN      40.0  rotten   \n",
       "54430                                                NaN      50.0  rotten   \n",
       "54431                                                NaN      60.0   fresh   \n",
       "\n",
       "                  critic  top_critic            publisher                date  \n",
       "0             PJ Nabarro           0      Patrick Nabarro   November 10, 2018  \n",
       "6         Eric D. Snider           0      EricDSnider.com       July 17, 2013  \n",
       "7           Matt Kelemen           0   Las Vegas CityLife      April 21, 2013  \n",
       "11          Emanuel Levy           0      EmanuelLevy.Com    February 3, 2013  \n",
       "13          Robert Roten           0  Laramie Movie Scope     January 7, 2013  \n",
       "...                  ...         ...                  ...                 ...  \n",
       "54424     Manohla Dargis           1    Los Angeles Times  September 26, 2002  \n",
       "54428  Michael Szymanski           0           Zap2it.com  September 21, 2005  \n",
       "54429       Emanuel Levy           0      EmanuelLevy.Com       July 17, 2005  \n",
       "54430   Christopher Null           0       Filmcritic.com   September 7, 2003  \n",
       "54431    Nicolas Lacroix           0         Showbizz.net   November 12, 2002  \n",
       "\n",
       "[31745 rows x 19 columns]"
      ]
     },
     "execution_count": 49,
     "metadata": {},
     "output_type": "execute_result"
    }
   ],
   "source": [
    "df_rt"
   ]
  },
  {
   "cell_type": "markdown",
   "metadata": {},
   "source": [
    "Rotten tomatoes uses a \"Tomatometer\" to rate movies. If a critic likes the movie, they designate \"fresh,\" if they don't enjoy it they desginate it \"rotten\" The tomatometer represents the percentage of fresh designations. Using the fresh column from the dataset, we can create a tomatometer for each movie. "
   ]
  },
  {
   "cell_type": "code",
   "execution_count": 50,
   "metadata": {},
   "outputs": [],
   "source": [
    "def fresh(rating):\n",
    "    if rating == 'fresh':\n",
    "        return 1\n",
    "    elif rating == 'rotten':\n",
    "        return 0 "
   ]
  },
  {
   "cell_type": "markdown",
   "metadata": {},
   "source": [
    "This function returns a rating of 1 if the review is fresh and 0 if it is rotten. We can then use this to come up with  tomatometer for each movie - it will be the mean of all rotten/fresh values for a speficied movie "
   ]
  },
  {
   "cell_type": "code",
   "execution_count": 51,
   "metadata": {},
   "outputs": [],
   "source": [
    "df_rt['fresh'] = df_rt['fresh'].apply(fresh)\n",
    "# applies the function to the fresh column"
   ]
  },
  {
   "cell_type": "code",
   "execution_count": 52,
   "metadata": {
    "scrolled": true
   },
   "outputs": [
    {
     "data": {
      "text/plain": [
       "$    19471\n",
       "Name: currency, dtype: int64"
      ]
     },
     "execution_count": 52,
     "metadata": {},
     "output_type": "execute_result"
    }
   ],
   "source": [
    "df_rt['currency'].value_counts()\n",
    "# This shows us that all of the currency is in dollars so we don't have to worry about different units "
   ]
  },
  {
   "cell_type": "code",
   "execution_count": 53,
   "metadata": {},
   "outputs": [],
   "source": [
    "df_rt['rating_y'] = df_rt.groupby('id')['rating_y'].transform(\n",
    "    lambda grp: np.mean(grp)\n",
    ")\n",
    "df_rt['fresh'] = df_rt.groupby('id')['fresh'].transform(\n",
    "    lambda grp: np.mean(grp)\n",
    ")"
   ]
  },
  {
   "cell_type": "code",
   "execution_count": 54,
   "metadata": {},
   "outputs": [
    {
     "data": {
      "text/html": [
       "<div>\n",
       "<style scoped>\n",
       "    .dataframe tbody tr th:only-of-type {\n",
       "        vertical-align: middle;\n",
       "    }\n",
       "\n",
       "    .dataframe tbody tr th {\n",
       "        vertical-align: top;\n",
       "    }\n",
       "\n",
       "    .dataframe thead th {\n",
       "        text-align: right;\n",
       "    }\n",
       "</style>\n",
       "<table border=\"1\" class=\"dataframe\">\n",
       "  <thead>\n",
       "    <tr style=\"text-align: right;\">\n",
       "      <th></th>\n",
       "      <th>id</th>\n",
       "      <th>synopsis</th>\n",
       "      <th>rating_x</th>\n",
       "      <th>genre</th>\n",
       "      <th>director</th>\n",
       "      <th>writer</th>\n",
       "      <th>theater_date</th>\n",
       "      <th>dvd_date</th>\n",
       "      <th>currency</th>\n",
       "      <th>box_office</th>\n",
       "      <th>runtime</th>\n",
       "      <th>studio</th>\n",
       "      <th>review</th>\n",
       "      <th>rating_y</th>\n",
       "      <th>fresh</th>\n",
       "      <th>critic</th>\n",
       "      <th>top_critic</th>\n",
       "      <th>publisher</th>\n",
       "      <th>date</th>\n",
       "    </tr>\n",
       "  </thead>\n",
       "  <tbody>\n",
       "    <tr>\n",
       "      <th>0</th>\n",
       "      <td>3</td>\n",
       "      <td>New York City, not-too-distant-future: Eric Pa...</td>\n",
       "      <td>R</td>\n",
       "      <td>Drama|Science Fiction and Fantasy</td>\n",
       "      <td>David Cronenberg</td>\n",
       "      <td>David Cronenberg|Don DeLillo</td>\n",
       "      <td>2012-08-17</td>\n",
       "      <td>Jan 1, 2013</td>\n",
       "      <td>$</td>\n",
       "      <td>600000.0</td>\n",
       "      <td>108</td>\n",
       "      <td>Entertainment One</td>\n",
       "      <td>A distinctly gallows take on contemporary fina...</td>\n",
       "      <td>65.938889</td>\n",
       "      <td>0.688889</td>\n",
       "      <td>PJ Nabarro</td>\n",
       "      <td>0</td>\n",
       "      <td>Patrick Nabarro</td>\n",
       "      <td>November 10, 2018</td>\n",
       "    </tr>\n",
       "    <tr>\n",
       "      <th>6</th>\n",
       "      <td>3</td>\n",
       "      <td>New York City, not-too-distant-future: Eric Pa...</td>\n",
       "      <td>R</td>\n",
       "      <td>Drama|Science Fiction and Fantasy</td>\n",
       "      <td>David Cronenberg</td>\n",
       "      <td>David Cronenberg|Don DeLillo</td>\n",
       "      <td>2012-08-17</td>\n",
       "      <td>Jan 1, 2013</td>\n",
       "      <td>$</td>\n",
       "      <td>600000.0</td>\n",
       "      <td>108</td>\n",
       "      <td>Entertainment One</td>\n",
       "      <td>Quickly grows repetitive and tiresome, meander...</td>\n",
       "      <td>65.938889</td>\n",
       "      <td>0.688889</td>\n",
       "      <td>Eric D. Snider</td>\n",
       "      <td>0</td>\n",
       "      <td>EricDSnider.com</td>\n",
       "      <td>July 17, 2013</td>\n",
       "    </tr>\n",
       "    <tr>\n",
       "      <th>7</th>\n",
       "      <td>3</td>\n",
       "      <td>New York City, not-too-distant-future: Eric Pa...</td>\n",
       "      <td>R</td>\n",
       "      <td>Drama|Science Fiction and Fantasy</td>\n",
       "      <td>David Cronenberg</td>\n",
       "      <td>David Cronenberg|Don DeLillo</td>\n",
       "      <td>2012-08-17</td>\n",
       "      <td>Jan 1, 2013</td>\n",
       "      <td>$</td>\n",
       "      <td>600000.0</td>\n",
       "      <td>108</td>\n",
       "      <td>Entertainment One</td>\n",
       "      <td>Cronenberg is not a director to be daunted by ...</td>\n",
       "      <td>65.938889</td>\n",
       "      <td>0.688889</td>\n",
       "      <td>Matt Kelemen</td>\n",
       "      <td>0</td>\n",
       "      <td>Las Vegas CityLife</td>\n",
       "      <td>April 21, 2013</td>\n",
       "    </tr>\n",
       "    <tr>\n",
       "      <th>11</th>\n",
       "      <td>3</td>\n",
       "      <td>New York City, not-too-distant-future: Eric Pa...</td>\n",
       "      <td>R</td>\n",
       "      <td>Drama|Science Fiction and Fantasy</td>\n",
       "      <td>David Cronenberg</td>\n",
       "      <td>David Cronenberg|Don DeLillo</td>\n",
       "      <td>2012-08-17</td>\n",
       "      <td>Jan 1, 2013</td>\n",
       "      <td>$</td>\n",
       "      <td>600000.0</td>\n",
       "      <td>108</td>\n",
       "      <td>Entertainment One</td>\n",
       "      <td>While not one of Cronenberg's stronger films, ...</td>\n",
       "      <td>65.938889</td>\n",
       "      <td>0.688889</td>\n",
       "      <td>Emanuel Levy</td>\n",
       "      <td>0</td>\n",
       "      <td>EmanuelLevy.Com</td>\n",
       "      <td>February 3, 2013</td>\n",
       "    </tr>\n",
       "    <tr>\n",
       "      <th>13</th>\n",
       "      <td>3</td>\n",
       "      <td>New York City, not-too-distant-future: Eric Pa...</td>\n",
       "      <td>R</td>\n",
       "      <td>Drama|Science Fiction and Fantasy</td>\n",
       "      <td>David Cronenberg</td>\n",
       "      <td>David Cronenberg|Don DeLillo</td>\n",
       "      <td>2012-08-17</td>\n",
       "      <td>Jan 1, 2013</td>\n",
       "      <td>$</td>\n",
       "      <td>600000.0</td>\n",
       "      <td>108</td>\n",
       "      <td>Entertainment One</td>\n",
       "      <td>The anger over the injustice of the financial ...</td>\n",
       "      <td>65.938889</td>\n",
       "      <td>0.688889</td>\n",
       "      <td>Robert Roten</td>\n",
       "      <td>0</td>\n",
       "      <td>Laramie Movie Scope</td>\n",
       "      <td>January 7, 2013</td>\n",
       "    </tr>\n",
       "    <tr>\n",
       "      <th>...</th>\n",
       "      <td>...</td>\n",
       "      <td>...</td>\n",
       "      <td>...</td>\n",
       "      <td>...</td>\n",
       "      <td>...</td>\n",
       "      <td>...</td>\n",
       "      <td>...</td>\n",
       "      <td>...</td>\n",
       "      <td>...</td>\n",
       "      <td>...</td>\n",
       "      <td>...</td>\n",
       "      <td>...</td>\n",
       "      <td>...</td>\n",
       "      <td>...</td>\n",
       "      <td>...</td>\n",
       "      <td>...</td>\n",
       "      <td>...</td>\n",
       "      <td>...</td>\n",
       "      <td>...</td>\n",
       "    </tr>\n",
       "    <tr>\n",
       "      <th>54424</th>\n",
       "      <td>2000</td>\n",
       "      <td>Suspended from the force, Paris cop Hubert is ...</td>\n",
       "      <td>R</td>\n",
       "      <td>Action and Adventure|Art House and Internation...</td>\n",
       "      <td>NaN</td>\n",
       "      <td>Luc Besson</td>\n",
       "      <td>2001-09-27</td>\n",
       "      <td>Feb 11, 2003</td>\n",
       "      <td>NaN</td>\n",
       "      <td>NaN</td>\n",
       "      <td>94</td>\n",
       "      <td>Columbia Pictures</td>\n",
       "      <td>Dawdles and drags when it should pop; it doesn...</td>\n",
       "      <td>59.520833</td>\n",
       "      <td>0.458333</td>\n",
       "      <td>Manohla Dargis</td>\n",
       "      <td>1</td>\n",
       "      <td>Los Angeles Times</td>\n",
       "      <td>September 26, 2002</td>\n",
       "    </tr>\n",
       "    <tr>\n",
       "      <th>54428</th>\n",
       "      <td>2000</td>\n",
       "      <td>Suspended from the force, Paris cop Hubert is ...</td>\n",
       "      <td>R</td>\n",
       "      <td>Action and Adventure|Art House and Internation...</td>\n",
       "      <td>NaN</td>\n",
       "      <td>Luc Besson</td>\n",
       "      <td>2001-09-27</td>\n",
       "      <td>Feb 11, 2003</td>\n",
       "      <td>NaN</td>\n",
       "      <td>NaN</td>\n",
       "      <td>94</td>\n",
       "      <td>Columbia Pictures</td>\n",
       "      <td>NaN</td>\n",
       "      <td>59.520833</td>\n",
       "      <td>0.458333</td>\n",
       "      <td>Michael Szymanski</td>\n",
       "      <td>0</td>\n",
       "      <td>Zap2it.com</td>\n",
       "      <td>September 21, 2005</td>\n",
       "    </tr>\n",
       "    <tr>\n",
       "      <th>54429</th>\n",
       "      <td>2000</td>\n",
       "      <td>Suspended from the force, Paris cop Hubert is ...</td>\n",
       "      <td>R</td>\n",
       "      <td>Action and Adventure|Art House and Internation...</td>\n",
       "      <td>NaN</td>\n",
       "      <td>Luc Besson</td>\n",
       "      <td>2001-09-27</td>\n",
       "      <td>Feb 11, 2003</td>\n",
       "      <td>NaN</td>\n",
       "      <td>NaN</td>\n",
       "      <td>94</td>\n",
       "      <td>Columbia Pictures</td>\n",
       "      <td>NaN</td>\n",
       "      <td>59.520833</td>\n",
       "      <td>0.458333</td>\n",
       "      <td>Emanuel Levy</td>\n",
       "      <td>0</td>\n",
       "      <td>EmanuelLevy.Com</td>\n",
       "      <td>July 17, 2005</td>\n",
       "    </tr>\n",
       "    <tr>\n",
       "      <th>54430</th>\n",
       "      <td>2000</td>\n",
       "      <td>Suspended from the force, Paris cop Hubert is ...</td>\n",
       "      <td>R</td>\n",
       "      <td>Action and Adventure|Art House and Internation...</td>\n",
       "      <td>NaN</td>\n",
       "      <td>Luc Besson</td>\n",
       "      <td>2001-09-27</td>\n",
       "      <td>Feb 11, 2003</td>\n",
       "      <td>NaN</td>\n",
       "      <td>NaN</td>\n",
       "      <td>94</td>\n",
       "      <td>Columbia Pictures</td>\n",
       "      <td>NaN</td>\n",
       "      <td>59.520833</td>\n",
       "      <td>0.458333</td>\n",
       "      <td>Christopher Null</td>\n",
       "      <td>0</td>\n",
       "      <td>Filmcritic.com</td>\n",
       "      <td>September 7, 2003</td>\n",
       "    </tr>\n",
       "    <tr>\n",
       "      <th>54431</th>\n",
       "      <td>2000</td>\n",
       "      <td>Suspended from the force, Paris cop Hubert is ...</td>\n",
       "      <td>R</td>\n",
       "      <td>Action and Adventure|Art House and Internation...</td>\n",
       "      <td>NaN</td>\n",
       "      <td>Luc Besson</td>\n",
       "      <td>2001-09-27</td>\n",
       "      <td>Feb 11, 2003</td>\n",
       "      <td>NaN</td>\n",
       "      <td>NaN</td>\n",
       "      <td>94</td>\n",
       "      <td>Columbia Pictures</td>\n",
       "      <td>NaN</td>\n",
       "      <td>59.520833</td>\n",
       "      <td>0.458333</td>\n",
       "      <td>Nicolas Lacroix</td>\n",
       "      <td>0</td>\n",
       "      <td>Showbizz.net</td>\n",
       "      <td>November 12, 2002</td>\n",
       "    </tr>\n",
       "  </tbody>\n",
       "</table>\n",
       "<p>31745 rows × 19 columns</p>\n",
       "</div>"
      ],
      "text/plain": [
       "         id                                           synopsis rating_x  \\\n",
       "0         3  New York City, not-too-distant-future: Eric Pa...        R   \n",
       "6         3  New York City, not-too-distant-future: Eric Pa...        R   \n",
       "7         3  New York City, not-too-distant-future: Eric Pa...        R   \n",
       "11        3  New York City, not-too-distant-future: Eric Pa...        R   \n",
       "13        3  New York City, not-too-distant-future: Eric Pa...        R   \n",
       "...     ...                                                ...      ...   \n",
       "54424  2000  Suspended from the force, Paris cop Hubert is ...        R   \n",
       "54428  2000  Suspended from the force, Paris cop Hubert is ...        R   \n",
       "54429  2000  Suspended from the force, Paris cop Hubert is ...        R   \n",
       "54430  2000  Suspended from the force, Paris cop Hubert is ...        R   \n",
       "54431  2000  Suspended from the force, Paris cop Hubert is ...        R   \n",
       "\n",
       "                                                   genre          director  \\\n",
       "0                      Drama|Science Fiction and Fantasy  David Cronenberg   \n",
       "6                      Drama|Science Fiction and Fantasy  David Cronenberg   \n",
       "7                      Drama|Science Fiction and Fantasy  David Cronenberg   \n",
       "11                     Drama|Science Fiction and Fantasy  David Cronenberg   \n",
       "13                     Drama|Science Fiction and Fantasy  David Cronenberg   \n",
       "...                                                  ...               ...   \n",
       "54424  Action and Adventure|Art House and Internation...               NaN   \n",
       "54428  Action and Adventure|Art House and Internation...               NaN   \n",
       "54429  Action and Adventure|Art House and Internation...               NaN   \n",
       "54430  Action and Adventure|Art House and Internation...               NaN   \n",
       "54431  Action and Adventure|Art House and Internation...               NaN   \n",
       "\n",
       "                             writer theater_date      dvd_date currency  \\\n",
       "0      David Cronenberg|Don DeLillo   2012-08-17   Jan 1, 2013        $   \n",
       "6      David Cronenberg|Don DeLillo   2012-08-17   Jan 1, 2013        $   \n",
       "7      David Cronenberg|Don DeLillo   2012-08-17   Jan 1, 2013        $   \n",
       "11     David Cronenberg|Don DeLillo   2012-08-17   Jan 1, 2013        $   \n",
       "13     David Cronenberg|Don DeLillo   2012-08-17   Jan 1, 2013        $   \n",
       "...                             ...          ...           ...      ...   \n",
       "54424                    Luc Besson   2001-09-27  Feb 11, 2003      NaN   \n",
       "54428                    Luc Besson   2001-09-27  Feb 11, 2003      NaN   \n",
       "54429                    Luc Besson   2001-09-27  Feb 11, 2003      NaN   \n",
       "54430                    Luc Besson   2001-09-27  Feb 11, 2003      NaN   \n",
       "54431                    Luc Besson   2001-09-27  Feb 11, 2003      NaN   \n",
       "\n",
       "       box_office runtime             studio  \\\n",
       "0        600000.0    108   Entertainment One   \n",
       "6        600000.0    108   Entertainment One   \n",
       "7        600000.0    108   Entertainment One   \n",
       "11       600000.0    108   Entertainment One   \n",
       "13       600000.0    108   Entertainment One   \n",
       "...           ...     ...                ...   \n",
       "54424         NaN     94   Columbia Pictures   \n",
       "54428         NaN     94   Columbia Pictures   \n",
       "54429         NaN     94   Columbia Pictures   \n",
       "54430         NaN     94   Columbia Pictures   \n",
       "54431         NaN     94   Columbia Pictures   \n",
       "\n",
       "                                                  review   rating_y     fresh  \\\n",
       "0      A distinctly gallows take on contemporary fina...  65.938889  0.688889   \n",
       "6      Quickly grows repetitive and tiresome, meander...  65.938889  0.688889   \n",
       "7      Cronenberg is not a director to be daunted by ...  65.938889  0.688889   \n",
       "11     While not one of Cronenberg's stronger films, ...  65.938889  0.688889   \n",
       "13     The anger over the injustice of the financial ...  65.938889  0.688889   \n",
       "...                                                  ...        ...       ...   \n",
       "54424  Dawdles and drags when it should pop; it doesn...  59.520833  0.458333   \n",
       "54428                                                NaN  59.520833  0.458333   \n",
       "54429                                                NaN  59.520833  0.458333   \n",
       "54430                                                NaN  59.520833  0.458333   \n",
       "54431                                                NaN  59.520833  0.458333   \n",
       "\n",
       "                  critic  top_critic            publisher                date  \n",
       "0             PJ Nabarro           0      Patrick Nabarro   November 10, 2018  \n",
       "6         Eric D. Snider           0      EricDSnider.com       July 17, 2013  \n",
       "7           Matt Kelemen           0   Las Vegas CityLife      April 21, 2013  \n",
       "11          Emanuel Levy           0      EmanuelLevy.Com    February 3, 2013  \n",
       "13          Robert Roten           0  Laramie Movie Scope     January 7, 2013  \n",
       "...                  ...         ...                  ...                 ...  \n",
       "54424     Manohla Dargis           1    Los Angeles Times  September 26, 2002  \n",
       "54428  Michael Szymanski           0           Zap2it.com  September 21, 2005  \n",
       "54429       Emanuel Levy           0      EmanuelLevy.Com       July 17, 2005  \n",
       "54430   Christopher Null           0       Filmcritic.com   September 7, 2003  \n",
       "54431    Nicolas Lacroix           0         Showbizz.net   November 12, 2002  \n",
       "\n",
       "[31745 rows x 19 columns]"
      ]
     },
     "execution_count": 54,
     "metadata": {},
     "output_type": "execute_result"
    }
   ],
   "source": [
    "df_rt"
   ]
  },
  {
   "cell_type": "markdown",
   "metadata": {},
   "source": [
    "The above code first groups the data by indivual movie ('using the 'id' column) and then replaces the individual 'rating' the mean rating for that movie. The same process is repeated for the fresh column. Looking at the df above, we can now see that all values in the \"fresh\" and \"rating\" columns are the same for each individual movie (movies with the same value in the 'id' column) "
   ]
  },
  {
   "cell_type": "code",
   "execution_count": 55,
   "metadata": {},
   "outputs": [],
   "source": [
    "df_rt = df_rt.drop_duplicates(subset='id')\n",
    "# This code drops duplicates in the 'id' column so now we only have one row for each movie "
   ]
  },
  {
   "cell_type": "markdown",
   "metadata": {},
   "source": [
    "Ideally, if the standardized rating function worked well, the 'fresh' column and 'rating_y' column will be correlated -- let's double check:"
   ]
  },
  {
   "cell_type": "code",
   "execution_count": 56,
   "metadata": {},
   "outputs": [
    {
     "data": {
      "text/plain": [
       "0.8238504128100249"
      ]
     },
     "execution_count": 56,
     "metadata": {},
     "output_type": "execute_result"
    }
   ],
   "source": [
    "np.corrcoef(df_rt['rating_y'], df_rt['fresh'])[1][0]"
   ]
  },
  {
   "cell_type": "markdown",
   "metadata": {},
   "source": [
    "That's a pretty strong correlation! "
   ]
  },
  {
   "cell_type": "markdown",
   "metadata": {},
   "source": [
    "# Business Understanding"
   ]
  },
  {
   "cell_type": "markdown",
   "metadata": {},
   "source": [
    "Let's use our two rating columns to see if there is any correlation between positive ratings and high box office earnings "
   ]
  },
  {
   "cell_type": "code",
   "execution_count": 57,
   "metadata": {
    "scrolled": true
   },
   "outputs": [],
   "source": [
    "df_rt = df_rt.dropna(subset=['box_office'])\n",
    "df_rt['box_office'] = df_rt['box_office'].apply(lambda x: x/1000000)\n",
    "# Drops NA values in the box office column and then converts from dollars to $mm so it is easier to digest"
   ]
  },
  {
   "cell_type": "code",
   "execution_count": 58,
   "metadata": {
    "scrolled": true
   },
   "outputs": [
    {
     "data": {
      "image/png": "[encoded data removed]",
      "text/plain": [
       "<Figure size 864x288 with 2 Axes>"
      ]
     },
     "metadata": {
      "needs_background": "light"
     },
     "output_type": "display_data"
    }
   ],
   "source": [
    "fig, (ax1, ax2) = plt.subplots(1, 2, figsize=(12,4))\n",
    "x1 = df_rt['rating_y']\n",
    "x2 = df_rt['fresh']\n",
    "y = df_rt['box_office']\n",
    "ax1.scatter(x1,y);\n",
    "ax2.scatter(x2,y);\n",
    "\n",
    "ax1.set_title('Standardized Rating vs. Box Office Performance');\n",
    "ax1.set_xlabel('Standardized Score');\n",
    "ax1.set_ylabel('Domestic Box Office earnings ($mm)');\n",
    "\n",
    "ax2.set_title('Tomatometer vs. Box Office Performance');\n",
    "ax2.set_xlabel('Tomatometer');\n",
    "ax1.set_ylabel('Domestic Box Office earnings ($mm)');"
   ]
  },
  {
   "cell_type": "markdown",
   "metadata": {},
   "source": [
    "It doesn't look like there is necessarily a strong relationship between ratings and box office performance but let's double check the correlation to be sure:"
   ]
  },
  {
   "cell_type": "code",
   "execution_count": 59,
   "metadata": {
    "scrolled": true
   },
   "outputs": [
    {
     "name": "stdout",
     "output_type": "stream",
     "text": [
      "The correlation between standardized rating and box office revenue is 0.102\n",
      "The correlation between tomatometer and box office revenue is 0.066\n"
     ]
    }
   ],
   "source": [
    "rating_correlation = round(np.corrcoef(df_rt['rating_y'], df_rt['box_office'])[1][0],3)\n",
    "tomatometer_correlation = round(np.corrcoef(df_rt['fresh'], df_rt['box_office'])[1][0],3)\n",
    "\n",
    "print(\"The correlation between standardized rating and box office revenue is {}\".format(rating_correlation))\n",
    "print(\"The correlation between tomatometer and box office revenue is {}\".format(tomatometer_correlation))"
   ]
  },
  {
   "cell_type": "markdown",
   "metadata": {},
   "source": [
    "Based on this analysis we did not find a correlation between critic ratings and box office success. Therefore, for future analysis, we will put less focus on critic reception, and instead focus on other attributes that might lead to profitability. Additionally, for future analysis we will focus on datasets that contain box office revenue information to guide our insights. As a result, we did not focus on several IMDB datasets within the zipped file folder because they only contained ratings information"
   ]
  },
  {
   "cell_type": "markdown",
   "metadata": {},
   "source": [
    "## IMDB Data - Business Recommendation 2: Identifying Genres, Directors, Actors and Plot Themes that Translate to Higher Gross Revenue"
   ]
  },
  {
   "cell_type": "code",
   "execution_count": 60,
   "metadata": {},
   "outputs": [
    {
     "ename": "FileNotFoundError",
     "evalue": "[Errno 2] No such file or directory: 'zippedData/movie_metadata.csv'",
     "output_type": "error",
     "traceback": [
      "\u001b[1;31m---------------------------------------------------------------------------\u001b[0m",
      "\u001b[1;31mFileNotFoundError\u001b[0m                         Traceback (most recent call last)",
      "\u001b[1;32m<ipython-input-60-81f3f615a59a>\u001b[0m in \u001b[0;36m<module>\u001b[1;34m\u001b[0m\n\u001b[1;32m----> 1\u001b[1;33m \u001b[0mdf\u001b[0m \u001b[1;33m=\u001b[0m \u001b[0mpd\u001b[0m\u001b[1;33m.\u001b[0m\u001b[0mread_csv\u001b[0m\u001b[1;33m(\u001b[0m\u001b[1;34m'zippedData/movie_metadata.csv'\u001b[0m\u001b[1;33m)\u001b[0m\u001b[1;33m\u001b[0m\u001b[1;33m\u001b[0m\u001b[0m\n\u001b[0m\u001b[0;32m      2\u001b[0m \u001b[1;31m# Imports IMDB Data\u001b[0m\u001b[1;33m\u001b[0m\u001b[1;33m\u001b[0m\u001b[1;33m\u001b[0m\u001b[0m\n",
      "\u001b[1;32m~\\anaconda3\\envs\\learn-env\\lib\\site-packages\\pandas\\io\\parsers.py\u001b[0m in \u001b[0;36mread_csv\u001b[1;34m(filepath_or_buffer, sep, delimiter, header, names, index_col, usecols, squeeze, prefix, mangle_dupe_cols, dtype, engine, converters, true_values, false_values, skipinitialspace, skiprows, skipfooter, nrows, na_values, keep_default_na, na_filter, verbose, skip_blank_lines, parse_dates, infer_datetime_format, keep_date_col, date_parser, dayfirst, cache_dates, iterator, chunksize, compression, thousands, decimal, lineterminator, quotechar, quoting, doublequote, escapechar, comment, encoding, dialect, error_bad_lines, warn_bad_lines, delim_whitespace, low_memory, memory_map, float_precision)\u001b[0m\n\u001b[0;32m    684\u001b[0m     )\n\u001b[0;32m    685\u001b[0m \u001b[1;33m\u001b[0m\u001b[0m\n\u001b[1;32m--> 686\u001b[1;33m     \u001b[1;32mreturn\u001b[0m \u001b[0m_read\u001b[0m\u001b[1;33m(\u001b[0m\u001b[0mfilepath_or_buffer\u001b[0m\u001b[1;33m,\u001b[0m \u001b[0mkwds\u001b[0m\u001b[1;33m)\u001b[0m\u001b[1;33m\u001b[0m\u001b[1;33m\u001b[0m\u001b[0m\n\u001b[0m\u001b[0;32m    687\u001b[0m \u001b[1;33m\u001b[0m\u001b[0m\n\u001b[0;32m    688\u001b[0m \u001b[1;33m\u001b[0m\u001b[0m\n",
      "\u001b[1;32m~\\anaconda3\\envs\\learn-env\\lib\\site-packages\\pandas\\io\\parsers.py\u001b[0m in \u001b[0;36m_read\u001b[1;34m(filepath_or_buffer, kwds)\u001b[0m\n\u001b[0;32m    450\u001b[0m \u001b[1;33m\u001b[0m\u001b[0m\n\u001b[0;32m    451\u001b[0m     \u001b[1;31m# Create the parser.\u001b[0m\u001b[1;33m\u001b[0m\u001b[1;33m\u001b[0m\u001b[1;33m\u001b[0m\u001b[0m\n\u001b[1;32m--> 452\u001b[1;33m     \u001b[0mparser\u001b[0m \u001b[1;33m=\u001b[0m \u001b[0mTextFileReader\u001b[0m\u001b[1;33m(\u001b[0m\u001b[0mfp_or_buf\u001b[0m\u001b[1;33m,\u001b[0m \u001b[1;33m**\u001b[0m\u001b[0mkwds\u001b[0m\u001b[1;33m)\u001b[0m\u001b[1;33m\u001b[0m\u001b[1;33m\u001b[0m\u001b[0m\n\u001b[0m\u001b[0;32m    453\u001b[0m \u001b[1;33m\u001b[0m\u001b[0m\n\u001b[0;32m    454\u001b[0m     \u001b[1;32mif\u001b[0m \u001b[0mchunksize\u001b[0m \u001b[1;32mor\u001b[0m \u001b[0miterator\u001b[0m\u001b[1;33m:\u001b[0m\u001b[1;33m\u001b[0m\u001b[1;33m\u001b[0m\u001b[0m\n",
      "\u001b[1;32m~\\anaconda3\\envs\\learn-env\\lib\\site-packages\\pandas\\io\\parsers.py\u001b[0m in \u001b[0;36m__init__\u001b[1;34m(self, f, engine, **kwds)\u001b[0m\n\u001b[0;32m    944\u001b[0m             \u001b[0mself\u001b[0m\u001b[1;33m.\u001b[0m\u001b[0moptions\u001b[0m\u001b[1;33m[\u001b[0m\u001b[1;34m\"has_index_names\"\u001b[0m\u001b[1;33m]\u001b[0m \u001b[1;33m=\u001b[0m \u001b[0mkwds\u001b[0m\u001b[1;33m[\u001b[0m\u001b[1;34m\"has_index_names\"\u001b[0m\u001b[1;33m]\u001b[0m\u001b[1;33m\u001b[0m\u001b[1;33m\u001b[0m\u001b[0m\n\u001b[0;32m    945\u001b[0m \u001b[1;33m\u001b[0m\u001b[0m\n\u001b[1;32m--> 946\u001b[1;33m         \u001b[0mself\u001b[0m\u001b[1;33m.\u001b[0m\u001b[0m_make_engine\u001b[0m\u001b[1;33m(\u001b[0m\u001b[0mself\u001b[0m\u001b[1;33m.\u001b[0m\u001b[0mengine\u001b[0m\u001b[1;33m)\u001b[0m\u001b[1;33m\u001b[0m\u001b[1;33m\u001b[0m\u001b[0m\n\u001b[0m\u001b[0;32m    947\u001b[0m \u001b[1;33m\u001b[0m\u001b[0m\n\u001b[0;32m    948\u001b[0m     \u001b[1;32mdef\u001b[0m \u001b[0mclose\u001b[0m\u001b[1;33m(\u001b[0m\u001b[0mself\u001b[0m\u001b[1;33m)\u001b[0m\u001b[1;33m:\u001b[0m\u001b[1;33m\u001b[0m\u001b[1;33m\u001b[0m\u001b[0m\n",
      "\u001b[1;32m~\\anaconda3\\envs\\learn-env\\lib\\site-packages\\pandas\\io\\parsers.py\u001b[0m in \u001b[0;36m_make_engine\u001b[1;34m(self, engine)\u001b[0m\n\u001b[0;32m   1176\u001b[0m     \u001b[1;32mdef\u001b[0m \u001b[0m_make_engine\u001b[0m\u001b[1;33m(\u001b[0m\u001b[0mself\u001b[0m\u001b[1;33m,\u001b[0m \u001b[0mengine\u001b[0m\u001b[1;33m=\u001b[0m\u001b[1;34m\"c\"\u001b[0m\u001b[1;33m)\u001b[0m\u001b[1;33m:\u001b[0m\u001b[1;33m\u001b[0m\u001b[1;33m\u001b[0m\u001b[0m\n\u001b[0;32m   1177\u001b[0m         \u001b[1;32mif\u001b[0m \u001b[0mengine\u001b[0m \u001b[1;33m==\u001b[0m \u001b[1;34m\"c\"\u001b[0m\u001b[1;33m:\u001b[0m\u001b[1;33m\u001b[0m\u001b[1;33m\u001b[0m\u001b[0m\n\u001b[1;32m-> 1178\u001b[1;33m             \u001b[0mself\u001b[0m\u001b[1;33m.\u001b[0m\u001b[0m_engine\u001b[0m \u001b[1;33m=\u001b[0m \u001b[0mCParserWrapper\u001b[0m\u001b[1;33m(\u001b[0m\u001b[0mself\u001b[0m\u001b[1;33m.\u001b[0m\u001b[0mf\u001b[0m\u001b[1;33m,\u001b[0m \u001b[1;33m**\u001b[0m\u001b[0mself\u001b[0m\u001b[1;33m.\u001b[0m\u001b[0moptions\u001b[0m\u001b[1;33m)\u001b[0m\u001b[1;33m\u001b[0m\u001b[1;33m\u001b[0m\u001b[0m\n\u001b[0m\u001b[0;32m   1179\u001b[0m         \u001b[1;32melse\u001b[0m\u001b[1;33m:\u001b[0m\u001b[1;33m\u001b[0m\u001b[1;33m\u001b[0m\u001b[0m\n\u001b[0;32m   1180\u001b[0m             \u001b[1;32mif\u001b[0m \u001b[0mengine\u001b[0m \u001b[1;33m==\u001b[0m \u001b[1;34m\"python\"\u001b[0m\u001b[1;33m:\u001b[0m\u001b[1;33m\u001b[0m\u001b[1;33m\u001b[0m\u001b[0m\n",
      "\u001b[1;32m~\\anaconda3\\envs\\learn-env\\lib\\site-packages\\pandas\\io\\parsers.py\u001b[0m in \u001b[0;36m__init__\u001b[1;34m(self, src, **kwds)\u001b[0m\n\u001b[0;32m   2006\u001b[0m         \u001b[0mkwds\u001b[0m\u001b[1;33m[\u001b[0m\u001b[1;34m\"usecols\"\u001b[0m\u001b[1;33m]\u001b[0m \u001b[1;33m=\u001b[0m \u001b[0mself\u001b[0m\u001b[1;33m.\u001b[0m\u001b[0musecols\u001b[0m\u001b[1;33m\u001b[0m\u001b[1;33m\u001b[0m\u001b[0m\n\u001b[0;32m   2007\u001b[0m \u001b[1;33m\u001b[0m\u001b[0m\n\u001b[1;32m-> 2008\u001b[1;33m         \u001b[0mself\u001b[0m\u001b[1;33m.\u001b[0m\u001b[0m_reader\u001b[0m \u001b[1;33m=\u001b[0m \u001b[0mparsers\u001b[0m\u001b[1;33m.\u001b[0m\u001b[0mTextReader\u001b[0m\u001b[1;33m(\u001b[0m\u001b[0msrc\u001b[0m\u001b[1;33m,\u001b[0m \u001b[1;33m**\u001b[0m\u001b[0mkwds\u001b[0m\u001b[1;33m)\u001b[0m\u001b[1;33m\u001b[0m\u001b[1;33m\u001b[0m\u001b[0m\n\u001b[0m\u001b[0;32m   2009\u001b[0m         \u001b[0mself\u001b[0m\u001b[1;33m.\u001b[0m\u001b[0munnamed_cols\u001b[0m \u001b[1;33m=\u001b[0m \u001b[0mself\u001b[0m\u001b[1;33m.\u001b[0m\u001b[0m_reader\u001b[0m\u001b[1;33m.\u001b[0m\u001b[0munnamed_cols\u001b[0m\u001b[1;33m\u001b[0m\u001b[1;33m\u001b[0m\u001b[0m\n\u001b[0;32m   2010\u001b[0m \u001b[1;33m\u001b[0m\u001b[0m\n",
      "\u001b[1;32mpandas\\_libs\\parsers.pyx\u001b[0m in \u001b[0;36mpandas._libs.parsers.TextReader.__cinit__\u001b[1;34m()\u001b[0m\n",
      "\u001b[1;32mpandas\\_libs\\parsers.pyx\u001b[0m in \u001b[0;36mpandas._libs.parsers.TextReader._setup_parser_source\u001b[1;34m()\u001b[0m\n",
      "\u001b[1;31mFileNotFoundError\u001b[0m: [Errno 2] No such file or directory: 'zippedData/movie_metadata.csv'"
     ]
    }
   ],
   "source": [
    "df = pd.read_csv('zippedData/movie_metadata.csv')\n",
    "# Imports IMDB Data"
   ]
  },
  {
   "cell_type": "code",
   "execution_count": null,
   "metadata": {},
   "outputs": [],
   "source": [
    "df.info()\n",
    "df.groupby('movie_title').mean()['gross'].sort_values(ascending=False)"
   ]
  },
  {
   "cell_type": "code",
   "execution_count": null,
   "metadata": {
    "scrolled": false
   },
   "outputs": [],
   "source": [
    "df['gross'] = df['gross'].apply(lambda x: x/1000000)"
   ]
  },
  {
   "cell_type": "markdown",
   "metadata": {},
   "source": [
    "The gross revenue column ('gross')  is not very digestible because it is in dollars, the code above turns it into millions "
   ]
  },
  {
   "cell_type": "code",
   "execution_count": null,
   "metadata": {},
   "outputs": [],
   "source": [
    "def split_genres(genre):\n",
    "    return genre.split('|')[0]\n",
    "\n",
    "df['genres'] = df['genres'].apply(split_genres)"
   ]
  },
  {
   "cell_type": "markdown",
   "metadata": {},
   "source": [
    "In the IMDB dataset the 'genres' column has multiple entries separated by \"|\". For example, the first entry is 'Action|Adventure|Fantasy|Sci-Fi'. The above cell creates a function that returns the first main genre listed (so for the first entry it would return \"Action\""
   ]
  },
  {
   "cell_type": "code",
   "execution_count": null,
   "metadata": {},
   "outputs": [],
   "source": [
    "df['genres'].value_counts()"
   ]
  },
  {
   "cell_type": "markdown",
   "metadata": {},
   "source": [
    "# Business Understanding"
   ]
  },
  {
   "cell_type": "code",
   "execution_count": null,
   "metadata": {
    "scrolled": true
   },
   "outputs": [],
   "source": [
    "df.groupby('genres')['gross'].mean().sort_values(ascending=False)"
   ]
  },
  {
   "cell_type": "markdown",
   "metadata": {},
   "source": [
    "The above cell shows the mean gross revenue for movies in each genre and sorts them from highest to lowest. There is a bit of a drop off after \"Musical,\" so we will use the top 5 genres as a subset moving forward. It is our recommendation that Microsoft should create a movie in one of these genres -- below we will try to make some recommendations of director, actor, and movie plot! "
   ]
  },
  {
   "cell_type": "code",
   "execution_count": null,
   "metadata": {},
   "outputs": [],
   "source": [
    "x = list(df.groupby('genres')['gross'].mean().sort_values(ascending=False).index[0:10])\n",
    "y= list(df.groupby('genres')['gross'].mean().sort_values(ascending=False).values[0:10])\n",
    "\n",
    "fig, ax = plt.subplots(figsize=[12,8])\n",
    "ax = sns.barplot(x,y)\n",
    "ax.set_xlabel('Genre')\n",
    "ax.set_ylabel('Average Domestic Gross')\n",
    "ax.set_title('Most Profitable Genres');"
   ]
  },
  {
   "cell_type": "code",
   "execution_count": null,
   "metadata": {},
   "outputs": [],
   "source": [
    "df_genre_sub = df[df['genres'].isin(['Family', 'Action', 'Adventure', 'Animation', 'Musical'])]\n",
    "# Creates a new DF that only contains movies in the specified genres"
   ]
  },
  {
   "cell_type": "code",
   "execution_count": null,
   "metadata": {},
   "outputs": [],
   "source": [
    "df_genre_sub['director_name'].value_counts()[0:100]"
   ]
  },
  {
   "cell_type": "markdown",
   "metadata": {},
   "source": [
    "The code above shows the 100 directors who have made the most movies in the genres we have specified. 100 is a bit of an arbitrary cutoff but we wanted to select directors that had experience. Even the 100th person on this list (Luc Besson) has created 4 movies in the specified genres"
   ]
  },
  {
   "cell_type": "code",
   "execution_count": null,
   "metadata": {
    "scrolled": true
   },
   "outputs": [],
   "source": [
    "top_100_directors_for_genre = list(df_genre_sub['director_name'].value_counts().index[0:100])\n",
    "# Creates a list containing names of the 100 directors who have made the most movies in the specified genre"
   ]
  },
  {
   "cell_type": "code",
   "execution_count": null,
   "metadata": {},
   "outputs": [],
   "source": [
    "df_director_sub = df_genre_sub[df_genre_sub['director_name'].isin(top_100_directors_for_genre)]\n",
    "# Uses the list above to create a new dataframe with only entries for the above directors "
   ]
  },
  {
   "cell_type": "code",
   "execution_count": null,
   "metadata": {
    "scrolled": true
   },
   "outputs": [],
   "source": [
    "df_director_sub.groupby('director_name').mean()['gross'].sort_values(ascending=False)"
   ]
  },
  {
   "cell_type": "markdown",
   "metadata": {},
   "source": [
    "The code above groups the directors and shows the average gross revenue for movies they've produced. Based on the output, we should target Joss Whedon, George Lucas, Christopher Nolan, Andrew Agamson and Peter Jackson because they direct profitable movies "
   ]
  },
  {
   "cell_type": "code",
   "execution_count": null,
   "metadata": {},
   "outputs": [],
   "source": [
    "x = df_director_sub.groupby('director_name').mean()['gross'].sort_values(ascending=False).index[0:10]\n",
    "y = df_director_sub.groupby('director_name').mean()['gross'].sort_values(ascending=False).values[0:10]\n",
    "\n",
    "fig, ax = plt.subplots(figsize=[12,8])\n",
    "ax = sns.barplot(x,y)\n",
    "ax.set_xlabel('Director')\n",
    "ax.set_ylabel('Average Domestic Gross per Movie')\n",
    "ax.set_title('Most Profitable Directors');\n",
    "ax.set_xticklabels(labels=x, rotation=45) ;"
   ]
  },
  {
   "cell_type": "markdown",
   "metadata": {},
   "source": [
    "# Data Understanding "
   ]
  },
  {
   "cell_type": "code",
   "execution_count": null,
   "metadata": {},
   "outputs": [],
   "source": [
    "df.info()"
   ]
  },
  {
   "cell_type": "markdown",
   "metadata": {},
   "source": [
    "Based on the output above, we can see that there are 3 seperate columns for actors"
   ]
  },
  {
   "cell_type": "code",
   "execution_count": null,
   "metadata": {},
   "outputs": [],
   "source": [
    "df_2 = df.copy()\n",
    "df_3 = df.copy()\n",
    "\n",
    "# Creates two copies of the DF"
   ]
  },
  {
   "cell_type": "code",
   "execution_count": null,
   "metadata": {},
   "outputs": [],
   "source": [
    "df.drop(columns=['actor_2_name', 'actor_3_name'], inplace=True)\n",
    "df.rename(index=str, columns={\"actor_1_name\": \"actor\"}, inplace=True)\n",
    "# Deletes the actor_2 column and actor_3 column from the original DF and renames the actor_1 column "
   ]
  },
  {
   "cell_type": "code",
   "execution_count": null,
   "metadata": {},
   "outputs": [],
   "source": [
    "df_2.drop(columns=['actor_1_name', 'actor_3_name'], inplace=True)\n",
    "df_2.rename(index=str, columns={\"actor_2_name\": \"actor\"}, inplace=True)\n",
    "# Deletes the actor_1 column and actor_3 column from the original DF and renames the actor_2 column "
   ]
  },
  {
   "cell_type": "code",
   "execution_count": null,
   "metadata": {},
   "outputs": [],
   "source": [
    "df_3.drop(columns=['actor_1_name', 'actor_2_name'], inplace=True)\n",
    "df_3.rename(index=str, columns={\"actor_3_name\": \"actor\"}, inplace=True)\n",
    "# Deletes the actor_1 column and actor_3 column from the original DF and renames the actor_2 column "
   ]
  },
  {
   "cell_type": "code",
   "execution_count": null,
   "metadata": {},
   "outputs": [],
   "source": [
    "actors = pd.concat([df,df_2, df_3])"
   ]
  },
  {
   "cell_type": "code",
   "execution_count": null,
   "metadata": {},
   "outputs": [],
   "source": [
    "actors.info()"
   ]
  },
  {
   "cell_type": "code",
   "execution_count": null,
   "metadata": {},
   "outputs": [],
   "source": [
    "assert actors['gross'][5043] == actors['gross'][0]"
   ]
  },
  {
   "cell_type": "code",
   "execution_count": null,
   "metadata": {},
   "outputs": [],
   "source": [
    "assert actors['actor'][5043] == actors['actor'][0]"
   ]
  },
  {
   "cell_type": "markdown",
   "metadata": {},
   "source": [
    "The above code was a little clunky but we now have a dataframe with all of the actors in one column. We combined 3 indivdual dataframes. The second dataframe contained actors that were previously in the actor_2 column while the 3rd dataframe contained actors that were previously in the actor_3 column. Each of these dataframes was 5,043 rows and each row represents a movie. In the concatanated dataframe, each movie has 3 row entries, one for each actor. The assert statement above shows us that the gross revenue for row 0 is the same as the gross revenue for row 5043 (because they are the same movie!). There is an error in the second assert statement because now they have seperate actors in the actor column"
   ]
  },
  {
   "cell_type": "markdown",
   "metadata": {},
   "source": [
    "# Business Understanding"
   ]
  },
  {
   "cell_type": "code",
   "execution_count": null,
   "metadata": {},
   "outputs": [],
   "source": [
    "actors_genres_sub = actors[actors['genres'].isin(['Family', 'Action', 'Adventure', 'Animation', 'Musical'])]\n",
    "# This code creates a new DF with only movies in the genres we highlighted before "
   ]
  },
  {
   "cell_type": "code",
   "execution_count": null,
   "metadata": {},
   "outputs": [],
   "source": [
    "actors_genres_sub['actor'].value_counts()[0:200]"
   ]
  },
  {
   "cell_type": "markdown",
   "metadata": {},
   "source": [
    "Similar to the exercise we did with directors, the above output shows us the actors that have been in the most movies in the genres that we had selected as most profitable"
   ]
  },
  {
   "cell_type": "code",
   "execution_count": null,
   "metadata": {},
   "outputs": [],
   "source": [
    "top_200_actors_in_genre = list(actors_genres_sub['actor'].value_counts().index[0:200])\n",
    "# takes the above output and puts it into a list of actor names"
   ]
  },
  {
   "cell_type": "code",
   "execution_count": null,
   "metadata": {},
   "outputs": [],
   "source": [
    "actors_genres_sub = actors_genres_sub[actors_genres_sub['actor'].isin(top_200_actors_in_genre)]\n",
    "# Filters out actors that aren't in the top 200 list we created "
   ]
  },
  {
   "cell_type": "code",
   "execution_count": null,
   "metadata": {},
   "outputs": [],
   "source": [
    "actors_genres_sub.groupby('actor').mean()['gross'].sort_values(ascending=False)\n",
    "# Sorts actors by the average profitability of the movies that they are in.\n",
    "\n",
    "x = actors_genres_sub.groupby('actor').mean()['gross'].sort_values(ascending=False).index[0:10]\n",
    "y = actors_genres_sub.groupby('actor').mean()['gross'].sort_values(ascending=False).values[0:10]\n",
    "\n",
    "fig, ax = plt.subplots(figsize=[12,8])\n",
    "ax = sns.barplot(x,y)\n",
    "ax.set_xlabel('Actor')\n",
    "ax.set_ylabel('Average Domestic Gross per Movie')\n",
    "ax.set_title('Most Profitable Actors');\n",
    "ax.set_xticklabels(labels=x, rotation=45) ;"
   ]
  },
  {
   "cell_type": "markdown",
   "metadata": {},
   "source": [
    "Based on the above, it looks like we should target Robert Downey Jr., Robert Pattinson, Jennifer Lawrence, Scarlett Johansson and Daniel Radcliffe if we want a profitable movie!"
   ]
  },
  {
   "cell_type": "code",
   "execution_count": null,
   "metadata": {},
   "outputs": [],
   "source": [
    "actors_genres_sub.groupby('actor').mean()['imdb_score'].sort_values(ascending=False)"
   ]
  },
  {
   "cell_type": "markdown",
   "metadata": {},
   "source": [
    "The above sorts the top 200 actors in the specified genres by the average IMDB score for the movies they are in. None of the names in here appear in the most profitable"
   ]
  },
  {
   "cell_type": "markdown",
   "metadata": {},
   "source": [
    "# Data Understanding "
   ]
  },
  {
   "cell_type": "code",
   "execution_count": null,
   "metadata": {},
   "outputs": [],
   "source": [
    "df_keywords1 = pd.read_csv('zippedData/movie_metadata.csv')"
   ]
  },
  {
   "cell_type": "code",
   "execution_count": null,
   "metadata": {},
   "outputs": [],
   "source": [
    "df_keywords1['plot_keywords'][0]"
   ]
  },
  {
   "cell_type": "markdown",
   "metadata": {},
   "source": [
    "The dataset has a column for keywords in the plot (shown above), but similar to genre it has more than one keyword per movie and the keywords are divided by a \"|\". "
   ]
  },
  {
   "cell_type": "code",
   "execution_count": null,
   "metadata": {},
   "outputs": [],
   "source": [
    "def split_keyword1(keywords):\n",
    "      return keywords.split('|')[0]\n",
    "\n",
    "def split_keyword2(keywords):\n",
    "        if len(keywords.split('|')) > 1:\n",
    "            return keywords.split('|')[1]\n",
    "        else:\n",
    "            return \"No second keyword\"\n",
    "\n",
    "def split_keyword3(keywords):\n",
    "        if len(keywords.split('|')) > 2:\n",
    "            return keywords.split('|')[2]\n",
    "        else:\n",
    "            return \"No third keyword\"\n",
    "\n",
    "def split_keyword4(keywords):\n",
    "        if len(keywords.split('|')) > 3:\n",
    "            return keywords.split('|')[3]\n",
    "        else:\n",
    "            return \"No fourth keyword\"\n",
    "\n",
    "def split_keyword5(keywords):\n",
    "        if len(keywords.split('|')) > 4:\n",
    "            return keywords.split('|')[4]\n",
    "        else:\n",
    "            return \"No fifth keyword\""
   ]
  },
  {
   "cell_type": "markdown",
   "metadata": {},
   "source": [
    "The code above is a little messy but it creates 5 different functions that each return one of the keywords in the column. The function \"split_keyword1\" returns the first keyword, the function \"split_keyword2\" returns the second keyword and so on. The if statement within the function exists in case there are titles with only 1 or 2 keywords. If this is the case, without the if statement there would be an error message if we attempted to run 'split_keyword5'. Instead, the function returns the string \"No fifth keyword\""
   ]
  },
  {
   "cell_type": "code",
   "execution_count": null,
   "metadata": {},
   "outputs": [],
   "source": [
    "df_keywords1.dropna(subset=['plot_keywords'], inplace=True)\n",
    "df_keywords1['plot_keywords'] = df_keywords1['plot_keywords'].apply(split_keyword1)"
   ]
  },
  {
   "cell_type": "code",
   "execution_count": null,
   "metadata": {},
   "outputs": [],
   "source": [
    "df_keywords2 = pd.read_csv('zippedData/movie_metadata.csv')\n",
    "df_keywords2.dropna(subset=['plot_keywords'], inplace=True)\n",
    "df_keywords2['plot_keywords'] = df_keywords2['plot_keywords'].apply(split_keyword2)"
   ]
  },
  {
   "cell_type": "code",
   "execution_count": null,
   "metadata": {},
   "outputs": [],
   "source": [
    "df_keywords3 = pd.read_csv('zippedData/movie_metadata.csv')\n",
    "df_keywords3.dropna(subset=['plot_keywords'], inplace=True)\n",
    "df_keywords3['plot_keywords'] = df_keywords3['plot_keywords'].apply(split_keyword3)"
   ]
  },
  {
   "cell_type": "code",
   "execution_count": null,
   "metadata": {},
   "outputs": [],
   "source": [
    "df_keywords4 = pd.read_csv('zippedData/movie_metadata.csv')\n",
    "df_keywords4.dropna(subset=['plot_keywords'], inplace=True)\n",
    "df_keywords4['plot_keywords'] = df_keywords4['plot_keywords'].apply(split_keyword4)"
   ]
  },
  {
   "cell_type": "code",
   "execution_count": null,
   "metadata": {},
   "outputs": [],
   "source": [
    "df_keywords5 = pd.read_csv('zippedData/movie_metadata.csv')\n",
    "df_keywords5.dropna(subset=['plot_keywords'], inplace=True)\n",
    "df_keywords5['plot_keywords'] = df_keywords5['plot_keywords'].apply(split_keyword5)"
   ]
  },
  {
   "cell_type": "code",
   "execution_count": null,
   "metadata": {},
   "outputs": [],
   "source": [
    "df_keywords = pd.concat([df_keywords1,df_keywords2, df_keywords3, df_keywords4, df_keywords5])"
   ]
  },
  {
   "cell_type": "code",
   "execution_count": null,
   "metadata": {
    "scrolled": true
   },
   "outputs": [],
   "source": [
    "df_keywords"
   ]
  },
  {
   "cell_type": "markdown",
   "metadata": {},
   "source": [
    "The above is a little repetitive. It creates 5 new dataframes and populated each one with one of the title keywords. dataframe 1 has the first keyword in the 'plot_keyword column', dataframe 2 has the second keyword in the 'plot_keyword' and so on. "
   ]
  },
  {
   "cell_type": "code",
   "execution_count": null,
   "metadata": {},
   "outputs": [],
   "source": [
    "df_keywords = df_keywords[df_keywords['plot_keywords'] != \"No second keyword\"] \n",
    "df_keywords = df_keywords[df_keywords['plot_keywords'] != \"No third keyword\"] \n",
    "df_keywords = df_keywords[df_keywords['plot_keywords'] != \"No fourth keyword\"] \n",
    "df_keywords = df_keywords[df_keywords['plot_keywords'] != \"No fifth keyword\"] \n",
    "\n",
    "# The above eliminates all the instances in which the function didn't have a keyword"
   ]
  },
  {
   "cell_type": "markdown",
   "metadata": {},
   "source": [
    "# Business Understanding"
   ]
  },
  {
   "cell_type": "code",
   "execution_count": null,
   "metadata": {},
   "outputs": [],
   "source": [
    "x= list(df_keywords['plot_keywords'].value_counts().index[0:20])\n",
    "y= list(df_keywords['plot_keywords'].value_counts().values[0:20])"
   ]
  },
  {
   "cell_type": "code",
   "execution_count": null,
   "metadata": {},
   "outputs": [],
   "source": [
    "fig, ax = plt.subplots(figsize=[12,8])\n",
    "ax = sns.barplot(x,y)\n",
    "ax.set_xlabel('Plot Theme')\n",
    "ax.set_ylabel('Movie Counts')\n",
    "ax.set_title('Most Popular Movie Themes');\n",
    "ax.set_xticklabels(labels=x, rotation=90);"
   ]
  },
  {
   "cell_type": "markdown",
   "metadata": {},
   "source": [
    "Using our new dataframe of keywords, we created a list of the top 10 words and their associated counts above. The plot word that appears most often is \"Love\", awwwwwwwww! "
   ]
  },
  {
   "cell_type": "code",
   "execution_count": null,
   "metadata": {},
   "outputs": [],
   "source": [
    "top_100_keywords = list(df_keywords['plot_keywords'].value_counts().index[0:100])"
   ]
  },
  {
   "cell_type": "code",
   "execution_count": null,
   "metadata": {},
   "outputs": [],
   "source": [
    "df_keyword_sub = df_keywords[df_keywords['plot_keywords'].isin(top_100_keywords)]\n",
    "df_keyword_sub = df_keyword_sub.dropna(subset=['gross'])"
   ]
  },
  {
   "cell_type": "markdown",
   "metadata": {},
   "source": [
    "The above creates a list of 100 keywords that appear most frequently in the dataset and then filters out all movies that don't contain a keyword in this list and also filters out entries that don't have a value in the 'gross column'"
   ]
  },
  {
   "cell_type": "code",
   "execution_count": null,
   "metadata": {},
   "outputs": [],
   "source": [
    "df_keyword_sub['gross'] = df_keyword_sub['gross'].apply(lambda x: x/1000000)\n",
    "df_keyword_sub.groupby('plot_keywords').mean()['gross'].sort_values(ascending=False)"
   ]
  },
  {
   "cell_type": "code",
   "execution_count": null,
   "metadata": {},
   "outputs": [],
   "source": [
    "x = df_keyword_sub.groupby('plot_keywords').mean()['gross'].sort_values(ascending=False).index[0:20]\n",
    "y = df_keyword_sub.groupby('plot_keywords').mean()['gross'].sort_values(ascending=False).values[0:20]"
   ]
  },
  {
   "cell_type": "code",
   "execution_count": null,
   "metadata": {},
   "outputs": [],
   "source": [
    "fig, ax = plt.subplots(figsize=[12,8])\n",
    "ax = sns.barplot(x,y)\n",
    "ax.set_xlabel('Plot Theme')\n",
    "ax.set_ylabel('Average Domestic Gross Revenue (in $mm)')\n",
    "ax.set_title('Average Gross Revenue for Highest Grossing Plot Themes');\n",
    "ax.set_xticklabels(labels=x, rotation=90); "
   ]
  },
  {
   "cell_type": "markdown",
   "metadata": {},
   "source": [
    "Above, we grouped movies by keywords (aka plot themes) and then calculated the average revenue of movies containing that theme. The top 10 themes associated with the highest revenue are listed above. Due to this output, we would recommend creating a movie that has one of these themes"
   ]
  },
  {
   "cell_type": "markdown",
   "metadata": {},
   "source": [
    "In this section we identified 5 genres that generally translate to higher profitability: Family, Action, Adventure, Animation, Musical. We then created a subset of the data featuring movies from these categories and identified the actors and directors that have been involved in the highest earning films. We also identified plot themes that appear in movies that are the most successful in the box office. \n",
    "\n",
    "<b>Genres to target:</b> Family, Action, Adventure, Animation, Musical\n",
    "\n",
    "<b>Directors to target:</b> Joss Whedon, George Lucas, Christopher Nolan, Andrew Adamson, Peter Jackson \n",
    "\n",
    "<b>Actors to target:</b> Robert Downey, Robert Pattinson, Jennifer Lawrence, Kevin Dunn, Scarlett Johansson, Daniel Radcliffe, Jon Favreau, Orlando Bloom, John Ratzenberger, Albert Finney\n",
    "\n",
    "<b>Plot Themes:</b> superhero, princess, magic, battle, monster, assasin, terrorist, soldier, professor, king, future, spy, vampire, president, alien, island, CIA, scientist, revenge"
   ]
  },
  {
   "cell_type": "markdown",
   "metadata": {},
   "source": [
    "## The Numbers Data"
   ]
  },
  {
   "cell_type": "code",
   "execution_count": 61,
   "metadata": {
    "scrolled": false
   },
   "outputs": [
    {
     "data": {
      "text/html": [
       "<div>\n",
       "<style scoped>\n",
       "    .dataframe tbody tr th:only-of-type {\n",
       "        vertical-align: middle;\n",
       "    }\n",
       "\n",
       "    .dataframe tbody tr th {\n",
       "        vertical-align: top;\n",
       "    }\n",
       "\n",
       "    .dataframe thead th {\n",
       "        text-align: right;\n",
       "    }\n",
       "</style>\n",
       "<table border=\"1\" class=\"dataframe\">\n",
       "  <thead>\n",
       "    <tr style=\"text-align: right;\">\n",
       "      <th></th>\n",
       "      <th>id</th>\n",
       "      <th>release_date</th>\n",
       "      <th>movie</th>\n",
       "      <th>production_budget</th>\n",
       "      <th>domestic_gross</th>\n",
       "      <th>worldwide_gross</th>\n",
       "    </tr>\n",
       "  </thead>\n",
       "  <tbody>\n",
       "    <tr>\n",
       "      <th>0</th>\n",
       "      <td>1</td>\n",
       "      <td>Dec 18, 2009</td>\n",
       "      <td>Avatar</td>\n",
       "      <td>$425,000,000</td>\n",
       "      <td>$760,507,625</td>\n",
       "      <td>$2,776,345,279</td>\n",
       "    </tr>\n",
       "    <tr>\n",
       "      <th>1</th>\n",
       "      <td>2</td>\n",
       "      <td>May 20, 2011</td>\n",
       "      <td>Pirates of the Caribbean: On Stranger Tides</td>\n",
       "      <td>$410,600,000</td>\n",
       "      <td>$241,063,875</td>\n",
       "      <td>$1,045,663,875</td>\n",
       "    </tr>\n",
       "    <tr>\n",
       "      <th>2</th>\n",
       "      <td>3</td>\n",
       "      <td>Jun 7, 2019</td>\n",
       "      <td>Dark Phoenix</td>\n",
       "      <td>$350,000,000</td>\n",
       "      <td>$42,762,350</td>\n",
       "      <td>$149,762,350</td>\n",
       "    </tr>\n",
       "    <tr>\n",
       "      <th>3</th>\n",
       "      <td>4</td>\n",
       "      <td>May 1, 2015</td>\n",
       "      <td>Avengers: Age of Ultron</td>\n",
       "      <td>$330,600,000</td>\n",
       "      <td>$459,005,868</td>\n",
       "      <td>$1,403,013,963</td>\n",
       "    </tr>\n",
       "    <tr>\n",
       "      <th>4</th>\n",
       "      <td>5</td>\n",
       "      <td>Dec 15, 2017</td>\n",
       "      <td>Star Wars Ep. VIII: The Last Jedi</td>\n",
       "      <td>$317,000,000</td>\n",
       "      <td>$620,181,382</td>\n",
       "      <td>$1,316,721,747</td>\n",
       "    </tr>\n",
       "  </tbody>\n",
       "</table>\n",
       "</div>"
      ],
      "text/plain": [
       "   id  release_date                                        movie  \\\n",
       "0   1  Dec 18, 2009                                       Avatar   \n",
       "1   2  May 20, 2011  Pirates of the Caribbean: On Stranger Tides   \n",
       "2   3   Jun 7, 2019                                 Dark Phoenix   \n",
       "3   4   May 1, 2015                      Avengers: Age of Ultron   \n",
       "4   5  Dec 15, 2017            Star Wars Ep. VIII: The Last Jedi   \n",
       "\n",
       "  production_budget domestic_gross worldwide_gross  \n",
       "0      $425,000,000   $760,507,625  $2,776,345,279  \n",
       "1      $410,600,000   $241,063,875  $1,045,663,875  \n",
       "2      $350,000,000    $42,762,350    $149,762,350  \n",
       "3      $330,600,000   $459,005,868  $1,403,013,963  \n",
       "4      $317,000,000   $620,181,382  $1,316,721,747  "
      ]
     },
     "execution_count": 61,
     "metadata": {},
     "output_type": "execute_result"
    }
   ],
   "source": [
    "df = pd.read_csv('zippedData/tn.movie_budgets.csv.gz')\n",
    "df.head()"
   ]
  },
  {
   "cell_type": "code",
   "execution_count": 62,
   "metadata": {},
   "outputs": [
    {
     "name": "stdout",
     "output_type": "stream",
     "text": [
      "<class 'pandas.core.frame.DataFrame'>\n",
      "RangeIndex: 5782 entries, 0 to 5781\n",
      "Data columns (total 6 columns):\n",
      " #   Column             Non-Null Count  Dtype \n",
      "---  ------             --------------  ----- \n",
      " 0   id                 5782 non-null   int64 \n",
      " 1   release_date       5782 non-null   object\n",
      " 2   movie              5782 non-null   object\n",
      " 3   production_budget  5782 non-null   object\n",
      " 4   domestic_gross     5782 non-null   object\n",
      " 5   worldwide_gross    5782 non-null   object\n",
      "dtypes: int64(1), object(5)\n",
      "memory usage: 271.2+ KB\n"
     ]
    }
   ],
   "source": [
    "df.info()"
   ]
  },
  {
   "cell_type": "markdown",
   "metadata": {},
   "source": [
    "## Data Cleaning"
   ]
  },
  {
   "cell_type": "markdown",
   "metadata": {},
   "source": [
    "Luckily, we have no missing values. However, we need the data columns for production_budget, domestic_gross, and worldwide_gross to be integers, rather than strings, in order to properly analyze them. "
   ]
  },
  {
   "cell_type": "code",
   "execution_count": 63,
   "metadata": {},
   "outputs": [],
   "source": [
    "#cleaning the production budget column, domestic_gross column, worldwide_gross column to be floats\n",
    "df['prod_budg_fixed'] = df['production_budget'].str.replace('$', '').str.replace(',','').astype(float)\n",
    "df['dom_gross_fixed'] = df['domestic_gross'].str.replace('$', '').str.replace(',','').astype(float)\n",
    "df['world_gross_fixed'] = df['worldwide_gross'].str.replace('$', '').str.replace(',','').astype(float)"
   ]
  },
  {
   "cell_type": "code",
   "execution_count": 64,
   "metadata": {},
   "outputs": [
    {
     "data": {
      "text/html": [
       "<div>\n",
       "<style scoped>\n",
       "    .dataframe tbody tr th:only-of-type {\n",
       "        vertical-align: middle;\n",
       "    }\n",
       "\n",
       "    .dataframe tbody tr th {\n",
       "        vertical-align: top;\n",
       "    }\n",
       "\n",
       "    .dataframe thead th {\n",
       "        text-align: right;\n",
       "    }\n",
       "</style>\n",
       "<table border=\"1\" class=\"dataframe\">\n",
       "  <thead>\n",
       "    <tr style=\"text-align: right;\">\n",
       "      <th></th>\n",
       "      <th>id</th>\n",
       "      <th>release_date</th>\n",
       "      <th>movie</th>\n",
       "      <th>production_budget</th>\n",
       "      <th>domestic_gross</th>\n",
       "      <th>worldwide_gross</th>\n",
       "      <th>prod_budg_fixed</th>\n",
       "      <th>dom_gross_fixed</th>\n",
       "      <th>world_gross_fixed</th>\n",
       "    </tr>\n",
       "  </thead>\n",
       "  <tbody>\n",
       "    <tr>\n",
       "      <th>0</th>\n",
       "      <td>1</td>\n",
       "      <td>Dec 18, 2009</td>\n",
       "      <td>Avatar</td>\n",
       "      <td>$425,000,000</td>\n",
       "      <td>$760,507,625</td>\n",
       "      <td>$2,776,345,279</td>\n",
       "      <td>425000000.0</td>\n",
       "      <td>760507625.0</td>\n",
       "      <td>2.776345e+09</td>\n",
       "    </tr>\n",
       "    <tr>\n",
       "      <th>1</th>\n",
       "      <td>2</td>\n",
       "      <td>May 20, 2011</td>\n",
       "      <td>Pirates of the Caribbean: On Stranger Tides</td>\n",
       "      <td>$410,600,000</td>\n",
       "      <td>$241,063,875</td>\n",
       "      <td>$1,045,663,875</td>\n",
       "      <td>410600000.0</td>\n",
       "      <td>241063875.0</td>\n",
       "      <td>1.045664e+09</td>\n",
       "    </tr>\n",
       "    <tr>\n",
       "      <th>2</th>\n",
       "      <td>3</td>\n",
       "      <td>Jun 7, 2019</td>\n",
       "      <td>Dark Phoenix</td>\n",
       "      <td>$350,000,000</td>\n",
       "      <td>$42,762,350</td>\n",
       "      <td>$149,762,350</td>\n",
       "      <td>350000000.0</td>\n",
       "      <td>42762350.0</td>\n",
       "      <td>1.497624e+08</td>\n",
       "    </tr>\n",
       "    <tr>\n",
       "      <th>3</th>\n",
       "      <td>4</td>\n",
       "      <td>May 1, 2015</td>\n",
       "      <td>Avengers: Age of Ultron</td>\n",
       "      <td>$330,600,000</td>\n",
       "      <td>$459,005,868</td>\n",
       "      <td>$1,403,013,963</td>\n",
       "      <td>330600000.0</td>\n",
       "      <td>459005868.0</td>\n",
       "      <td>1.403014e+09</td>\n",
       "    </tr>\n",
       "    <tr>\n",
       "      <th>4</th>\n",
       "      <td>5</td>\n",
       "      <td>Dec 15, 2017</td>\n",
       "      <td>Star Wars Ep. VIII: The Last Jedi</td>\n",
       "      <td>$317,000,000</td>\n",
       "      <td>$620,181,382</td>\n",
       "      <td>$1,316,721,747</td>\n",
       "      <td>317000000.0</td>\n",
       "      <td>620181382.0</td>\n",
       "      <td>1.316722e+09</td>\n",
       "    </tr>\n",
       "  </tbody>\n",
       "</table>\n",
       "</div>"
      ],
      "text/plain": [
       "   id  release_date                                        movie  \\\n",
       "0   1  Dec 18, 2009                                       Avatar   \n",
       "1   2  May 20, 2011  Pirates of the Caribbean: On Stranger Tides   \n",
       "2   3   Jun 7, 2019                                 Dark Phoenix   \n",
       "3   4   May 1, 2015                      Avengers: Age of Ultron   \n",
       "4   5  Dec 15, 2017            Star Wars Ep. VIII: The Last Jedi   \n",
       "\n",
       "  production_budget domestic_gross worldwide_gross  prod_budg_fixed  \\\n",
       "0      $425,000,000   $760,507,625  $2,776,345,279      425000000.0   \n",
       "1      $410,600,000   $241,063,875  $1,045,663,875      410600000.0   \n",
       "2      $350,000,000    $42,762,350    $149,762,350      350000000.0   \n",
       "3      $330,600,000   $459,005,868  $1,403,013,963      330600000.0   \n",
       "4      $317,000,000   $620,181,382  $1,316,721,747      317000000.0   \n",
       "\n",
       "   dom_gross_fixed  world_gross_fixed  \n",
       "0      760507625.0       2.776345e+09  \n",
       "1      241063875.0       1.045664e+09  \n",
       "2       42762350.0       1.497624e+08  \n",
       "3      459005868.0       1.403014e+09  \n",
       "4      620181382.0       1.316722e+09  "
      ]
     },
     "execution_count": 64,
     "metadata": {},
     "output_type": "execute_result"
    }
   ],
   "source": [
    "df.head()"
   ]
  },
  {
   "cell_type": "code",
   "execution_count": 65,
   "metadata": {},
   "outputs": [
    {
     "data": {
      "text/html": [
       "<div>\n",
       "<style scoped>\n",
       "    .dataframe tbody tr th:only-of-type {\n",
       "        vertical-align: middle;\n",
       "    }\n",
       "\n",
       "    .dataframe tbody tr th {\n",
       "        vertical-align: top;\n",
       "    }\n",
       "\n",
       "    .dataframe thead th {\n",
       "        text-align: right;\n",
       "    }\n",
       "</style>\n",
       "<table border=\"1\" class=\"dataframe\">\n",
       "  <thead>\n",
       "    <tr style=\"text-align: right;\">\n",
       "      <th></th>\n",
       "      <th>id</th>\n",
       "      <th>prod_budg_fixed</th>\n",
       "      <th>dom_gross_fixed</th>\n",
       "      <th>world_gross_fixed</th>\n",
       "    </tr>\n",
       "  </thead>\n",
       "  <tbody>\n",
       "    <tr>\n",
       "      <th>count</th>\n",
       "      <td>5782.000000</td>\n",
       "      <td>5.782000e+03</td>\n",
       "      <td>5.782000e+03</td>\n",
       "      <td>5.782000e+03</td>\n",
       "    </tr>\n",
       "    <tr>\n",
       "      <th>mean</th>\n",
       "      <td>50.372363</td>\n",
       "      <td>3.158776e+07</td>\n",
       "      <td>4.187333e+07</td>\n",
       "      <td>9.148746e+07</td>\n",
       "    </tr>\n",
       "    <tr>\n",
       "      <th>std</th>\n",
       "      <td>28.821076</td>\n",
       "      <td>4.181208e+07</td>\n",
       "      <td>6.824060e+07</td>\n",
       "      <td>1.747200e+08</td>\n",
       "    </tr>\n",
       "    <tr>\n",
       "      <th>min</th>\n",
       "      <td>1.000000</td>\n",
       "      <td>1.100000e+03</td>\n",
       "      <td>0.000000e+00</td>\n",
       "      <td>0.000000e+00</td>\n",
       "    </tr>\n",
       "    <tr>\n",
       "      <th>25%</th>\n",
       "      <td>25.000000</td>\n",
       "      <td>5.000000e+06</td>\n",
       "      <td>1.429534e+06</td>\n",
       "      <td>4.125415e+06</td>\n",
       "    </tr>\n",
       "    <tr>\n",
       "      <th>50%</th>\n",
       "      <td>50.000000</td>\n",
       "      <td>1.700000e+07</td>\n",
       "      <td>1.722594e+07</td>\n",
       "      <td>2.798445e+07</td>\n",
       "    </tr>\n",
       "    <tr>\n",
       "      <th>75%</th>\n",
       "      <td>75.000000</td>\n",
       "      <td>4.000000e+07</td>\n",
       "      <td>5.234866e+07</td>\n",
       "      <td>9.764584e+07</td>\n",
       "    </tr>\n",
       "    <tr>\n",
       "      <th>max</th>\n",
       "      <td>100.000000</td>\n",
       "      <td>4.250000e+08</td>\n",
       "      <td>9.366622e+08</td>\n",
       "      <td>2.776345e+09</td>\n",
       "    </tr>\n",
       "  </tbody>\n",
       "</table>\n",
       "</div>"
      ],
      "text/plain": [
       "                id  prod_budg_fixed  dom_gross_fixed  world_gross_fixed\n",
       "count  5782.000000     5.782000e+03     5.782000e+03       5.782000e+03\n",
       "mean     50.372363     3.158776e+07     4.187333e+07       9.148746e+07\n",
       "std      28.821076     4.181208e+07     6.824060e+07       1.747200e+08\n",
       "min       1.000000     1.100000e+03     0.000000e+00       0.000000e+00\n",
       "25%      25.000000     5.000000e+06     1.429534e+06       4.125415e+06\n",
       "50%      50.000000     1.700000e+07     1.722594e+07       2.798445e+07\n",
       "75%      75.000000     4.000000e+07     5.234866e+07       9.764584e+07\n",
       "max     100.000000     4.250000e+08     9.366622e+08       2.776345e+09"
      ]
     },
     "execution_count": 65,
     "metadata": {},
     "output_type": "execute_result"
    }
   ],
   "source": [
    "df.describe()"
   ]
  },
  {
   "cell_type": "markdown",
   "metadata": {},
   "source": [
    "## Data Analysis\n",
    "With the cleaning out of the way, we have a column of floats for production budget called prod_budg_fixed, a column of floats for domestic gross called dom_gross_fixed, and a column of floats for worldwide gross called world_gross_fixed. We can now start exploring relationships between production budget and the gross revenue"
   ]
  },
  {
   "cell_type": "code",
   "execution_count": 66,
   "metadata": {},
   "outputs": [
    {
     "data": {
      "text/html": [
       "<div>\n",
       "<style scoped>\n",
       "    .dataframe tbody tr th:only-of-type {\n",
       "        vertical-align: middle;\n",
       "    }\n",
       "\n",
       "    .dataframe tbody tr th {\n",
       "        vertical-align: top;\n",
       "    }\n",
       "\n",
       "    .dataframe thead th {\n",
       "        text-align: right;\n",
       "    }\n",
       "</style>\n",
       "<table border=\"1\" class=\"dataframe\">\n",
       "  <thead>\n",
       "    <tr style=\"text-align: right;\">\n",
       "      <th></th>\n",
       "      <th>id</th>\n",
       "      <th>prod_budg_fixed</th>\n",
       "      <th>dom_gross_fixed</th>\n",
       "      <th>world_gross_fixed</th>\n",
       "    </tr>\n",
       "  </thead>\n",
       "  <tbody>\n",
       "    <tr>\n",
       "      <th>id</th>\n",
       "      <td>1.000000</td>\n",
       "      <td>-0.035278</td>\n",
       "      <td>0.008255</td>\n",
       "      <td>-0.009422</td>\n",
       "    </tr>\n",
       "    <tr>\n",
       "      <th>prod_budg_fixed</th>\n",
       "      <td>-0.035278</td>\n",
       "      <td>1.000000</td>\n",
       "      <td>0.685682</td>\n",
       "      <td>0.748306</td>\n",
       "    </tr>\n",
       "    <tr>\n",
       "      <th>dom_gross_fixed</th>\n",
       "      <td>0.008255</td>\n",
       "      <td>0.685682</td>\n",
       "      <td>1.000000</td>\n",
       "      <td>0.938853</td>\n",
       "    </tr>\n",
       "    <tr>\n",
       "      <th>world_gross_fixed</th>\n",
       "      <td>-0.009422</td>\n",
       "      <td>0.748306</td>\n",
       "      <td>0.938853</td>\n",
       "      <td>1.000000</td>\n",
       "    </tr>\n",
       "  </tbody>\n",
       "</table>\n",
       "</div>"
      ],
      "text/plain": [
       "                         id  prod_budg_fixed  dom_gross_fixed  \\\n",
       "id                 1.000000        -0.035278         0.008255   \n",
       "prod_budg_fixed   -0.035278         1.000000         0.685682   \n",
       "dom_gross_fixed    0.008255         0.685682         1.000000   \n",
       "world_gross_fixed -0.009422         0.748306         0.938853   \n",
       "\n",
       "                   world_gross_fixed  \n",
       "id                         -0.009422  \n",
       "prod_budg_fixed             0.748306  \n",
       "dom_gross_fixed             0.938853  \n",
       "world_gross_fixed           1.000000  "
      ]
     },
     "execution_count": 66,
     "metadata": {},
     "output_type": "execute_result"
    }
   ],
   "source": [
    "#Checking the Pearson Correlation Coefficient\n",
    "df.corr(method='pearson')"
   ]
  },
  {
   "cell_type": "markdown",
   "metadata": {},
   "source": [
    "From here, we can see that there is a relatively high correlation between production budget and worldwide gross (0.748306), and an extremely high correlation between the domestic gross and worldwide gross, indicating that a movie doing well in domestic theaters will also do well internationally. Logical, but nice to know."
   ]
  },
  {
   "cell_type": "code",
   "execution_count": 67,
   "metadata": {},
   "outputs": [
    {
     "name": "stdout",
     "output_type": "stream",
     "text": [
      "y=3.126943x+(-7285667.054592)\n",
      "y2=1.119087x+(6523888.576660)\n"
     ]
    },
    {
     "data": {
      "image/png": "[encoded data removed]",
      "text/plain": [
       "<Figure size 1152x864 with 1 Axes>"
      ]
     },
     "metadata": {
      "needs_background": "light"
     },
     "output_type": "display_data"
    }
   ],
   "source": [
    "#scatterplot of production budget vs worldwide gross\n",
    "import matplotlib.pyplot as plt\n",
    "from matplotlib.axis import Axis\n",
    "import seaborn as sns\n",
    "import numpy as np\n",
    "import pylab as plb\n",
    "\n",
    "\n",
    "#code for basic scatter plot\n",
    "x = df['prod_budg_fixed']\n",
    "y = df['world_gross_fixed']\n",
    "\n",
    "fig, ax = plt.subplots(figsize=(16, 12))\n",
    "\n",
    "#going for more of a 'heatmap' style plot for readability, so opacity is low\n",
    "ax.scatter(x, y, alpha=0.5)\n",
    "ax.set_title('Production Budget vs. Gross Revenue')\n",
    "ax.set_xlabel('Production Budget')\n",
    "ax.set_ylabel('Worldwide Gross (Blue) and Domestic Gross (Orange)')\n",
    "\n",
    "#domestic gross scatter plot\n",
    "y2 = df['dom_gross_fixed']\n",
    "ax.scatter(x, y2, alpha=0.5, c='pink')\n",
    "plt.legend(['Worldwide', 'Domestic'])\n",
    "\n",
    "#finding the trend line\n",
    "z = np.polyfit(x,y,1)\n",
    "p = np.poly1d(z)\n",
    "plb.plot(x, p(x), 'b--')\n",
    "#Supposedly the equation for the line (need to look into this more to understand it)\n",
    "print(\"y=%.6fx+(%.6f)\"%(z[0],z[1]))\n",
    "\n",
    "#second trend line\n",
    "z2 = np.polyfit(x,y2,1)\n",
    "p2 = np.poly1d(z2)\n",
    "plb.plot(x, p2(x), 'r--')\n",
    "print(\"y2=%.6fx+(%.6f)\"%(z2[0],z2[1]))"
   ]
  },
  {
   "cell_type": "code",
   "execution_count": null,
   "metadata": {},
   "outputs": [],
   "source": []
  }
 ],
 "metadata": {
  "kernelspec": {
   "display_name": "Python 3",
   "language": "python",
   "name": "python3"
  },
  "language_info": {
   "codemirror_mode": {
    "name": "ipython",
    "version": 3
   },
   "file_extension": ".py",
   "mimetype": "text/x-python",
   "name": "python",
   "nbconvert_exporter": "python",
   "pygments_lexer": "ipython3",
   "version": "3.8.5"
  }
 },
 "nbformat": 4,
 "nbformat_minor": 2
}
