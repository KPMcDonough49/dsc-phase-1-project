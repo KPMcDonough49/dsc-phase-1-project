{
 "cells": [
  {
   "cell_type": "code",
   "execution_count": 134,
   "metadata": {},
   "outputs": [],
   "source": [
    "import seaborn as sns\n",
    "from matplotlib import pyplot as plt\n",
    "import numpy as np\n",
    "from scipy import stats\n",
    "from sklearn.datasets import load_iris\n",
    "import pandas as pd"
   ]
  },
  {
   "cell_type": "code",
   "execution_count": 135,
   "metadata": {},
   "outputs": [],
   "source": [
    "df_rt1 = pd.read_csv('zippedData/rt.movie_info.tsv.gz', sep='\\t')"
   ]
  },
  {
   "cell_type": "code",
   "execution_count": 136,
   "metadata": {},
   "outputs": [
    {
     "name": "stdout",
     "output_type": "stream",
     "text": [
      "<class 'pandas.core.frame.DataFrame'>\n",
      "RangeIndex: 1560 entries, 0 to 1559\n",
      "Data columns (total 12 columns):\n",
      " #   Column        Non-Null Count  Dtype \n",
      "---  ------        --------------  ----- \n",
      " 0   id            1560 non-null   int64 \n",
      " 1   synopsis      1498 non-null   object\n",
      " 2   rating        1557 non-null   object\n",
      " 3   genre         1552 non-null   object\n",
      " 4   director      1361 non-null   object\n",
      " 5   writer        1111 non-null   object\n",
      " 6   theater_date  1201 non-null   object\n",
      " 7   dvd_date      1201 non-null   object\n",
      " 8   currency      340 non-null    object\n",
      " 9   box_office    340 non-null    object\n",
      " 10  runtime       1530 non-null   object\n",
      " 11  studio        494 non-null    object\n",
      "dtypes: int64(1), object(11)\n",
      "memory usage: 146.4+ KB\n"
     ]
    }
   ],
   "source": [
    "df_rt1.info()"
   ]
  },
  {
   "cell_type": "code",
   "execution_count": 137,
   "metadata": {},
   "outputs": [],
   "source": [
    "df_rt2 = pd.read_csv('zippedData/rt.reviews.tsv.gz', sep='\\t', encoding=\"cp1252\")"
   ]
  },
  {
   "cell_type": "code",
   "execution_count": 138,
   "metadata": {},
   "outputs": [
    {
     "name": "stdout",
     "output_type": "stream",
     "text": [
      "<class 'pandas.core.frame.DataFrame'>\n",
      "RangeIndex: 54432 entries, 0 to 54431\n",
      "Data columns (total 8 columns):\n",
      " #   Column      Non-Null Count  Dtype \n",
      "---  ------      --------------  ----- \n",
      " 0   id          54432 non-null  int64 \n",
      " 1   review      48869 non-null  object\n",
      " 2   rating      40915 non-null  object\n",
      " 3   fresh       54432 non-null  object\n",
      " 4   critic      51710 non-null  object\n",
      " 5   top_critic  54432 non-null  int64 \n",
      " 6   publisher   54123 non-null  object\n",
      " 7   date        54432 non-null  object\n",
      "dtypes: int64(2), object(6)\n",
      "memory usage: 3.3+ MB\n"
     ]
    }
   ],
   "source": [
    "df_rt2.info()"
   ]
  },
  {
   "cell_type": "code",
   "execution_count": 139,
   "metadata": {},
   "outputs": [],
   "source": [
    "df_rt = df_rt1.merge(df_rt2, how='inner', on='id')"
   ]
  },
  {
   "cell_type": "code",
   "execution_count": 140,
   "metadata": {},
   "outputs": [
    {
     "name": "stdout",
     "output_type": "stream",
     "text": [
      "<class 'pandas.core.frame.DataFrame'>\n",
      "Int64Index: 54432 entries, 0 to 54431\n",
      "Data columns (total 19 columns):\n",
      " #   Column        Non-Null Count  Dtype \n",
      "---  ------        --------------  ----- \n",
      " 0   id            54432 non-null  int64 \n",
      " 1   synopsis      54300 non-null  object\n",
      " 2   rating_x      54346 non-null  object\n",
      " 3   genre         54345 non-null  object\n",
      " 4   director      48992 non-null  object\n",
      " 5   writer        45206 non-null  object\n",
      " 6   theater_date  53206 non-null  object\n",
      " 7   dvd_date      53206 non-null  object\n",
      " 8   currency      33310 non-null  object\n",
      " 9   box_office    33310 non-null  object\n",
      " 10  runtime       53594 non-null  object\n",
      " 11  studio        40125 non-null  object\n",
      " 12  review        48869 non-null  object\n",
      " 13  rating_y      40915 non-null  object\n",
      " 14  fresh         54432 non-null  object\n",
      " 15  critic        51710 non-null  object\n",
      " 16  top_critic    54432 non-null  int64 \n",
      " 17  publisher     54123 non-null  object\n",
      " 18  date          54432 non-null  object\n",
      "dtypes: int64(2), object(17)\n",
      "memory usage: 8.3+ MB\n"
     ]
    }
   ],
   "source": [
    "df_rt.info()"
   ]
  },
  {
   "cell_type": "code",
   "execution_count": 141,
   "metadata": {},
   "outputs": [],
   "source": [
    "import string\n",
    "df_rt['box_office'] = df_rt['box_office'].str.replace('[{}]'.format(string.punctuation), '')"
   ]
  },
  {
   "cell_type": "code",
   "execution_count": 142,
   "metadata": {},
   "outputs": [],
   "source": [
    "df_rt['box_office'] = df_rt['box_office'].apply(lambda x: float(x))"
   ]
  },
  {
   "cell_type": "code",
   "execution_count": 143,
   "metadata": {},
   "outputs": [],
   "source": [
    "df_rt['runtime'] = df_rt['runtime'].str.strip('minutes')"
   ]
  },
  {
   "cell_type": "code",
   "execution_count": 144,
   "metadata": {},
   "outputs": [],
   "source": [
    "df_rt['theater_date'] = pd.to_datetime(df_rt['theater_date'], )"
   ]
  },
  {
   "cell_type": "code",
   "execution_count": 145,
   "metadata": {},
   "outputs": [],
   "source": [
    "df_rt.dropna(subset=['rating_y'], inplace=True)"
   ]
  },
  {
   "cell_type": "code",
   "execution_count": 146,
   "metadata": {},
   "outputs": [],
   "source": [
    "ratings = list(df_rt['rating_y'].value_counts().index[0:186])"
   ]
  },
  {
   "cell_type": "code",
   "execution_count": 147,
   "metadata": {},
   "outputs": [
    {
     "data": {
      "text/plain": [
       "['3/5',\n",
       " '4/5',\n",
       " '3/4',\n",
       " '2/5',\n",
       " '2/4',\n",
       " '2.5/4',\n",
       " '3.5/4',\n",
       " '3.5/5',\n",
       " '5/5',\n",
       " 'B',\n",
       " '1/5',\n",
       " '1.5/4',\n",
       " '4/4',\n",
       " '2.5/5',\n",
       " 'B+',\n",
       " '1/4',\n",
       " 'B-',\n",
       " 'C',\n",
       " 'C+',\n",
       " '4.5/5',\n",
       " '7/10',\n",
       " 'A-',\n",
       " '8/10',\n",
       " 'C-',\n",
       " '6/10',\n",
       " '1.5/5',\n",
       " 'A',\n",
       " '5/10',\n",
       " 'D',\n",
       " '9/10',\n",
       " '4/10',\n",
       " 'D+',\n",
       " '0/5',\n",
       " '8',\n",
       " '3/10',\n",
       " '1',\n",
       " '0/4',\n",
       " '7',\n",
       " 'F',\n",
       " '0.5/4',\n",
       " 'D-',\n",
       " '6',\n",
       " '2/10',\n",
       " 'A+',\n",
       " '7.5/10',\n",
       " '0.5/5',\n",
       " '5',\n",
       " '8.5/10',\n",
       " '6.5/10',\n",
       " '4',\n",
       " '9',\n",
       " '3',\n",
       " '1/10',\n",
       " '5.5/10',\n",
       " '4.5/10',\n",
       " '3.0/4',\n",
       " '3.5',\n",
       " '9.5/10',\n",
       " '3/6',\n",
       " '2.0/5',\n",
       " '3.0/5',\n",
       " '4.0/4',\n",
       " '2',\n",
       " '4/6',\n",
       " '2.1/2',\n",
       " '5.0/5',\n",
       " '2.5',\n",
       " '6/8',\n",
       " '2.7',\n",
       " '2/6',\n",
       " '4.0/5',\n",
       " '7.1/10',\n",
       " '6.0/10',\n",
       " '0',\n",
       " '2.5/10',\n",
       " '4.5',\n",
       " 'R',\n",
       " '5.9/10',\n",
       " '5.0/10',\n",
       " '8.2/10',\n",
       " '2.2',\n",
       " '3.7',\n",
       " '1.5',\n",
       " '7.9/10',\n",
       " '5.5/5',\n",
       " '0/10',\n",
       " '3.5/10',\n",
       " '8.0/10',\n",
       " '2.0/4',\n",
       " '7.4/10',\n",
       " '6.8/10',\n",
       " '7.2/10',\n",
       " '8.9/10',\n",
       " '5/6',\n",
       " '1.5/10',\n",
       " '8.4/10',\n",
       " '4.7',\n",
       " '9.2/10',\n",
       " '3.2',\n",
       " '1/6',\n",
       " '1.0/4',\n",
       " '3.8/5',\n",
       " '7.7/10',\n",
       " '3.0',\n",
       " '8.6/10',\n",
       " '8.1/10',\n",
       " '2.4/5',\n",
       " '8.3/10',\n",
       " '4.8',\n",
       " '9.0/10',\n",
       " '1.9/5',\n",
       " '5.8',\n",
       " '2/2',\n",
       " '6.9/10',\n",
       " '8.7/10',\n",
       " '4.9/10',\n",
       " '8.2',\n",
       " '7.0/10',\n",
       " '3.3/5',\n",
       " '5.8/10',\n",
       " '7.8/10',\n",
       " '3.6/5',\n",
       " '8.8/10',\n",
       " 'N',\n",
       " '3.7/5',\n",
       " '9.8',\n",
       " '7.6/10',\n",
       " '3.4',\n",
       " '4.2/10',\n",
       " '4.1/10',\n",
       " '6.2/10',\n",
       " '4.0',\n",
       " '1.0',\n",
       " '7.7',\n",
       " '7.8',\n",
       " '4.9',\n",
       " '5.2',\n",
       " '1.7',\n",
       " '4.3/5',\n",
       " '2.3/10',\n",
       " '6.7',\n",
       " '3.1',\n",
       " '7.4',\n",
       " '2.2/5',\n",
       " '9.0',\n",
       " '6.2',\n",
       " '1.8',\n",
       " '7.3',\n",
       " '4.3/10',\n",
       " '8.9',\n",
       " '2.6/6',\n",
       " '1-5',\n",
       " '2.7/5',\n",
       " '8.5',\n",
       " '7.1',\n",
       " '3 1/2',\n",
       " '0/6',\n",
       " '9.2',\n",
       " '3.1/5',\n",
       " '2.6/5',\n",
       " '7.3/10',\n",
       " '1.6/5',\n",
       " '2.3/5',\n",
       " '4.0/10',\n",
       " '5.9',\n",
       " '6.3/10',\n",
       " '4.2/5',\n",
       " '4.1',\n",
       " '3.8/10',\n",
       " '8.4',\n",
       " '3/2',\n",
       " 'F+',\n",
       " 'T',\n",
       " '3.3',\n",
       " '1.0/5',\n",
       " '9.6/10',\n",
       " '3.0/10',\n",
       " '2.3/4',\n",
       " '4.4/5',\n",
       " '5/4',\n",
       " '4.2',\n",
       " '1/2',\n",
       " '0.5/10',\n",
       " '9.7',\n",
       " '7.9',\n",
       " 'F-']"
      ]
     },
     "execution_count": 147,
     "metadata": {},
     "output_type": "execute_result"
    }
   ],
   "source": [
    "ratings"
   ]
  },
  {
   "cell_type": "code",
   "execution_count": 148,
   "metadata": {},
   "outputs": [],
   "source": [
    "def standardize(rating):\n",
    "    if rating.endswith('5') and '/' in rating and '.' in rating:\n",
    "        return (float(rating[0:3]) / float(rating[-1])) * 100\n",
    "    elif rating.endswith('10') and '/' in rating and '.' in rating:\n",
    "        return (float(rating[0:3]) / float(rating[-2:])) * 100\n",
    "    elif rating.endswith('5') and '/' in rating:\n",
    "        return (float(rating[0]) / float(rating[-1])) * 100\n",
    "    elif rating.endswith('10') and '/' in rating:\n",
    "        return (float(rating[0]) / float(rating[-2:])) * 100\n",
    "    elif rating == 'A+':\n",
    "        return 98\n",
    "    elif rating == 'A':\n",
    "        return 95\n",
    "    elif rating == 'A-':\n",
    "        return 92\n",
    "    elif rating == 'B+':\n",
    "        return 88\n",
    "    elif rating == 'B':\n",
    "        return 85\n",
    "    elif rating == 'B-':\n",
    "        return 82\n",
    "    elif rating == 'C+':\n",
    "        return 78\n",
    "    elif rating == 'C':\n",
    "        return 75\n",
    "    elif rating == 'C-':\n",
    "        return 72\n",
    "    elif rating == 'D+': \n",
    "        return 68\n",
    "    elif rating == 'D':\n",
    "        return 65\n",
    "    elif rating == 'D-':\n",
    "        return 62\n",
    "        "
   ]
  },
  {
   "cell_type": "code",
   "execution_count": 149,
   "metadata": {},
   "outputs": [],
   "source": [
    "standardized_list = []\n",
    "for rating in ratings:\n",
    "    new_rating = standardize(rating)\n",
    "    standardized_list.append(new_rating)"
   ]
  },
  {
   "cell_type": "code",
   "execution_count": 150,
   "metadata": {},
   "outputs": [
    {
     "data": {
      "text/plain": [
       "84"
      ]
     },
     "execution_count": 150,
     "metadata": {},
     "output_type": "execute_result"
    }
   ],
   "source": [
    "standardized_list.index(110.00000000000001)"
   ]
  },
  {
   "cell_type": "code",
   "execution_count": 151,
   "metadata": {},
   "outputs": [],
   "source": [
    "df_rt['rating_y'] = df_rt['rating_y'].apply(standardize)"
   ]
  },
  {
   "cell_type": "code",
   "execution_count": 152,
   "metadata": {},
   "outputs": [],
   "source": [
    "df_rt.dropna(subset=['rating_y'], inplace=True)"
   ]
  },
  {
   "cell_type": "code",
   "execution_count": 153,
   "metadata": {},
   "outputs": [
    {
     "data": {
      "text/plain": [
       "0        60.0\n",
       "6        75.0\n",
       "7        40.0\n",
       "11       82.0\n",
       "13       85.0\n",
       "         ... \n",
       "54424    30.0\n",
       "54428    20.0\n",
       "54429    40.0\n",
       "54430    50.0\n",
       "54431    60.0\n",
       "Name: rating_y, Length: 26352, dtype: float64"
      ]
     },
     "execution_count": 153,
     "metadata": {},
     "output_type": "execute_result"
    }
   ],
   "source": [
    "df_rt['rating_y']"
   ]
  },
  {
   "cell_type": "code",
   "execution_count": 154,
   "metadata": {},
   "outputs": [
    {
     "data": {
      "image/png": "[encoded data removed]",
      "text/plain": [
       "<Figure size 432x288 with 1 Axes>"
      ]
     },
     "metadata": {
      "needs_background": "light"
     },
     "output_type": "display_data"
    }
   ],
   "source": [
    "fig, ax = plt.subplots()\n",
    "ax.hist(df_rt['rating_y']);"
   ]
  },
  {
   "cell_type": "code",
   "execution_count": 155,
   "metadata": {},
   "outputs": [],
   "source": [
    "df_rt.dropna(subset=['box_office'], inplace=True)"
   ]
  },
  {
   "cell_type": "code",
   "execution_count": 156,
   "metadata": {},
   "outputs": [],
   "source": [
    "def fresh(rating):\n",
    "    if rating == 'fresh':\n",
    "        return 1\n",
    "    elif rating == 'rotten':\n",
    "        return 0 "
   ]
  },
  {
   "cell_type": "code",
   "execution_count": 157,
   "metadata": {},
   "outputs": [],
   "source": [
    "df_rt['fresh'] = df_rt['fresh'].apply(fresh)"
   ]
  },
  {
   "cell_type": "code",
   "execution_count": 158,
   "metadata": {},
   "outputs": [
    {
     "data": {
      "text/plain": [
       "$    15686\n",
       "Name: currency, dtype: int64"
      ]
     },
     "execution_count": 158,
     "metadata": {},
     "output_type": "execute_result"
    }
   ],
   "source": [
    "df_rt['currency'].value_counts()"
   ]
  },
  {
   "cell_type": "code",
   "execution_count": 159,
   "metadata": {},
   "outputs": [],
   "source": [
    "df_rt['rating_y'] = df_rt.groupby('id')['rating_y'].transform(\n",
    "    lambda grp: np.mean(grp)\n",
    ")\n",
    "df_rt['fresh'] = df_rt.groupby('id')['fresh'].transform(\n",
    "    lambda grp: np.mean(grp)\n",
    ")"
   ]
  },
  {
   "cell_type": "code",
   "execution_count": 160,
   "metadata": {},
   "outputs": [],
   "source": [
    "df_rt = df_rt.drop_duplicates(subset='id')"
   ]
  },
  {
   "cell_type": "code",
   "execution_count": 161,
   "metadata": {
    "scrolled": true
   },
   "outputs": [
    {
     "data": {
      "image/png": "[encoded data removed]",
      "text/plain": [
       "<Figure size 432x288 with 1 Axes>"
      ]
     },
     "metadata": {
      "needs_background": "light"
     },
     "output_type": "display_data"
    }
   ],
   "source": [
    "fig, ax = plt.subplots()\n",
    "x = df_rt['rating_y']\n",
    "y = df_rt['box_office']\n",
    "ax.scatter(x,y);"
   ]
  },
  {
   "cell_type": "code",
   "execution_count": 162,
   "metadata": {},
   "outputs": [
    {
     "data": {
      "text/html": [
       "<div>\n",
       "<style scoped>\n",
       "    .dataframe tbody tr th:only-of-type {\n",
       "        vertical-align: middle;\n",
       "    }\n",
       "\n",
       "    .dataframe tbody tr th {\n",
       "        vertical-align: top;\n",
       "    }\n",
       "\n",
       "    .dataframe thead th {\n",
       "        text-align: right;\n",
       "    }\n",
       "</style>\n",
       "<table border=\"1\" class=\"dataframe\">\n",
       "  <thead>\n",
       "    <tr style=\"text-align: right;\">\n",
       "      <th></th>\n",
       "      <th>id</th>\n",
       "      <th>box_office</th>\n",
       "      <th>rating_y</th>\n",
       "      <th>fresh</th>\n",
       "      <th>top_critic</th>\n",
       "    </tr>\n",
       "    <tr>\n",
       "      <th>rating_x</th>\n",
       "      <th></th>\n",
       "      <th></th>\n",
       "      <th></th>\n",
       "      <th></th>\n",
       "      <th></th>\n",
       "    </tr>\n",
       "  </thead>\n",
       "  <tbody>\n",
       "    <tr>\n",
       "      <th>G</th>\n",
       "      <td>1309.000000</td>\n",
       "      <td>2.284580e+07</td>\n",
       "      <td>65.141945</td>\n",
       "      <td>0.576329</td>\n",
       "      <td>0.142857</td>\n",
       "    </tr>\n",
       "    <tr>\n",
       "      <th>NR</th>\n",
       "      <td>1154.071429</td>\n",
       "      <td>6.628353e+05</td>\n",
       "      <td>67.271617</td>\n",
       "      <td>0.742719</td>\n",
       "      <td>0.214286</td>\n",
       "    </tr>\n",
       "    <tr>\n",
       "      <th>PG</th>\n",
       "      <td>1051.688889</td>\n",
       "      <td>5.045734e+07</td>\n",
       "      <td>61.944537</td>\n",
       "      <td>0.531795</td>\n",
       "      <td>0.066667</td>\n",
       "    </tr>\n",
       "    <tr>\n",
       "      <th>PG-13</th>\n",
       "      <td>1085.168224</td>\n",
       "      <td>5.603056e+07</td>\n",
       "      <td>60.420398</td>\n",
       "      <td>0.459591</td>\n",
       "      <td>0.009346</td>\n",
       "    </tr>\n",
       "    <tr>\n",
       "      <th>R</th>\n",
       "      <td>942.206349</td>\n",
       "      <td>2.554368e+07</td>\n",
       "      <td>66.141166</td>\n",
       "      <td>0.629225</td>\n",
       "      <td>0.015873</td>\n",
       "    </tr>\n",
       "  </tbody>\n",
       "</table>\n",
       "</div>"
      ],
      "text/plain": [
       "                   id    box_office   rating_y     fresh  top_critic\n",
       "rating_x                                                            \n",
       "G         1309.000000  2.284580e+07  65.141945  0.576329    0.142857\n",
       "NR        1154.071429  6.628353e+05  67.271617  0.742719    0.214286\n",
       "PG        1051.688889  5.045734e+07  61.944537  0.531795    0.066667\n",
       "PG-13     1085.168224  5.603056e+07  60.420398  0.459591    0.009346\n",
       "R          942.206349  2.554368e+07  66.141166  0.629225    0.015873"
      ]
     },
     "execution_count": 162,
     "metadata": {},
     "output_type": "execute_result"
    }
   ],
   "source": [
    "df_rt.groupby('rating_x').mean()"
   ]
  },
  {
   "cell_type": "code",
   "execution_count": 163,
   "metadata": {},
   "outputs": [],
   "source": [
    "df_rt['box_office'] = df_rt['box_office'].apply(lambda x: x/1000000)"
   ]
  },
  {
   "cell_type": "code",
   "execution_count": 164,
   "metadata": {},
   "outputs": [
    {
     "data": {
      "text/plain": [
       "Text(0.5, 1.0, 'Movie Box Office Earnings versus Standardized Rating')"
      ]
     },
     "execution_count": 164,
     "metadata": {},
     "output_type": "execute_result"
    },
    {
     "data": {
      "image/png": "[encoded data removed]",
      "text/plain": [
       "<Figure size 432x288 with 1 Axes>"
      ]
     },
     "metadata": {
      "needs_background": "light"
     },
     "output_type": "display_data"
    }
   ],
   "source": [
    "fig, ax = plt.subplots()\n",
    "x = df_rt['rating_y']\n",
    "y = df_rt['box_office']\n",
    "ax.scatter(x,y);\n",
    "ax.set_xlabel('Standardized Rating (out of 100)')\n",
    "ax.set_ylabel('Box Office (in millions)')\n",
    "ax.set_title('Movie Box Office Earnings versus Standardized Rating')"
   ]
  },
  {
   "cell_type": "code",
   "execution_count": 170,
   "metadata": {},
   "outputs": [],
   "source": [
    "df_rt['fresh'] = df_rt['fresh'].apply(lambda x: round(x,2))\n",
    "df_rt['rating_y'] = df_rt['rating_y'].apply(lambda x: round(x,2))"
   ]
  },
  {
   "cell_type": "code",
   "execution_count": 171,
   "metadata": {},
   "outputs": [
    {
     "data": {
      "text/html": [
       "<div>\n",
       "<style scoped>\n",
       "    .dataframe tbody tr th:only-of-type {\n",
       "        vertical-align: middle;\n",
       "    }\n",
       "\n",
       "    .dataframe tbody tr th {\n",
       "        vertical-align: top;\n",
       "    }\n",
       "\n",
       "    .dataframe thead th {\n",
       "        text-align: right;\n",
       "    }\n",
       "</style>\n",
       "<table border=\"1\" class=\"dataframe\">\n",
       "  <thead>\n",
       "    <tr style=\"text-align: right;\">\n",
       "      <th></th>\n",
       "      <th>id</th>\n",
       "      <th>synopsis</th>\n",
       "      <th>rating_x</th>\n",
       "      <th>genre</th>\n",
       "      <th>director</th>\n",
       "      <th>writer</th>\n",
       "      <th>theater_date</th>\n",
       "      <th>dvd_date</th>\n",
       "      <th>currency</th>\n",
       "      <th>box_office</th>\n",
       "      <th>runtime</th>\n",
       "      <th>studio</th>\n",
       "      <th>review</th>\n",
       "      <th>rating_y</th>\n",
       "      <th>fresh</th>\n",
       "      <th>critic</th>\n",
       "      <th>top_critic</th>\n",
       "      <th>publisher</th>\n",
       "      <th>date</th>\n",
       "    </tr>\n",
       "  </thead>\n",
       "  <tbody>\n",
       "    <tr>\n",
       "      <th>0</th>\n",
       "      <td>3</td>\n",
       "      <td>New York City, not-too-distant-future: Eric Pa...</td>\n",
       "      <td>R</td>\n",
       "      <td>Drama|Science Fiction and Fantasy</td>\n",
       "      <td>David Cronenberg</td>\n",
       "      <td>David Cronenberg|Don DeLillo</td>\n",
       "      <td>2012-08-17</td>\n",
       "      <td>Jan 1, 2013</td>\n",
       "      <td>$</td>\n",
       "      <td>0.600000</td>\n",
       "      <td>108</td>\n",
       "      <td>Entertainment One</td>\n",
       "      <td>A distinctly gallows take on contemporary fina...</td>\n",
       "      <td>65.70</td>\n",
       "      <td>0.70</td>\n",
       "      <td>PJ Nabarro</td>\n",
       "      <td>0</td>\n",
       "      <td>Patrick Nabarro</td>\n",
       "      <td>November 10, 2018</td>\n",
       "    </tr>\n",
       "    <tr>\n",
       "      <th>318</th>\n",
       "      <td>10</td>\n",
       "      <td>Some cast and crew from NBC's highly acclaimed...</td>\n",
       "      <td>PG-13</td>\n",
       "      <td>Comedy</td>\n",
       "      <td>Jake Kasdan</td>\n",
       "      <td>Mike White</td>\n",
       "      <td>2002-01-11</td>\n",
       "      <td>Jun 18, 2002</td>\n",
       "      <td>$</td>\n",
       "      <td>41.032915</td>\n",
       "      <td>82</td>\n",
       "      <td>Paramount Pictures</td>\n",
       "      <td>It won't stick with you forever, but you will ...</td>\n",
       "      <td>57.03</td>\n",
       "      <td>0.42</td>\n",
       "      <td>NaN</td>\n",
       "      <td>0</td>\n",
       "      <td>Film4</td>\n",
       "      <td>August 12, 2008</td>\n",
       "    </tr>\n",
       "    <tr>\n",
       "      <th>427</th>\n",
       "      <td>13</td>\n",
       "      <td>Stewart Kane, an Irishman living in the Austra...</td>\n",
       "      <td>R</td>\n",
       "      <td>Drama</td>\n",
       "      <td>Ray Lawrence</td>\n",
       "      <td>Raymond Carver|Beatrix Christian</td>\n",
       "      <td>2006-04-27</td>\n",
       "      <td>Oct 2, 2007</td>\n",
       "      <td>$</td>\n",
       "      <td>0.224114</td>\n",
       "      <td>123</td>\n",
       "      <td>Sony Pictures Classics</td>\n",
       "      <td>Although Jindabyne's cinematography features s...</td>\n",
       "      <td>71.88</td>\n",
       "      <td>0.73</td>\n",
       "      <td>Heather Huntington</td>\n",
       "      <td>0</td>\n",
       "      <td>ReelzChannel.com</td>\n",
       "      <td>August 25, 2008</td>\n",
       "    </tr>\n",
       "    <tr>\n",
       "      <th>521</th>\n",
       "      <td>14</td>\n",
       "      <td>\"Love Ranch\" is a bittersweet love story that ...</td>\n",
       "      <td>R</td>\n",
       "      <td>Drama</td>\n",
       "      <td>Taylor Hackford</td>\n",
       "      <td>Mark Jacobson</td>\n",
       "      <td>2010-06-30</td>\n",
       "      <td>Nov 9, 2010</td>\n",
       "      <td>$</td>\n",
       "      <td>0.134904</td>\n",
       "      <td>117</td>\n",
       "      <td>NaN</td>\n",
       "      <td>A captivating film... [Full review in Spanish]</td>\n",
       "      <td>62.62</td>\n",
       "      <td>0.25</td>\n",
       "      <td>Laura Hiros</td>\n",
       "      <td>0</td>\n",
       "      <td>NaN</td>\n",
       "      <td>March 22, 2018</td>\n",
       "    </tr>\n",
       "    <tr>\n",
       "      <th>726</th>\n",
       "      <td>23</td>\n",
       "      <td>A fictional film set in the alluring world of ...</td>\n",
       "      <td>R</td>\n",
       "      <td>Drama</td>\n",
       "      <td>NaN</td>\n",
       "      <td>NaN</td>\n",
       "      <td>2013-12-20</td>\n",
       "      <td>Mar 18, 2014</td>\n",
       "      <td>$</td>\n",
       "      <td>99.165609</td>\n",
       "      <td>129</td>\n",
       "      <td>Sony Pictures</td>\n",
       "      <td>The movie is great. It is interesting without ...</td>\n",
       "      <td>82.44</td>\n",
       "      <td>0.97</td>\n",
       "      <td>Debbie Baldwin</td>\n",
       "      <td>0</td>\n",
       "      <td>Ladue News</td>\n",
       "      <td>November 2, 2018</td>\n",
       "    </tr>\n",
       "    <tr>\n",
       "      <th>...</th>\n",
       "      <td>...</td>\n",
       "      <td>...</td>\n",
       "      <td>...</td>\n",
       "      <td>...</td>\n",
       "      <td>...</td>\n",
       "      <td>...</td>\n",
       "      <td>...</td>\n",
       "      <td>...</td>\n",
       "      <td>...</td>\n",
       "      <td>...</td>\n",
       "      <td>...</td>\n",
       "      <td>...</td>\n",
       "      <td>...</td>\n",
       "      <td>...</td>\n",
       "      <td>...</td>\n",
       "      <td>...</td>\n",
       "      <td>...</td>\n",
       "      <td>...</td>\n",
       "      <td>...</td>\n",
       "    </tr>\n",
       "    <tr>\n",
       "      <th>53572</th>\n",
       "      <td>1976</td>\n",
       "      <td>Embrace of the Serpent features the encounter,...</td>\n",
       "      <td>NR</td>\n",
       "      <td>Action and Adventure|Art House and International</td>\n",
       "      <td>Ciro Guerra</td>\n",
       "      <td>Ciro Guerra|Jacques Toulemonde Vidal</td>\n",
       "      <td>2016-02-17</td>\n",
       "      <td>Jun 21, 2016</td>\n",
       "      <td>$</td>\n",
       "      <td>1.320005</td>\n",
       "      <td>123</td>\n",
       "      <td>Buffalo Films</td>\n",
       "      <td>Mesmerising.</td>\n",
       "      <td>85.33</td>\n",
       "      <td>1.00</td>\n",
       "      <td>Tom Bond</td>\n",
       "      <td>0</td>\n",
       "      <td>Total Film</td>\n",
       "      <td>December 27, 2016</td>\n",
       "    </tr>\n",
       "    <tr>\n",
       "      <th>53718</th>\n",
       "      <td>1980</td>\n",
       "      <td>A band of renegades on the run in outer space ...</td>\n",
       "      <td>PG-13</td>\n",
       "      <td>Action and Adventure|Science Fiction and Fantasy</td>\n",
       "      <td>Joss Whedon</td>\n",
       "      <td>Joss Whedon</td>\n",
       "      <td>2005-09-30</td>\n",
       "      <td>Dec 20, 2005</td>\n",
       "      <td>$</td>\n",
       "      <td>25.335935</td>\n",
       "      <td>119</td>\n",
       "      <td>Universal Pictures</td>\n",
       "      <td>A lovely example of TV sci-fi doing what it do...</td>\n",
       "      <td>77.47</td>\n",
       "      <td>0.81</td>\n",
       "      <td>Tim Brayton</td>\n",
       "      <td>0</td>\n",
       "      <td>Alternate Ending</td>\n",
       "      <td>September 6, 2017</td>\n",
       "    </tr>\n",
       "    <tr>\n",
       "      <th>53887</th>\n",
       "      <td>1981</td>\n",
       "      <td>Money, Fame and the Knowledge of English. In I...</td>\n",
       "      <td>NR</td>\n",
       "      <td>Comedy|Drama</td>\n",
       "      <td>Gauri Shinde</td>\n",
       "      <td>Gauri Shinde</td>\n",
       "      <td>2012-10-05</td>\n",
       "      <td>Nov 20, 2012</td>\n",
       "      <td>$</td>\n",
       "      <td>1.416189</td>\n",
       "      <td>129</td>\n",
       "      <td>Eros Entertainment</td>\n",
       "      <td>A capable supporting cast and a fun cameo from...</td>\n",
       "      <td>60.00</td>\n",
       "      <td>1.00</td>\n",
       "      <td>Anil Sinanan</td>\n",
       "      <td>1</td>\n",
       "      <td>Time Out</td>\n",
       "      <td>October 23, 2017</td>\n",
       "    </tr>\n",
       "    <tr>\n",
       "      <th>53892</th>\n",
       "      <td>1986</td>\n",
       "      <td>Aki Kaurismaki's The Man Without a Past opens ...</td>\n",
       "      <td>PG</td>\n",
       "      <td>Art House and International|Comedy|Drama</td>\n",
       "      <td>NaN</td>\n",
       "      <td>NaN</td>\n",
       "      <td>2002-08-30</td>\n",
       "      <td>Oct 7, 2003</td>\n",
       "      <td>$</td>\n",
       "      <td>0.794306</td>\n",
       "      <td>97</td>\n",
       "      <td>NaN</td>\n",
       "      <td>With its rusty railroads and dingy metal canis...</td>\n",
       "      <td>84.44</td>\n",
       "      <td>1.00</td>\n",
       "      <td>Jeffrey Overstreet</td>\n",
       "      <td>0</td>\n",
       "      <td>Looking Closer</td>\n",
       "      <td>December 6, 2004</td>\n",
       "    </tr>\n",
       "    <tr>\n",
       "      <th>54175</th>\n",
       "      <td>1996</td>\n",
       "      <td>Forget terrorists or hijackers -- there's a ha...</td>\n",
       "      <td>R</td>\n",
       "      <td>Action and Adventure|Horror|Mystery and Suspense</td>\n",
       "      <td>NaN</td>\n",
       "      <td>NaN</td>\n",
       "      <td>2006-08-18</td>\n",
       "      <td>Jan 2, 2007</td>\n",
       "      <td>$</td>\n",
       "      <td>33.886034</td>\n",
       "      <td>106</td>\n",
       "      <td>New Line Cinema</td>\n",
       "      <td>This is a good-looking film, and Jackson is ju...</td>\n",
       "      <td>68.52</td>\n",
       "      <td>0.73</td>\n",
       "      <td>Joel Siegel</td>\n",
       "      <td>0</td>\n",
       "      <td>Good Morning America</td>\n",
       "      <td>January 4, 2018</td>\n",
       "    </tr>\n",
       "  </tbody>\n",
       "</table>\n",
       "<p>299 rows × 19 columns</p>\n",
       "</div>"
      ],
      "text/plain": [
       "         id                                           synopsis rating_x  \\\n",
       "0         3  New York City, not-too-distant-future: Eric Pa...        R   \n",
       "318      10  Some cast and crew from NBC's highly acclaimed...    PG-13   \n",
       "427      13  Stewart Kane, an Irishman living in the Austra...        R   \n",
       "521      14  \"Love Ranch\" is a bittersweet love story that ...        R   \n",
       "726      23  A fictional film set in the alluring world of ...        R   \n",
       "...     ...                                                ...      ...   \n",
       "53572  1976  Embrace of the Serpent features the encounter,...       NR   \n",
       "53718  1980  A band of renegades on the run in outer space ...    PG-13   \n",
       "53887  1981  Money, Fame and the Knowledge of English. In I...       NR   \n",
       "53892  1986  Aki Kaurismaki's The Man Without a Past opens ...       PG   \n",
       "54175  1996  Forget terrorists or hijackers -- there's a ha...        R   \n",
       "\n",
       "                                                  genre          director  \\\n",
       "0                     Drama|Science Fiction and Fantasy  David Cronenberg   \n",
       "318                                              Comedy       Jake Kasdan   \n",
       "427                                               Drama      Ray Lawrence   \n",
       "521                                               Drama   Taylor Hackford   \n",
       "726                                               Drama               NaN   \n",
       "...                                                 ...               ...   \n",
       "53572  Action and Adventure|Art House and International       Ciro Guerra   \n",
       "53718  Action and Adventure|Science Fiction and Fantasy       Joss Whedon   \n",
       "53887                                      Comedy|Drama      Gauri Shinde   \n",
       "53892          Art House and International|Comedy|Drama               NaN   \n",
       "54175  Action and Adventure|Horror|Mystery and Suspense               NaN   \n",
       "\n",
       "                                     writer theater_date      dvd_date  \\\n",
       "0              David Cronenberg|Don DeLillo   2012-08-17   Jan 1, 2013   \n",
       "318                              Mike White   2002-01-11  Jun 18, 2002   \n",
       "427        Raymond Carver|Beatrix Christian   2006-04-27   Oct 2, 2007   \n",
       "521                           Mark Jacobson   2010-06-30   Nov 9, 2010   \n",
       "726                                     NaN   2013-12-20  Mar 18, 2014   \n",
       "...                                     ...          ...           ...   \n",
       "53572  Ciro Guerra|Jacques Toulemonde Vidal   2016-02-17  Jun 21, 2016   \n",
       "53718                           Joss Whedon   2005-09-30  Dec 20, 2005   \n",
       "53887                          Gauri Shinde   2012-10-05  Nov 20, 2012   \n",
       "53892                                   NaN   2002-08-30   Oct 7, 2003   \n",
       "54175                                   NaN   2006-08-18   Jan 2, 2007   \n",
       "\n",
       "      currency  box_office runtime                  studio  \\\n",
       "0            $    0.600000    108        Entertainment One   \n",
       "318          $   41.032915     82       Paramount Pictures   \n",
       "427          $    0.224114    123   Sony Pictures Classics   \n",
       "521          $    0.134904    117                      NaN   \n",
       "726          $   99.165609    129            Sony Pictures   \n",
       "...        ...         ...     ...                     ...   \n",
       "53572        $    1.320005    123            Buffalo Films   \n",
       "53718        $   25.335935    119       Universal Pictures   \n",
       "53887        $    1.416189    129       Eros Entertainment   \n",
       "53892        $    0.794306     97                      NaN   \n",
       "54175        $   33.886034    106          New Line Cinema   \n",
       "\n",
       "                                                  review  rating_y  fresh  \\\n",
       "0      A distinctly gallows take on contemporary fina...     65.70   0.70   \n",
       "318    It won't stick with you forever, but you will ...     57.03   0.42   \n",
       "427    Although Jindabyne's cinematography features s...     71.88   0.73   \n",
       "521       A captivating film... [Full review in Spanish]     62.62   0.25   \n",
       "726    The movie is great. It is interesting without ...     82.44   0.97   \n",
       "...                                                  ...       ...    ...   \n",
       "53572                                       Mesmerising.     85.33   1.00   \n",
       "53718  A lovely example of TV sci-fi doing what it do...     77.47   0.81   \n",
       "53887  A capable supporting cast and a fun cameo from...     60.00   1.00   \n",
       "53892  With its rusty railroads and dingy metal canis...     84.44   1.00   \n",
       "54175  This is a good-looking film, and Jackson is ju...     68.52   0.73   \n",
       "\n",
       "                   critic  top_critic             publisher               date  \n",
       "0              PJ Nabarro           0       Patrick Nabarro  November 10, 2018  \n",
       "318                   NaN           0                 Film4    August 12, 2008  \n",
       "427    Heather Huntington           0      ReelzChannel.com    August 25, 2008  \n",
       "521           Laura Hiros           0                   NaN     March 22, 2018  \n",
       "726        Debbie Baldwin           0            Ladue News   November 2, 2018  \n",
       "...                   ...         ...                   ...                ...  \n",
       "53572            Tom Bond           0            Total Film  December 27, 2016  \n",
       "53718         Tim Brayton           0      Alternate Ending  September 6, 2017  \n",
       "53887        Anil Sinanan           1              Time Out   October 23, 2017  \n",
       "53892  Jeffrey Overstreet           0        Looking Closer   December 6, 2004  \n",
       "54175         Joel Siegel           0  Good Morning America    January 4, 2018  \n",
       "\n",
       "[299 rows x 19 columns]"
      ]
     },
     "execution_count": 171,
     "metadata": {},
     "output_type": "execute_result"
    }
   ],
   "source": [
    "df_rt"
   ]
  },
  {
   "cell_type": "code",
   "execution_count": 172,
   "metadata": {},
   "outputs": [],
   "source": [
    "df_copy = df_rt"
   ]
  },
  {
   "cell_type": "code",
   "execution_count": 173,
   "metadata": {},
   "outputs": [],
   "source": [
    "df_copy.dropna(subset=['runtime'], inplace=True)"
   ]
  },
  {
   "cell_type": "code",
   "execution_count": 174,
   "metadata": {},
   "outputs": [],
   "source": [
    "df_copy['runtime'] = df_copy['runtime'].apply(lambda x: int(x))"
   ]
  },
  {
   "cell_type": "code",
   "execution_count": 176,
   "metadata": {},
   "outputs": [
    {
     "data": {
      "text/plain": [
       "Text(0.5, 1.0, 'Movie Box Office Earnings versus Run Time')"
      ]
     },
     "execution_count": 176,
     "metadata": {},
     "output_type": "execute_result"
    },
    {
     "data": {
      "image/png": "[encoded data removed]",
      "text/plain": [
       "<Figure size 432x288 with 1 Axes>"
      ]
     },
     "metadata": {
      "needs_background": "light"
     },
     "output_type": "display_data"
    }
   ],
   "source": [
    "fig, ax = plt.subplots()\n",
    "x = df_copy['runtime']\n",
    "y = df_copy['box_office']\n",
    "ax.scatter(x,y);\n",
    "ax.set_xlabel('Run time')\n",
    "ax.set_ylabel('Box Office (in millions)')\n",
    "ax.set_title('Movie Box Office Earnings versus Run Time')"
   ]
  },
  {
   "cell_type": "code",
   "execution_count": null,
   "metadata": {},
   "outputs": [],
   "source": []
  }
 ],
 "metadata": {
  "kernelspec": {
   "display_name": "Python (learn-env)",
   "language": "python",
   "name": "learn-env"
  },
  "language_info": {
   "codemirror_mode": {
    "name": "ipython",
    "version": 3
   },
   "file_extension": ".py",
   "mimetype": "text/x-python",
   "name": "python",
   "nbconvert_exporter": "python",
   "pygments_lexer": "ipython3",
   "version": "3.8.5"
  }
 },
 "nbformat": 4,
 "nbformat_minor": 4
}
