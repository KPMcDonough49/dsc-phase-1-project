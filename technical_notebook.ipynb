{
 "cells": [
  {
   "cell_type": "markdown",
   "metadata": {},
   "source": [
    "# Phase 1 Project Technical Notebook\n",
    "Authors: Victor Chen and Kevin McDonough \n",
    "\n"
   ]
  },
  {
   "cell_type": "code",
   "execution_count": 159,
   "metadata": {},
   "outputs": [],
   "source": [
    "import seaborn as sns\n",
    "from matplotlib import pyplot as plt\n",
    "import numpy as np\n",
    "import pandas as pd"
   ]
  },
  {
   "cell_type": "markdown",
   "metadata": {},
   "source": [
    "## Rotten Tomatoes Data - Business Recommendation 1: High Critic Ratings Doesn't Necessarilly Translate to Box Office Success "
   ]
  },
  {
   "cell_type": "markdown",
   "metadata": {},
   "source": [
    "### Importing Rotten Tomatoes Files "
   ]
  },
  {
   "cell_type": "code",
   "execution_count": 160,
   "metadata": {},
   "outputs": [],
   "source": [
    "df_rt1 = pd.read_csv('zippedData/rt.movie_info.tsv.gz', sep='\\t')\n",
    "df_rt2 = pd.read_csv('zippedData/rt.reviews.tsv.gz', sep='\\t', encoding='iso8859_1')"
   ]
  },
  {
   "cell_type": "code",
   "execution_count": 161,
   "metadata": {},
   "outputs": [
    {
     "name": "stdout",
     "output_type": "stream",
     "text": [
      "<class 'pandas.core.frame.DataFrame'>\n",
      "RangeIndex: 1560 entries, 0 to 1559\n",
      "Data columns (total 12 columns):\n",
      " #   Column        Non-Null Count  Dtype \n",
      "---  ------        --------------  ----- \n",
      " 0   id            1560 non-null   int64 \n",
      " 1   synopsis      1498 non-null   object\n",
      " 2   rating        1557 non-null   object\n",
      " 3   genre         1552 non-null   object\n",
      " 4   director      1361 non-null   object\n",
      " 5   writer        1111 non-null   object\n",
      " 6   theater_date  1201 non-null   object\n",
      " 7   dvd_date      1201 non-null   object\n",
      " 8   currency      340 non-null    object\n",
      " 9   box_office    340 non-null    object\n",
      " 10  runtime       1530 non-null   object\n",
      " 11  studio        494 non-null    object\n",
      "dtypes: int64(1), object(11)\n",
      "memory usage: 146.4+ KB\n"
     ]
    }
   ],
   "source": [
    "df_rt1.info()"
   ]
  },
  {
   "cell_type": "code",
   "execution_count": 162,
   "metadata": {},
   "outputs": [
    {
     "name": "stdout",
     "output_type": "stream",
     "text": [
      "<class 'pandas.core.frame.DataFrame'>\n",
      "RangeIndex: 54432 entries, 0 to 54431\n",
      "Data columns (total 8 columns):\n",
      " #   Column      Non-Null Count  Dtype \n",
      "---  ------      --------------  ----- \n",
      " 0   id          54432 non-null  int64 \n",
      " 1   review      48869 non-null  object\n",
      " 2   rating      40915 non-null  object\n",
      " 3   fresh       54432 non-null  object\n",
      " 4   critic      51710 non-null  object\n",
      " 5   top_critic  54432 non-null  int64 \n",
      " 6   publisher   54123 non-null  object\n",
      " 7   date        54432 non-null  object\n",
      "dtypes: int64(2), object(6)\n",
      "memory usage: 3.3+ MB\n"
     ]
    }
   ],
   "source": [
    "df_rt2.info()"
   ]
  },
  {
   "cell_type": "markdown",
   "metadata": {},
   "source": [
    "The two rotten tomatoes datasets share a common attribute: 'id\", so we can merge them using this column"
   ]
  },
  {
   "cell_type": "markdown",
   "metadata": {},
   "source": [
    "### Data Cleaning:"
   ]
  },
  {
   "cell_type": "code",
   "execution_count": 163,
   "metadata": {},
   "outputs": [],
   "source": [
    "# Merges the two Rotten Tomatoes dataframes on their shared column: 'id'\n",
    "df_rt = df_rt1.merge(df_rt2, how='inner', on='id')"
   ]
  },
  {
   "cell_type": "code",
   "execution_count": 164,
   "metadata": {},
   "outputs": [],
   "source": [
    "import string\n",
    "df_rt['box_office'] = df_rt['box_office'].str.replace('[{}]'.format(string.punctuation), '')\n",
    "# Removes the commas from the box office column"
   ]
  },
  {
   "cell_type": "code",
   "execution_count": 165,
   "metadata": {},
   "outputs": [],
   "source": [
    "df_rt['box_office'] = df_rt['box_office'].apply(lambda x: float(x))\n",
    "# Changes the box office column from strings to floats"
   ]
  },
  {
   "cell_type": "code",
   "execution_count": 166,
   "metadata": {},
   "outputs": [],
   "source": [
    "df_rt['runtime'] = df_rt['runtime'].str.strip('minutes')\n",
    "# Strips the 'minutes' from the runtime column so that we can convert to an int "
   ]
  },
  {
   "cell_type": "code",
   "execution_count": 167,
   "metadata": {},
   "outputs": [],
   "source": [
    "df_rt['theater_date'] = pd.to_datetime(df_rt['theater_date'], )\n",
    "# Changes release date from string to datetime "
   ]
  },
  {
   "cell_type": "code",
   "execution_count": 168,
   "metadata": {},
   "outputs": [],
   "source": [
    "df_rt.dropna(subset=['rating_y'], inplace=True)\n",
    "# drops null values in the rating column"
   ]
  },
  {
   "cell_type": "code",
   "execution_count": 169,
   "metadata": {},
   "outputs": [
    {
     "data": {
      "text/plain": [
       "0       3/5\n",
       "6         C\n",
       "7       2/5\n",
       "11       B-\n",
       "12      2/4\n",
       "13        B\n",
       "14      3/4\n",
       "15      3/5\n",
       "16      4/5\n",
       "17        B\n",
       "18      2/4\n",
       "19      4/4\n",
       "20     6/10\n",
       "21      1/4\n",
       "22        8\n",
       "23      2/5\n",
       "24    2.5/4\n",
       "25     4/10\n",
       "27    2.5/4\n",
       "29    2.0/5\n",
       "Name: rating_y, dtype: object"
      ]
     },
     "execution_count": 169,
     "metadata": {},
     "output_type": "execute_result"
    }
   ],
   "source": [
    "df_rt['rating_y'][0:20]"
   ]
  },
  {
   "cell_type": "markdown",
   "metadata": {},
   "source": [
    "Based on the output above, the rating column is a mess. Some of the ratings are out of 5, some are out of 10, some are our of 4 and some are letter grades. If we want to use this column, we need to figure out a way to standardize it. "
   ]
  },
  {
   "cell_type": "code",
   "execution_count": 170,
   "metadata": {},
   "outputs": [],
   "source": [
    "def standardize(rating):\n",
    "    if rating.endswith('5') and '/' in rating and '.' in rating:\n",
    "        return (float(rating[0:3]) / float(rating[-1])) * 100\n",
    "    elif rating.endswith('10') and '/' in rating and '.' in rating:\n",
    "        return (float(rating[0:3]) / float(rating[-2:])) * 100\n",
    "    elif rating.endswith('5') and '/' in rating:\n",
    "        return (float(rating[0]) / float(rating[-1])) * 100\n",
    "    elif rating.endswith('10') and '/' in rating and len(rating) < 5:\n",
    "        return (float(rating[0]) / float(rating[-2:])) * 100\n",
    "    elif rating.endswith('10') and '/' in rating and len(rating) == 5:\n",
    "        return (float(rating[0:2]) / float(rating[-2:])) * 100\n",
    "    elif rating.endswith('4') and '/' in rating and '.' in rating:\n",
    "        return (float(rating[0:3]) / float(rating[-1])) * 100\n",
    "    elif rating.endswith('5') and '/' in rating:\n",
    "        return (float(rating[0]) / float(rating[-1])) * 100\n",
    "    elif rating == 'A+':\n",
    "        return 98\n",
    "    elif rating == 'A':\n",
    "        return 95\n",
    "    elif rating == 'A-':\n",
    "        return 92\n",
    "    elif rating == 'B+':\n",
    "        return 88\n",
    "    elif rating == 'B':\n",
    "        return 85\n",
    "    elif rating == 'B-':\n",
    "        return 82\n",
    "    elif rating == 'C+':\n",
    "        return 78\n",
    "    elif rating == 'C':\n",
    "        return 75\n",
    "    elif rating == 'C-':\n",
    "        return 72\n",
    "    elif rating == 'D+': \n",
    "        return 68\n",
    "    elif rating == 'D':\n",
    "        return 65\n",
    "    elif rating == 'D-':\n",
    "        return 62"
   ]
  },
  {
   "cell_type": "code",
   "execution_count": 171,
   "metadata": {
    "scrolled": true
   },
   "outputs": [
    {
     "data": {
      "text/plain": [
       "100.0"
      ]
     },
     "execution_count": 171,
     "metadata": {},
     "output_type": "execute_result"
    }
   ],
   "source": [
    "standardize('10.0/10')"
   ]
  },
  {
   "cell_type": "markdown",
   "metadata": {},
   "source": [
    "The function above takes in a rating and returns an integer from 0 to 100. Because the majority of data points in the 'ratings_y' column are either out of 5, 10, or in letter grade format this function will give us standardized ratings for a majority of the entries. "
   ]
  },
  {
   "cell_type": "code",
   "execution_count": 172,
   "metadata": {},
   "outputs": [
    {
     "data": {
      "text/plain": [
       "186"
      ]
     },
     "execution_count": 172,
     "metadata": {},
     "output_type": "execute_result"
    }
   ],
   "source": [
    "ratings = list(df_rt['rating_y'].value_counts().index[0:])\n",
    "len(ratings)\n",
    "# creates a list of all unique ratings so that we can test our function"
   ]
  },
  {
   "cell_type": "code",
   "execution_count": 173,
   "metadata": {},
   "outputs": [
    {
     "data": {
      "text/plain": [
       "0.5913978494623655"
      ]
     },
     "execution_count": 173,
     "metadata": {},
     "output_type": "execute_result"
    }
   ],
   "source": [
    "standardized_list = []\n",
    "for rating in ratings:\n",
    "    new_rating = standardize(rating)\n",
    "    standardized_list.append(new_rating)\n",
    "    \n",
    "none_count = []\n",
    "for item in standardized_list:\n",
    "    if item == None:\n",
    "        none_count.append(item)\n",
    "\n",
    "1 - (len(none_count)) / len(ratings)"
   ]
  },
  {
   "cell_type": "markdown",
   "metadata": {},
   "source": [
    "The above tells us that our function was able to capture ~60% of the unique review types. Although 60% doesn't sound great, the majority of reviews are in the common formats featured above so we won't lose too much data when we implement the function"
   ]
  },
  {
   "cell_type": "code",
   "execution_count": 174,
   "metadata": {},
   "outputs": [],
   "source": [
    "df_rt['rating_y'] = df_rt['rating_y'].apply(standardize)"
   ]
  },
  {
   "cell_type": "code",
   "execution_count": 175,
   "metadata": {},
   "outputs": [],
   "source": [
    "df_rt.dropna(subset=['rating_y'], inplace=True)"
   ]
  },
  {
   "cell_type": "code",
   "execution_count": 176,
   "metadata": {
    "scrolled": false
   },
   "outputs": [
    {
     "data": {
      "text/html": [
       "<div>\n",
       "<style scoped>\n",
       "    .dataframe tbody tr th:only-of-type {\n",
       "        vertical-align: middle;\n",
       "    }\n",
       "\n",
       "    .dataframe tbody tr th {\n",
       "        vertical-align: top;\n",
       "    }\n",
       "\n",
       "    .dataframe thead th {\n",
       "        text-align: right;\n",
       "    }\n",
       "</style>\n",
       "<table border=\"1\" class=\"dataframe\">\n",
       "  <thead>\n",
       "    <tr style=\"text-align: right;\">\n",
       "      <th></th>\n",
       "      <th>id</th>\n",
       "      <th>synopsis</th>\n",
       "      <th>rating_x</th>\n",
       "      <th>genre</th>\n",
       "      <th>director</th>\n",
       "      <th>writer</th>\n",
       "      <th>theater_date</th>\n",
       "      <th>dvd_date</th>\n",
       "      <th>currency</th>\n",
       "      <th>box_office</th>\n",
       "      <th>runtime</th>\n",
       "      <th>studio</th>\n",
       "      <th>review</th>\n",
       "      <th>rating_y</th>\n",
       "      <th>fresh</th>\n",
       "      <th>critic</th>\n",
       "      <th>top_critic</th>\n",
       "      <th>publisher</th>\n",
       "      <th>date</th>\n",
       "    </tr>\n",
       "  </thead>\n",
       "  <tbody>\n",
       "    <tr>\n",
       "      <th>0</th>\n",
       "      <td>3</td>\n",
       "      <td>New York City, not-too-distant-future: Eric Pa...</td>\n",
       "      <td>R</td>\n",
       "      <td>Drama|Science Fiction and Fantasy</td>\n",
       "      <td>David Cronenberg</td>\n",
       "      <td>David Cronenberg|Don DeLillo</td>\n",
       "      <td>2012-08-17</td>\n",
       "      <td>Jan 1, 2013</td>\n",
       "      <td>$</td>\n",
       "      <td>600000.0</td>\n",
       "      <td>108</td>\n",
       "      <td>Entertainment One</td>\n",
       "      <td>A distinctly gallows take on contemporary fina...</td>\n",
       "      <td>60.0</td>\n",
       "      <td>fresh</td>\n",
       "      <td>PJ Nabarro</td>\n",
       "      <td>0</td>\n",
       "      <td>Patrick Nabarro</td>\n",
       "      <td>November 10, 2018</td>\n",
       "    </tr>\n",
       "    <tr>\n",
       "      <th>6</th>\n",
       "      <td>3</td>\n",
       "      <td>New York City, not-too-distant-future: Eric Pa...</td>\n",
       "      <td>R</td>\n",
       "      <td>Drama|Science Fiction and Fantasy</td>\n",
       "      <td>David Cronenberg</td>\n",
       "      <td>David Cronenberg|Don DeLillo</td>\n",
       "      <td>2012-08-17</td>\n",
       "      <td>Jan 1, 2013</td>\n",
       "      <td>$</td>\n",
       "      <td>600000.0</td>\n",
       "      <td>108</td>\n",
       "      <td>Entertainment One</td>\n",
       "      <td>Quickly grows repetitive and tiresome, meander...</td>\n",
       "      <td>75.0</td>\n",
       "      <td>rotten</td>\n",
       "      <td>Eric D. Snider</td>\n",
       "      <td>0</td>\n",
       "      <td>EricDSnider.com</td>\n",
       "      <td>July 17, 2013</td>\n",
       "    </tr>\n",
       "    <tr>\n",
       "      <th>7</th>\n",
       "      <td>3</td>\n",
       "      <td>New York City, not-too-distant-future: Eric Pa...</td>\n",
       "      <td>R</td>\n",
       "      <td>Drama|Science Fiction and Fantasy</td>\n",
       "      <td>David Cronenberg</td>\n",
       "      <td>David Cronenberg|Don DeLillo</td>\n",
       "      <td>2012-08-17</td>\n",
       "      <td>Jan 1, 2013</td>\n",
       "      <td>$</td>\n",
       "      <td>600000.0</td>\n",
       "      <td>108</td>\n",
       "      <td>Entertainment One</td>\n",
       "      <td>Cronenberg is not a director to be daunted by ...</td>\n",
       "      <td>40.0</td>\n",
       "      <td>rotten</td>\n",
       "      <td>Matt Kelemen</td>\n",
       "      <td>0</td>\n",
       "      <td>Las Vegas CityLife</td>\n",
       "      <td>April 21, 2013</td>\n",
       "    </tr>\n",
       "    <tr>\n",
       "      <th>11</th>\n",
       "      <td>3</td>\n",
       "      <td>New York City, not-too-distant-future: Eric Pa...</td>\n",
       "      <td>R</td>\n",
       "      <td>Drama|Science Fiction and Fantasy</td>\n",
       "      <td>David Cronenberg</td>\n",
       "      <td>David Cronenberg|Don DeLillo</td>\n",
       "      <td>2012-08-17</td>\n",
       "      <td>Jan 1, 2013</td>\n",
       "      <td>$</td>\n",
       "      <td>600000.0</td>\n",
       "      <td>108</td>\n",
       "      <td>Entertainment One</td>\n",
       "      <td>While not one of Cronenberg's stronger films, ...</td>\n",
       "      <td>82.0</td>\n",
       "      <td>fresh</td>\n",
       "      <td>Emanuel Levy</td>\n",
       "      <td>0</td>\n",
       "      <td>EmanuelLevy.Com</td>\n",
       "      <td>February 3, 2013</td>\n",
       "    </tr>\n",
       "    <tr>\n",
       "      <th>13</th>\n",
       "      <td>3</td>\n",
       "      <td>New York City, not-too-distant-future: Eric Pa...</td>\n",
       "      <td>R</td>\n",
       "      <td>Drama|Science Fiction and Fantasy</td>\n",
       "      <td>David Cronenberg</td>\n",
       "      <td>David Cronenberg|Don DeLillo</td>\n",
       "      <td>2012-08-17</td>\n",
       "      <td>Jan 1, 2013</td>\n",
       "      <td>$</td>\n",
       "      <td>600000.0</td>\n",
       "      <td>108</td>\n",
       "      <td>Entertainment One</td>\n",
       "      <td>The anger over the injustice of the financial ...</td>\n",
       "      <td>85.0</td>\n",
       "      <td>fresh</td>\n",
       "      <td>Robert Roten</td>\n",
       "      <td>0</td>\n",
       "      <td>Laramie Movie Scope</td>\n",
       "      <td>January 7, 2013</td>\n",
       "    </tr>\n",
       "    <tr>\n",
       "      <th>...</th>\n",
       "      <td>...</td>\n",
       "      <td>...</td>\n",
       "      <td>...</td>\n",
       "      <td>...</td>\n",
       "      <td>...</td>\n",
       "      <td>...</td>\n",
       "      <td>...</td>\n",
       "      <td>...</td>\n",
       "      <td>...</td>\n",
       "      <td>...</td>\n",
       "      <td>...</td>\n",
       "      <td>...</td>\n",
       "      <td>...</td>\n",
       "      <td>...</td>\n",
       "      <td>...</td>\n",
       "      <td>...</td>\n",
       "      <td>...</td>\n",
       "      <td>...</td>\n",
       "      <td>...</td>\n",
       "    </tr>\n",
       "    <tr>\n",
       "      <th>54424</th>\n",
       "      <td>2000</td>\n",
       "      <td>Suspended from the force, Paris cop Hubert is ...</td>\n",
       "      <td>R</td>\n",
       "      <td>Action and Adventure|Art House and Internation...</td>\n",
       "      <td>NaN</td>\n",
       "      <td>Luc Besson</td>\n",
       "      <td>2001-09-27</td>\n",
       "      <td>Feb 11, 2003</td>\n",
       "      <td>NaN</td>\n",
       "      <td>NaN</td>\n",
       "      <td>94</td>\n",
       "      <td>Columbia Pictures</td>\n",
       "      <td>Dawdles and drags when it should pop; it doesn...</td>\n",
       "      <td>30.0</td>\n",
       "      <td>rotten</td>\n",
       "      <td>Manohla Dargis</td>\n",
       "      <td>1</td>\n",
       "      <td>Los Angeles Times</td>\n",
       "      <td>September 26, 2002</td>\n",
       "    </tr>\n",
       "    <tr>\n",
       "      <th>54428</th>\n",
       "      <td>2000</td>\n",
       "      <td>Suspended from the force, Paris cop Hubert is ...</td>\n",
       "      <td>R</td>\n",
       "      <td>Action and Adventure|Art House and Internation...</td>\n",
       "      <td>NaN</td>\n",
       "      <td>Luc Besson</td>\n",
       "      <td>2001-09-27</td>\n",
       "      <td>Feb 11, 2003</td>\n",
       "      <td>NaN</td>\n",
       "      <td>NaN</td>\n",
       "      <td>94</td>\n",
       "      <td>Columbia Pictures</td>\n",
       "      <td>NaN</td>\n",
       "      <td>20.0</td>\n",
       "      <td>rotten</td>\n",
       "      <td>Michael Szymanski</td>\n",
       "      <td>0</td>\n",
       "      <td>Zap2it.com</td>\n",
       "      <td>September 21, 2005</td>\n",
       "    </tr>\n",
       "    <tr>\n",
       "      <th>54429</th>\n",
       "      <td>2000</td>\n",
       "      <td>Suspended from the force, Paris cop Hubert is ...</td>\n",
       "      <td>R</td>\n",
       "      <td>Action and Adventure|Art House and Internation...</td>\n",
       "      <td>NaN</td>\n",
       "      <td>Luc Besson</td>\n",
       "      <td>2001-09-27</td>\n",
       "      <td>Feb 11, 2003</td>\n",
       "      <td>NaN</td>\n",
       "      <td>NaN</td>\n",
       "      <td>94</td>\n",
       "      <td>Columbia Pictures</td>\n",
       "      <td>NaN</td>\n",
       "      <td>40.0</td>\n",
       "      <td>rotten</td>\n",
       "      <td>Emanuel Levy</td>\n",
       "      <td>0</td>\n",
       "      <td>EmanuelLevy.Com</td>\n",
       "      <td>July 17, 2005</td>\n",
       "    </tr>\n",
       "    <tr>\n",
       "      <th>54430</th>\n",
       "      <td>2000</td>\n",
       "      <td>Suspended from the force, Paris cop Hubert is ...</td>\n",
       "      <td>R</td>\n",
       "      <td>Action and Adventure|Art House and Internation...</td>\n",
       "      <td>NaN</td>\n",
       "      <td>Luc Besson</td>\n",
       "      <td>2001-09-27</td>\n",
       "      <td>Feb 11, 2003</td>\n",
       "      <td>NaN</td>\n",
       "      <td>NaN</td>\n",
       "      <td>94</td>\n",
       "      <td>Columbia Pictures</td>\n",
       "      <td>NaN</td>\n",
       "      <td>50.0</td>\n",
       "      <td>rotten</td>\n",
       "      <td>Christopher Null</td>\n",
       "      <td>0</td>\n",
       "      <td>Filmcritic.com</td>\n",
       "      <td>September 7, 2003</td>\n",
       "    </tr>\n",
       "    <tr>\n",
       "      <th>54431</th>\n",
       "      <td>2000</td>\n",
       "      <td>Suspended from the force, Paris cop Hubert is ...</td>\n",
       "      <td>R</td>\n",
       "      <td>Action and Adventure|Art House and Internation...</td>\n",
       "      <td>NaN</td>\n",
       "      <td>Luc Besson</td>\n",
       "      <td>2001-09-27</td>\n",
       "      <td>Feb 11, 2003</td>\n",
       "      <td>NaN</td>\n",
       "      <td>NaN</td>\n",
       "      <td>94</td>\n",
       "      <td>Columbia Pictures</td>\n",
       "      <td>NaN</td>\n",
       "      <td>60.0</td>\n",
       "      <td>fresh</td>\n",
       "      <td>Nicolas Lacroix</td>\n",
       "      <td>0</td>\n",
       "      <td>Showbizz.net</td>\n",
       "      <td>November 12, 2002</td>\n",
       "    </tr>\n",
       "  </tbody>\n",
       "</table>\n",
       "<p>31745 rows × 19 columns</p>\n",
       "</div>"
      ],
      "text/plain": [
       "         id                                           synopsis rating_x  \\\n",
       "0         3  New York City, not-too-distant-future: Eric Pa...        R   \n",
       "6         3  New York City, not-too-distant-future: Eric Pa...        R   \n",
       "7         3  New York City, not-too-distant-future: Eric Pa...        R   \n",
       "11        3  New York City, not-too-distant-future: Eric Pa...        R   \n",
       "13        3  New York City, not-too-distant-future: Eric Pa...        R   \n",
       "...     ...                                                ...      ...   \n",
       "54424  2000  Suspended from the force, Paris cop Hubert is ...        R   \n",
       "54428  2000  Suspended from the force, Paris cop Hubert is ...        R   \n",
       "54429  2000  Suspended from the force, Paris cop Hubert is ...        R   \n",
       "54430  2000  Suspended from the force, Paris cop Hubert is ...        R   \n",
       "54431  2000  Suspended from the force, Paris cop Hubert is ...        R   \n",
       "\n",
       "                                                   genre          director  \\\n",
       "0                      Drama|Science Fiction and Fantasy  David Cronenberg   \n",
       "6                      Drama|Science Fiction and Fantasy  David Cronenberg   \n",
       "7                      Drama|Science Fiction and Fantasy  David Cronenberg   \n",
       "11                     Drama|Science Fiction and Fantasy  David Cronenberg   \n",
       "13                     Drama|Science Fiction and Fantasy  David Cronenberg   \n",
       "...                                                  ...               ...   \n",
       "54424  Action and Adventure|Art House and Internation...               NaN   \n",
       "54428  Action and Adventure|Art House and Internation...               NaN   \n",
       "54429  Action and Adventure|Art House and Internation...               NaN   \n",
       "54430  Action and Adventure|Art House and Internation...               NaN   \n",
       "54431  Action and Adventure|Art House and Internation...               NaN   \n",
       "\n",
       "                             writer theater_date      dvd_date currency  \\\n",
       "0      David Cronenberg|Don DeLillo   2012-08-17   Jan 1, 2013        $   \n",
       "6      David Cronenberg|Don DeLillo   2012-08-17   Jan 1, 2013        $   \n",
       "7      David Cronenberg|Don DeLillo   2012-08-17   Jan 1, 2013        $   \n",
       "11     David Cronenberg|Don DeLillo   2012-08-17   Jan 1, 2013        $   \n",
       "13     David Cronenberg|Don DeLillo   2012-08-17   Jan 1, 2013        $   \n",
       "...                             ...          ...           ...      ...   \n",
       "54424                    Luc Besson   2001-09-27  Feb 11, 2003      NaN   \n",
       "54428                    Luc Besson   2001-09-27  Feb 11, 2003      NaN   \n",
       "54429                    Luc Besson   2001-09-27  Feb 11, 2003      NaN   \n",
       "54430                    Luc Besson   2001-09-27  Feb 11, 2003      NaN   \n",
       "54431                    Luc Besson   2001-09-27  Feb 11, 2003      NaN   \n",
       "\n",
       "       box_office runtime             studio  \\\n",
       "0        600000.0    108   Entertainment One   \n",
       "6        600000.0    108   Entertainment One   \n",
       "7        600000.0    108   Entertainment One   \n",
       "11       600000.0    108   Entertainment One   \n",
       "13       600000.0    108   Entertainment One   \n",
       "...           ...     ...                ...   \n",
       "54424         NaN     94   Columbia Pictures   \n",
       "54428         NaN     94   Columbia Pictures   \n",
       "54429         NaN     94   Columbia Pictures   \n",
       "54430         NaN     94   Columbia Pictures   \n",
       "54431         NaN     94   Columbia Pictures   \n",
       "\n",
       "                                                  review  rating_y   fresh  \\\n",
       "0      A distinctly gallows take on contemporary fina...      60.0   fresh   \n",
       "6      Quickly grows repetitive and tiresome, meander...      75.0  rotten   \n",
       "7      Cronenberg is not a director to be daunted by ...      40.0  rotten   \n",
       "11     While not one of Cronenberg's stronger films, ...      82.0   fresh   \n",
       "13     The anger over the injustice of the financial ...      85.0   fresh   \n",
       "...                                                  ...       ...     ...   \n",
       "54424  Dawdles and drags when it should pop; it doesn...      30.0  rotten   \n",
       "54428                                                NaN      20.0  rotten   \n",
       "54429                                                NaN      40.0  rotten   \n",
       "54430                                                NaN      50.0  rotten   \n",
       "54431                                                NaN      60.0   fresh   \n",
       "\n",
       "                  critic  top_critic            publisher                date  \n",
       "0             PJ Nabarro           0      Patrick Nabarro   November 10, 2018  \n",
       "6         Eric D. Snider           0      EricDSnider.com       July 17, 2013  \n",
       "7           Matt Kelemen           0   Las Vegas CityLife      April 21, 2013  \n",
       "11          Emanuel Levy           0      EmanuelLevy.Com    February 3, 2013  \n",
       "13          Robert Roten           0  Laramie Movie Scope     January 7, 2013  \n",
       "...                  ...         ...                  ...                 ...  \n",
       "54424     Manohla Dargis           1    Los Angeles Times  September 26, 2002  \n",
       "54428  Michael Szymanski           0           Zap2it.com  September 21, 2005  \n",
       "54429       Emanuel Levy           0      EmanuelLevy.Com       July 17, 2005  \n",
       "54430   Christopher Null           0       Filmcritic.com   September 7, 2003  \n",
       "54431    Nicolas Lacroix           0         Showbizz.net   November 12, 2002  \n",
       "\n",
       "[31745 rows x 19 columns]"
      ]
     },
     "execution_count": 176,
     "metadata": {},
     "output_type": "execute_result"
    }
   ],
   "source": [
    "df_rt"
   ]
  },
  {
   "cell_type": "markdown",
   "metadata": {},
   "source": [
    "Rotten tomatoes uses a \"Tomatometer\" to rate movies. If a critic likes the movie, they designate \"fresh,\" if they don't enjoy it they desginate it \"rotten\" The tomatometer represents the percentage of fresh designations. Using the fresh column from the dataset, we can create a tomatometer for each movie. "
   ]
  },
  {
   "cell_type": "code",
   "execution_count": 177,
   "metadata": {},
   "outputs": [],
   "source": [
    "def fresh(rating):\n",
    "    if rating == 'fresh':\n",
    "        return 1\n",
    "    elif rating == 'rotten':\n",
    "        return 0 "
   ]
  },
  {
   "cell_type": "markdown",
   "metadata": {},
   "source": [
    "This function returns a rating of 1 if the review is fresh and 0 if it is rotten. We can then use this to come up with  tomatometer for each movie - it will be the mean of all rotten/fresh values for a speficied movie "
   ]
  },
  {
   "cell_type": "code",
   "execution_count": 178,
   "metadata": {},
   "outputs": [],
   "source": [
    "df_rt['fresh'] = df_rt['fresh'].apply(fresh)\n",
    "# applies the function to the fresh column"
   ]
  },
  {
   "cell_type": "code",
   "execution_count": 179,
   "metadata": {
    "scrolled": true
   },
   "outputs": [
    {
     "data": {
      "text/plain": [
       "$    19471\n",
       "Name: currency, dtype: int64"
      ]
     },
     "execution_count": 179,
     "metadata": {},
     "output_type": "execute_result"
    }
   ],
   "source": [
    "df_rt['currency'].value_counts()\n",
    "# This shows us that all of the currency is in dollars so we don't have to worry about different units "
   ]
  },
  {
   "cell_type": "code",
   "execution_count": 180,
   "metadata": {},
   "outputs": [],
   "source": [
    "df_rt['rating_y'] = df_rt.groupby('id')['rating_y'].transform(\n",
    "    lambda grp: np.mean(grp)\n",
    ")\n",
    "df_rt['fresh'] = df_rt.groupby('id')['fresh'].transform(\n",
    "    lambda grp: np.mean(grp)\n",
    ")"
   ]
  },
  {
   "cell_type": "code",
   "execution_count": 181,
   "metadata": {},
   "outputs": [
    {
     "data": {
      "text/html": [
       "<div>\n",
       "<style scoped>\n",
       "    .dataframe tbody tr th:only-of-type {\n",
       "        vertical-align: middle;\n",
       "    }\n",
       "\n",
       "    .dataframe tbody tr th {\n",
       "        vertical-align: top;\n",
       "    }\n",
       "\n",
       "    .dataframe thead th {\n",
       "        text-align: right;\n",
       "    }\n",
       "</style>\n",
       "<table border=\"1\" class=\"dataframe\">\n",
       "  <thead>\n",
       "    <tr style=\"text-align: right;\">\n",
       "      <th></th>\n",
       "      <th>id</th>\n",
       "      <th>synopsis</th>\n",
       "      <th>rating_x</th>\n",
       "      <th>genre</th>\n",
       "      <th>director</th>\n",
       "      <th>writer</th>\n",
       "      <th>theater_date</th>\n",
       "      <th>dvd_date</th>\n",
       "      <th>currency</th>\n",
       "      <th>box_office</th>\n",
       "      <th>runtime</th>\n",
       "      <th>studio</th>\n",
       "      <th>review</th>\n",
       "      <th>rating_y</th>\n",
       "      <th>fresh</th>\n",
       "      <th>critic</th>\n",
       "      <th>top_critic</th>\n",
       "      <th>publisher</th>\n",
       "      <th>date</th>\n",
       "    </tr>\n",
       "  </thead>\n",
       "  <tbody>\n",
       "    <tr>\n",
       "      <th>0</th>\n",
       "      <td>3</td>\n",
       "      <td>New York City, not-too-distant-future: Eric Pa...</td>\n",
       "      <td>R</td>\n",
       "      <td>Drama|Science Fiction and Fantasy</td>\n",
       "      <td>David Cronenberg</td>\n",
       "      <td>David Cronenberg|Don DeLillo</td>\n",
       "      <td>2012-08-17</td>\n",
       "      <td>Jan 1, 2013</td>\n",
       "      <td>$</td>\n",
       "      <td>600000.0</td>\n",
       "      <td>108</td>\n",
       "      <td>Entertainment One</td>\n",
       "      <td>A distinctly gallows take on contemporary fina...</td>\n",
       "      <td>65.938889</td>\n",
       "      <td>0.688889</td>\n",
       "      <td>PJ Nabarro</td>\n",
       "      <td>0</td>\n",
       "      <td>Patrick Nabarro</td>\n",
       "      <td>November 10, 2018</td>\n",
       "    </tr>\n",
       "    <tr>\n",
       "      <th>6</th>\n",
       "      <td>3</td>\n",
       "      <td>New York City, not-too-distant-future: Eric Pa...</td>\n",
       "      <td>R</td>\n",
       "      <td>Drama|Science Fiction and Fantasy</td>\n",
       "      <td>David Cronenberg</td>\n",
       "      <td>David Cronenberg|Don DeLillo</td>\n",
       "      <td>2012-08-17</td>\n",
       "      <td>Jan 1, 2013</td>\n",
       "      <td>$</td>\n",
       "      <td>600000.0</td>\n",
       "      <td>108</td>\n",
       "      <td>Entertainment One</td>\n",
       "      <td>Quickly grows repetitive and tiresome, meander...</td>\n",
       "      <td>65.938889</td>\n",
       "      <td>0.688889</td>\n",
       "      <td>Eric D. Snider</td>\n",
       "      <td>0</td>\n",
       "      <td>EricDSnider.com</td>\n",
       "      <td>July 17, 2013</td>\n",
       "    </tr>\n",
       "    <tr>\n",
       "      <th>7</th>\n",
       "      <td>3</td>\n",
       "      <td>New York City, not-too-distant-future: Eric Pa...</td>\n",
       "      <td>R</td>\n",
       "      <td>Drama|Science Fiction and Fantasy</td>\n",
       "      <td>David Cronenberg</td>\n",
       "      <td>David Cronenberg|Don DeLillo</td>\n",
       "      <td>2012-08-17</td>\n",
       "      <td>Jan 1, 2013</td>\n",
       "      <td>$</td>\n",
       "      <td>600000.0</td>\n",
       "      <td>108</td>\n",
       "      <td>Entertainment One</td>\n",
       "      <td>Cronenberg is not a director to be daunted by ...</td>\n",
       "      <td>65.938889</td>\n",
       "      <td>0.688889</td>\n",
       "      <td>Matt Kelemen</td>\n",
       "      <td>0</td>\n",
       "      <td>Las Vegas CityLife</td>\n",
       "      <td>April 21, 2013</td>\n",
       "    </tr>\n",
       "    <tr>\n",
       "      <th>11</th>\n",
       "      <td>3</td>\n",
       "      <td>New York City, not-too-distant-future: Eric Pa...</td>\n",
       "      <td>R</td>\n",
       "      <td>Drama|Science Fiction and Fantasy</td>\n",
       "      <td>David Cronenberg</td>\n",
       "      <td>David Cronenberg|Don DeLillo</td>\n",
       "      <td>2012-08-17</td>\n",
       "      <td>Jan 1, 2013</td>\n",
       "      <td>$</td>\n",
       "      <td>600000.0</td>\n",
       "      <td>108</td>\n",
       "      <td>Entertainment One</td>\n",
       "      <td>While not one of Cronenberg's stronger films, ...</td>\n",
       "      <td>65.938889</td>\n",
       "      <td>0.688889</td>\n",
       "      <td>Emanuel Levy</td>\n",
       "      <td>0</td>\n",
       "      <td>EmanuelLevy.Com</td>\n",
       "      <td>February 3, 2013</td>\n",
       "    </tr>\n",
       "    <tr>\n",
       "      <th>13</th>\n",
       "      <td>3</td>\n",
       "      <td>New York City, not-too-distant-future: Eric Pa...</td>\n",
       "      <td>R</td>\n",
       "      <td>Drama|Science Fiction and Fantasy</td>\n",
       "      <td>David Cronenberg</td>\n",
       "      <td>David Cronenberg|Don DeLillo</td>\n",
       "      <td>2012-08-17</td>\n",
       "      <td>Jan 1, 2013</td>\n",
       "      <td>$</td>\n",
       "      <td>600000.0</td>\n",
       "      <td>108</td>\n",
       "      <td>Entertainment One</td>\n",
       "      <td>The anger over the injustice of the financial ...</td>\n",
       "      <td>65.938889</td>\n",
       "      <td>0.688889</td>\n",
       "      <td>Robert Roten</td>\n",
       "      <td>0</td>\n",
       "      <td>Laramie Movie Scope</td>\n",
       "      <td>January 7, 2013</td>\n",
       "    </tr>\n",
       "    <tr>\n",
       "      <th>...</th>\n",
       "      <td>...</td>\n",
       "      <td>...</td>\n",
       "      <td>...</td>\n",
       "      <td>...</td>\n",
       "      <td>...</td>\n",
       "      <td>...</td>\n",
       "      <td>...</td>\n",
       "      <td>...</td>\n",
       "      <td>...</td>\n",
       "      <td>...</td>\n",
       "      <td>...</td>\n",
       "      <td>...</td>\n",
       "      <td>...</td>\n",
       "      <td>...</td>\n",
       "      <td>...</td>\n",
       "      <td>...</td>\n",
       "      <td>...</td>\n",
       "      <td>...</td>\n",
       "      <td>...</td>\n",
       "    </tr>\n",
       "    <tr>\n",
       "      <th>54424</th>\n",
       "      <td>2000</td>\n",
       "      <td>Suspended from the force, Paris cop Hubert is ...</td>\n",
       "      <td>R</td>\n",
       "      <td>Action and Adventure|Art House and Internation...</td>\n",
       "      <td>NaN</td>\n",
       "      <td>Luc Besson</td>\n",
       "      <td>2001-09-27</td>\n",
       "      <td>Feb 11, 2003</td>\n",
       "      <td>NaN</td>\n",
       "      <td>NaN</td>\n",
       "      <td>94</td>\n",
       "      <td>Columbia Pictures</td>\n",
       "      <td>Dawdles and drags when it should pop; it doesn...</td>\n",
       "      <td>59.520833</td>\n",
       "      <td>0.458333</td>\n",
       "      <td>Manohla Dargis</td>\n",
       "      <td>1</td>\n",
       "      <td>Los Angeles Times</td>\n",
       "      <td>September 26, 2002</td>\n",
       "    </tr>\n",
       "    <tr>\n",
       "      <th>54428</th>\n",
       "      <td>2000</td>\n",
       "      <td>Suspended from the force, Paris cop Hubert is ...</td>\n",
       "      <td>R</td>\n",
       "      <td>Action and Adventure|Art House and Internation...</td>\n",
       "      <td>NaN</td>\n",
       "      <td>Luc Besson</td>\n",
       "      <td>2001-09-27</td>\n",
       "      <td>Feb 11, 2003</td>\n",
       "      <td>NaN</td>\n",
       "      <td>NaN</td>\n",
       "      <td>94</td>\n",
       "      <td>Columbia Pictures</td>\n",
       "      <td>NaN</td>\n",
       "      <td>59.520833</td>\n",
       "      <td>0.458333</td>\n",
       "      <td>Michael Szymanski</td>\n",
       "      <td>0</td>\n",
       "      <td>Zap2it.com</td>\n",
       "      <td>September 21, 2005</td>\n",
       "    </tr>\n",
       "    <tr>\n",
       "      <th>54429</th>\n",
       "      <td>2000</td>\n",
       "      <td>Suspended from the force, Paris cop Hubert is ...</td>\n",
       "      <td>R</td>\n",
       "      <td>Action and Adventure|Art House and Internation...</td>\n",
       "      <td>NaN</td>\n",
       "      <td>Luc Besson</td>\n",
       "      <td>2001-09-27</td>\n",
       "      <td>Feb 11, 2003</td>\n",
       "      <td>NaN</td>\n",
       "      <td>NaN</td>\n",
       "      <td>94</td>\n",
       "      <td>Columbia Pictures</td>\n",
       "      <td>NaN</td>\n",
       "      <td>59.520833</td>\n",
       "      <td>0.458333</td>\n",
       "      <td>Emanuel Levy</td>\n",
       "      <td>0</td>\n",
       "      <td>EmanuelLevy.Com</td>\n",
       "      <td>July 17, 2005</td>\n",
       "    </tr>\n",
       "    <tr>\n",
       "      <th>54430</th>\n",
       "      <td>2000</td>\n",
       "      <td>Suspended from the force, Paris cop Hubert is ...</td>\n",
       "      <td>R</td>\n",
       "      <td>Action and Adventure|Art House and Internation...</td>\n",
       "      <td>NaN</td>\n",
       "      <td>Luc Besson</td>\n",
       "      <td>2001-09-27</td>\n",
       "      <td>Feb 11, 2003</td>\n",
       "      <td>NaN</td>\n",
       "      <td>NaN</td>\n",
       "      <td>94</td>\n",
       "      <td>Columbia Pictures</td>\n",
       "      <td>NaN</td>\n",
       "      <td>59.520833</td>\n",
       "      <td>0.458333</td>\n",
       "      <td>Christopher Null</td>\n",
       "      <td>0</td>\n",
       "      <td>Filmcritic.com</td>\n",
       "      <td>September 7, 2003</td>\n",
       "    </tr>\n",
       "    <tr>\n",
       "      <th>54431</th>\n",
       "      <td>2000</td>\n",
       "      <td>Suspended from the force, Paris cop Hubert is ...</td>\n",
       "      <td>R</td>\n",
       "      <td>Action and Adventure|Art House and Internation...</td>\n",
       "      <td>NaN</td>\n",
       "      <td>Luc Besson</td>\n",
       "      <td>2001-09-27</td>\n",
       "      <td>Feb 11, 2003</td>\n",
       "      <td>NaN</td>\n",
       "      <td>NaN</td>\n",
       "      <td>94</td>\n",
       "      <td>Columbia Pictures</td>\n",
       "      <td>NaN</td>\n",
       "      <td>59.520833</td>\n",
       "      <td>0.458333</td>\n",
       "      <td>Nicolas Lacroix</td>\n",
       "      <td>0</td>\n",
       "      <td>Showbizz.net</td>\n",
       "      <td>November 12, 2002</td>\n",
       "    </tr>\n",
       "  </tbody>\n",
       "</table>\n",
       "<p>31745 rows × 19 columns</p>\n",
       "</div>"
      ],
      "text/plain": [
       "         id                                           synopsis rating_x  \\\n",
       "0         3  New York City, not-too-distant-future: Eric Pa...        R   \n",
       "6         3  New York City, not-too-distant-future: Eric Pa...        R   \n",
       "7         3  New York City, not-too-distant-future: Eric Pa...        R   \n",
       "11        3  New York City, not-too-distant-future: Eric Pa...        R   \n",
       "13        3  New York City, not-too-distant-future: Eric Pa...        R   \n",
       "...     ...                                                ...      ...   \n",
       "54424  2000  Suspended from the force, Paris cop Hubert is ...        R   \n",
       "54428  2000  Suspended from the force, Paris cop Hubert is ...        R   \n",
       "54429  2000  Suspended from the force, Paris cop Hubert is ...        R   \n",
       "54430  2000  Suspended from the force, Paris cop Hubert is ...        R   \n",
       "54431  2000  Suspended from the force, Paris cop Hubert is ...        R   \n",
       "\n",
       "                                                   genre          director  \\\n",
       "0                      Drama|Science Fiction and Fantasy  David Cronenberg   \n",
       "6                      Drama|Science Fiction and Fantasy  David Cronenberg   \n",
       "7                      Drama|Science Fiction and Fantasy  David Cronenberg   \n",
       "11                     Drama|Science Fiction and Fantasy  David Cronenberg   \n",
       "13                     Drama|Science Fiction and Fantasy  David Cronenberg   \n",
       "...                                                  ...               ...   \n",
       "54424  Action and Adventure|Art House and Internation...               NaN   \n",
       "54428  Action and Adventure|Art House and Internation...               NaN   \n",
       "54429  Action and Adventure|Art House and Internation...               NaN   \n",
       "54430  Action and Adventure|Art House and Internation...               NaN   \n",
       "54431  Action and Adventure|Art House and Internation...               NaN   \n",
       "\n",
       "                             writer theater_date      dvd_date currency  \\\n",
       "0      David Cronenberg|Don DeLillo   2012-08-17   Jan 1, 2013        $   \n",
       "6      David Cronenberg|Don DeLillo   2012-08-17   Jan 1, 2013        $   \n",
       "7      David Cronenberg|Don DeLillo   2012-08-17   Jan 1, 2013        $   \n",
       "11     David Cronenberg|Don DeLillo   2012-08-17   Jan 1, 2013        $   \n",
       "13     David Cronenberg|Don DeLillo   2012-08-17   Jan 1, 2013        $   \n",
       "...                             ...          ...           ...      ...   \n",
       "54424                    Luc Besson   2001-09-27  Feb 11, 2003      NaN   \n",
       "54428                    Luc Besson   2001-09-27  Feb 11, 2003      NaN   \n",
       "54429                    Luc Besson   2001-09-27  Feb 11, 2003      NaN   \n",
       "54430                    Luc Besson   2001-09-27  Feb 11, 2003      NaN   \n",
       "54431                    Luc Besson   2001-09-27  Feb 11, 2003      NaN   \n",
       "\n",
       "       box_office runtime             studio  \\\n",
       "0        600000.0    108   Entertainment One   \n",
       "6        600000.0    108   Entertainment One   \n",
       "7        600000.0    108   Entertainment One   \n",
       "11       600000.0    108   Entertainment One   \n",
       "13       600000.0    108   Entertainment One   \n",
       "...           ...     ...                ...   \n",
       "54424         NaN     94   Columbia Pictures   \n",
       "54428         NaN     94   Columbia Pictures   \n",
       "54429         NaN     94   Columbia Pictures   \n",
       "54430         NaN     94   Columbia Pictures   \n",
       "54431         NaN     94   Columbia Pictures   \n",
       "\n",
       "                                                  review   rating_y     fresh  \\\n",
       "0      A distinctly gallows take on contemporary fina...  65.938889  0.688889   \n",
       "6      Quickly grows repetitive and tiresome, meander...  65.938889  0.688889   \n",
       "7      Cronenberg is not a director to be daunted by ...  65.938889  0.688889   \n",
       "11     While not one of Cronenberg's stronger films, ...  65.938889  0.688889   \n",
       "13     The anger over the injustice of the financial ...  65.938889  0.688889   \n",
       "...                                                  ...        ...       ...   \n",
       "54424  Dawdles and drags when it should pop; it doesn...  59.520833  0.458333   \n",
       "54428                                                NaN  59.520833  0.458333   \n",
       "54429                                                NaN  59.520833  0.458333   \n",
       "54430                                                NaN  59.520833  0.458333   \n",
       "54431                                                NaN  59.520833  0.458333   \n",
       "\n",
       "                  critic  top_critic            publisher                date  \n",
       "0             PJ Nabarro           0      Patrick Nabarro   November 10, 2018  \n",
       "6         Eric D. Snider           0      EricDSnider.com       July 17, 2013  \n",
       "7           Matt Kelemen           0   Las Vegas CityLife      April 21, 2013  \n",
       "11          Emanuel Levy           0      EmanuelLevy.Com    February 3, 2013  \n",
       "13          Robert Roten           0  Laramie Movie Scope     January 7, 2013  \n",
       "...                  ...         ...                  ...                 ...  \n",
       "54424     Manohla Dargis           1    Los Angeles Times  September 26, 2002  \n",
       "54428  Michael Szymanski           0           Zap2it.com  September 21, 2005  \n",
       "54429       Emanuel Levy           0      EmanuelLevy.Com       July 17, 2005  \n",
       "54430   Christopher Null           0       Filmcritic.com   September 7, 2003  \n",
       "54431    Nicolas Lacroix           0         Showbizz.net   November 12, 2002  \n",
       "\n",
       "[31745 rows x 19 columns]"
      ]
     },
     "execution_count": 181,
     "metadata": {},
     "output_type": "execute_result"
    }
   ],
   "source": [
    "df_rt"
   ]
  },
  {
   "cell_type": "markdown",
   "metadata": {},
   "source": [
    "The above code first groups the data by indivual movie ('using the 'id' column) and then replaces the individual 'rating' the mean rating for that movie. The same process is repeated for the fresh column. Looking at the df above, we can now see that all values in the \"fresh\" and \"rating\" columns are the same for each individual movie (movies with the same value in the 'id' column) "
   ]
  },
  {
   "cell_type": "code",
   "execution_count": 182,
   "metadata": {},
   "outputs": [],
   "source": [
    "df_rt = df_rt.drop_duplicates(subset='id')\n",
    "# This code drops duplicates in the 'id' column so now we only have one row for each movie "
   ]
  },
  {
   "cell_type": "markdown",
   "metadata": {},
   "source": [
    "Ideally, if the standardized rating function worked well, the 'fresh' column and 'rating_y' column will be correlated -- let's double check:"
   ]
  },
  {
   "cell_type": "code",
   "execution_count": 183,
   "metadata": {},
   "outputs": [
    {
     "data": {
      "text/plain": [
       "0.8238504128100251"
      ]
     },
     "execution_count": 183,
     "metadata": {},
     "output_type": "execute_result"
    }
   ],
   "source": [
    "np.corrcoef(df_rt['rating_y'], df_rt['fresh'])[1][0]"
   ]
  },
  {
   "cell_type": "markdown",
   "metadata": {},
   "source": [
    "That's a pretty strong correlation! "
   ]
  },
  {
   "cell_type": "markdown",
   "metadata": {},
   "source": [
    "# Business Understanding"
   ]
  },
  {
   "cell_type": "markdown",
   "metadata": {},
   "source": [
    "Let's use our two rating columns to see if there is any correlation between positive ratings and high box office earnings "
   ]
  },
  {
   "cell_type": "code",
   "execution_count": 184,
   "metadata": {
    "scrolled": true
   },
   "outputs": [],
   "source": [
    "df_rt = df_rt.dropna(subset=['box_office'])\n",
    "df_rt['box_office'] = df_rt['box_office'].apply(lambda x: x/1000000)\n",
    "# Drops NA values in the box office column and then converts from dollars to $mm so it is easier to digest"
   ]
  },
  {
   "cell_type": "code",
   "execution_count": 185,
   "metadata": {
    "scrolled": true
   },
   "outputs": [
    {
     "data": {
      "image/png": "[encoded data removed]",
      "text/plain": [
       "<Figure size 864x288 with 2 Axes>"
      ]
     },
     "metadata": {
      "needs_background": "light"
     },
     "output_type": "display_data"
    }
   ],
   "source": [
    "fig, (ax1, ax2) = plt.subplots(1, 2, figsize=(12,4))\n",
    "x1 = df_rt['rating_y']\n",
    "x2 = df_rt['fresh']\n",
    "y = df_rt['box_office']\n",
    "ax1.scatter(x1,y);\n",
    "ax2.scatter(x2,y);\n",
    "\n",
    "ax1.set_title('Standardized Rating vs. Box Office Performance');\n",
    "ax1.set_xlabel('Standardized Score');\n",
    "ax1.set_ylabel('Domestic Box Office earnings ($mm)');\n",
    "\n",
    "ax2.set_title('Tomatometer vs. Box Office Performance');\n",
    "ax2.set_xlabel('Tomatometer');\n",
    "ax1.set_ylabel('Domestic Box Office earnings ($mm)');\n",
    "plt.savefig('Visualizations/RT_ratings_box_correlation.PNG')\n"
   ]
  },
  {
   "cell_type": "markdown",
   "metadata": {},
   "source": [
    "It doesn't look like there is necessarily a strong relationship between ratings and box office performance but let's double check the correlation to be sure:"
   ]
  },
  {
   "cell_type": "code",
   "execution_count": 186,
   "metadata": {
    "scrolled": true
   },
   "outputs": [
    {
     "name": "stdout",
     "output_type": "stream",
     "text": [
      "The correlation between standardized rating and box office revenue is 0.102\n",
      "The correlation between tomatometer and box office revenue is 0.066\n"
     ]
    }
   ],
   "source": [
    "rating_correlation = round(np.corrcoef(df_rt['rating_y'], df_rt['box_office'])[1][0],3)\n",
    "tomatometer_correlation = round(np.corrcoef(df_rt['fresh'], df_rt['box_office'])[1][0],3)\n",
    "\n",
    "print(\"The correlation between standardized rating and box office revenue is {}\".format(rating_correlation))\n",
    "print(\"The correlation between tomatometer and box office revenue is {}\".format(tomatometer_correlation))"
   ]
  },
  {
   "cell_type": "markdown",
   "metadata": {},
   "source": [
    "Based on this analysis we did not find a correlation between critic ratings and box office success. Therefore, for future analysis, we will put less focus on critic reception, and instead focus on other attributes that might lead to profitability. Additionally, for future analysis we will focus on datasets that contain box office revenue information to guide our insights. As a result, we did not focus on several IMDB datasets within the zipped file folder because they only contained ratings information"
   ]
  },
  {
   "cell_type": "markdown",
   "metadata": {},
   "source": [
    "## IMDB Data - Business Recommendation 2: Identifying Genres, Directors, Actors and Plot Themes that Translate to Higher Gross Revenue"
   ]
  },
  {
   "cell_type": "code",
   "execution_count": 187,
   "metadata": {},
   "outputs": [],
   "source": [
    "df_imdb = pd.read_csv('zippedData/movie_metadata.csv')\n",
    "# Imports IMDB Data"
   ]
  },
  {
   "cell_type": "code",
   "execution_count": 188,
   "metadata": {},
   "outputs": [
    {
     "name": "stdout",
     "output_type": "stream",
     "text": [
      "<class 'pandas.core.frame.DataFrame'>\n",
      "RangeIndex: 5043 entries, 0 to 5042\n",
      "Data columns (total 28 columns):\n",
      " #   Column                     Non-Null Count  Dtype  \n",
      "---  ------                     --------------  -----  \n",
      " 0   color                      5024 non-null   object \n",
      " 1   director_name              4939 non-null   object \n",
      " 2   num_critic_for_reviews     4993 non-null   float64\n",
      " 3   duration                   5028 non-null   float64\n",
      " 4   director_facebook_likes    4939 non-null   float64\n",
      " 5   actor_3_facebook_likes     5020 non-null   float64\n",
      " 6   actor_2_name               5030 non-null   object \n",
      " 7   actor_1_facebook_likes     5036 non-null   float64\n",
      " 8   gross                      4159 non-null   float64\n",
      " 9   genres                     5043 non-null   object \n",
      " 10  actor_1_name               5036 non-null   object \n",
      " 11  movie_title                5043 non-null   object \n",
      " 12  num_voted_users            5043 non-null   int64  \n",
      " 13  cast_total_facebook_likes  5043 non-null   int64  \n",
      " 14  actor_3_name               5020 non-null   object \n",
      " 15  facenumber_in_poster       5030 non-null   float64\n",
      " 16  plot_keywords              4890 non-null   object \n",
      " 17  movie_imdb_link            5043 non-null   object \n",
      " 18  num_user_for_reviews       5022 non-null   float64\n",
      " 19  language                   5031 non-null   object \n",
      " 20  country                    5038 non-null   object \n",
      " 21  content_rating             4740 non-null   object \n",
      " 22  budget                     4551 non-null   float64\n",
      " 23  title_year                 4935 non-null   float64\n",
      " 24  actor_2_facebook_likes     5030 non-null   float64\n",
      " 25  imdb_score                 5043 non-null   float64\n",
      " 26  aspect_ratio               4714 non-null   float64\n",
      " 27  movie_facebook_likes       5043 non-null   int64  \n",
      "dtypes: float64(13), int64(3), object(12)\n",
      "memory usage: 1.1+ MB\n"
     ]
    }
   ],
   "source": [
    "df_imdb.info()"
   ]
  },
  {
   "cell_type": "code",
   "execution_count": 189,
   "metadata": {
    "scrolled": false
   },
   "outputs": [],
   "source": [
    "df_imdb['gross'] = df_imdb['gross'].apply(lambda x: x/1000000)"
   ]
  },
  {
   "cell_type": "markdown",
   "metadata": {},
   "source": [
    "The gross revenue column ('gross')  is not very digestible because it is in dollars, the code above turns it into millions "
   ]
  },
  {
   "cell_type": "code",
   "execution_count": 190,
   "metadata": {},
   "outputs": [],
   "source": [
    "def split_genres(genre):\n",
    "    return genre.split('|')[0]\n",
    "\n",
    "df_imdb['genres'] = df_imdb['genres'].apply(split_genres)"
   ]
  },
  {
   "cell_type": "markdown",
   "metadata": {},
   "source": [
    "In the IMDB dataset the 'genres' column has multiple entries separated by \"|\". For example, the first entry is 'Action|Adventure|Fantasy|Sci-Fi'. The above cell creates a function that returns the first main genre listed (so for the first entry it would return \"Action\""
   ]
  },
  {
   "cell_type": "code",
   "execution_count": 191,
   "metadata": {},
   "outputs": [],
   "source": [
    "df_imdb.at[3080, 'genres'] = 'Sci-Fi'"
   ]
  },
  {
   "cell_type": "markdown",
   "metadata": {},
   "source": [
    "The above cell reclassifies, \"E.T\" from 'Family' to 'Sci-Fi'. Previously, the mean box office revenue for the 'Family Genre' was skewed very high because there were only 3 movies in that category including E.T., a huge commercial success. Because there are more movies in the Sci-Fi category, E.T. will be less of on an outlier. "
   ]
  },
  {
   "cell_type": "code",
   "execution_count": 192,
   "metadata": {
    "scrolled": true
   },
   "outputs": [
    {
     "data": {
      "text/plain": [
       "Comedy         1329\n",
       "Action         1153\n",
       "Drama           972\n",
       "Adventure       453\n",
       "Crime           349\n",
       "Biography       252\n",
       "Horror          232\n",
       "Documentary      84\n",
       "Animation        61\n",
       "Fantasy          53\n",
       "Mystery          33\n",
       "Thriller         22\n",
       "Sci-Fi           14\n",
       "Western          12\n",
       "Family           10\n",
       "Romance           6\n",
       "Musical           4\n",
       "Music             1\n",
       "Game-Show         1\n",
       "History           1\n",
       "Film-Noir         1\n",
       "Name: genres, dtype: int64"
      ]
     },
     "execution_count": 192,
     "metadata": {},
     "output_type": "execute_result"
    }
   ],
   "source": [
    "df_imdb['genres'].value_counts()"
   ]
  },
  {
   "cell_type": "markdown",
   "metadata": {},
   "source": [
    "# Business Understanding"
   ]
  },
  {
   "cell_type": "code",
   "execution_count": 193,
   "metadata": {
    "scrolled": true
   },
   "outputs": [
    {
     "data": {
      "text/plain": [
       "genres\n",
       "Adventure      86.325758\n",
       "Animation      85.314064\n",
       "Action         76.289889\n",
       "Sci-Fi         71.502687\n",
       "Musical        61.566602\n",
       "Mystery        48.822296\n",
       "Fantasy        37.782735\n",
       "Comedy         35.524880\n",
       "Biography      35.045008\n",
       "Horror         34.828279\n",
       "Crime          29.989961\n",
       "Drama          28.151436\n",
       "Romance        20.886339\n",
       "Western        11.993216\n",
       "Documentary    10.802871\n",
       "Family          6.265987\n",
       "Music           3.419967\n",
       "Thriller        0.540970\n",
       "Film-Noir            NaN\n",
       "Game-Show            NaN\n",
       "History              NaN\n",
       "Name: gross, dtype: float64"
      ]
     },
     "execution_count": 193,
     "metadata": {},
     "output_type": "execute_result"
    }
   ],
   "source": [
    "df_imdb.groupby('genres')['gross'].mean().sort_values(ascending=False)"
   ]
  },
  {
   "cell_type": "markdown",
   "metadata": {},
   "source": [
    "The above cell shows the mean gross revenue for movies in each genre and sorts them from highest to lowest. Based on the chart above, it is our recommendation that Microsoft should create a movie in either the Adventure, Animation, Action, Sci-Fi, Mystery or Fantasy Genre. Looking at the value counts, we can see that there are only 4 'Musical' movies in the data set, so, although movies in this genre appear to do well in the box office, we will not include this category moving forward because we do not have enough data points. Below we will try to make some recommendations of director, actor, and movie plot! "
   ]
  },
  {
   "cell_type": "code",
   "execution_count": 194,
   "metadata": {},
   "outputs": [
    {
     "data": {
      "image/png": "[encoded data removed]",
      "text/plain": [
       "<Figure size 864x576 with 1 Axes>"
      ]
     },
     "metadata": {
      "needs_background": "light"
     },
     "output_type": "display_data"
    }
   ],
   "source": [
    "x = list(df_imdb.groupby('genres')['gross'].mean().sort_values(ascending=False).index[0:10])\n",
    "y= list(df_imdb.groupby('genres')['gross'].mean().sort_values(ascending=False).values[0:10])\n",
    "\n",
    "fig, ax = plt.subplots(figsize=[12,8])\n",
    "ax.bar(x,y,color = \"dodgerblue\");\n",
    "ax.set_xlabel('Genre')\n",
    "ax.set_ylabel('Average Domestic Gross ($mm)')\n",
    "ax.set_title('Genres with Highest Average Domestic Gross');\n",
    "plt.savefig('Visualizations/Genre_profitability.png')"
   ]
  },
  {
   "cell_type": "code",
   "execution_count": 195,
   "metadata": {},
   "outputs": [],
   "source": [
    "df_genre_sub = df_imdb[df_imdb['genres'].isin(['Adventure', 'Action', 'Animation', 'Sci-Fi', 'Mystery', 'Fantasy'])]\n",
    "# Creates a new DF that only contains movies in the specified genres"
   ]
  },
  {
   "cell_type": "code",
   "execution_count": 196,
   "metadata": {},
   "outputs": [
    {
     "data": {
      "image/png": "[encoded data removed]",
      "text/plain": [
       "<Figure size 864x648 with 1 Axes>"
      ]
     },
     "metadata": {
      "needs_background": "light"
     },
     "output_type": "display_data"
    }
   ],
   "source": [
    "fig, ax = plt.subplots(figsize=(12,9))\n",
    "ax = sns.boxplot(x='genres', y='gross', data=df_genre_sub);\n",
    "ax.set_xlabel('Genre');\n",
    "ax.set_ylabel('Domestic Box Office Gross');\n",
    "ax.set_title('Most Profitable Genres');\n",
    "plt.savefig('Visualizations/Genre_profitability_boxplot.png')"
   ]
  },
  {
   "cell_type": "code",
   "execution_count": 197,
   "metadata": {},
   "outputs": [
    {
     "data": {
      "text/plain": [
       "Steven Spielberg    16\n",
       "Ridley Scott        12\n",
       "Renny Harlin        12\n",
       "Tony Scott          12\n",
       "Tim Burton          12\n",
       "                    ..\n",
       "Paul Feig            4\n",
       "John Moore           4\n",
       "F. Gary Gray         4\n",
       "Robert Schwentke     4\n",
       "Hayao Miyazaki       4\n",
       "Name: director_name, Length: 100, dtype: int64"
      ]
     },
     "execution_count": 197,
     "metadata": {},
     "output_type": "execute_result"
    }
   ],
   "source": [
    "df_genre_sub['director_name'].value_counts()[0:100]"
   ]
  },
  {
   "cell_type": "markdown",
   "metadata": {},
   "source": [
    "The code above shows the 100 directors who have made the most movies in the genres we have specified. 100 is a bit of an arbitrary cutoff but we wanted to select directors that had experience. Even the 100th person on this list (Luc Besson) has created 4 movies in the specified genres"
   ]
  },
  {
   "cell_type": "code",
   "execution_count": 198,
   "metadata": {
    "scrolled": true
   },
   "outputs": [],
   "source": [
    "top_100_directors_for_genre = list(df_genre_sub['director_name'].value_counts().index[0:100])\n",
    "# Creates a list containing names of the 100 directors who have made the most movies in the specified genre"
   ]
  },
  {
   "cell_type": "code",
   "execution_count": 199,
   "metadata": {},
   "outputs": [],
   "source": [
    "df_director_sub = df_genre_sub[df_genre_sub['director_name'].isin(top_100_directors_for_genre)]\n",
    "# Uses the list above to create a new dataframe with only entries for the above directors "
   ]
  },
  {
   "cell_type": "code",
   "execution_count": 200,
   "metadata": {
    "scrolled": true
   },
   "outputs": [
    {
     "data": {
      "text/plain": [
       "director_name\n",
       "Christopher Nolan    282.146942\n",
       "Peter Jackson        277.994940\n",
       "Sam Raimi            276.941080\n",
       "Jon Favreau          276.738287\n",
       "Andrew Adamson       229.988557\n",
       "                        ...    \n",
       "Terry Gilliam         19.949256\n",
       "John Carpenter        19.026278\n",
       "Mark L. Lester         8.687779\n",
       "Hayao Miyazaki         8.035079\n",
       "Uwe Boll               3.042558\n",
       "Name: gross, Length: 100, dtype: float64"
      ]
     },
     "execution_count": 200,
     "metadata": {},
     "output_type": "execute_result"
    }
   ],
   "source": [
    "df_director_sub.groupby('director_name').mean()['gross'].sort_values(ascending=False)"
   ]
  },
  {
   "cell_type": "markdown",
   "metadata": {},
   "source": [
    "The code above groups the directors and shows the average gross revenue for movies they've produced. Based on the output, we should target Joss Whedon, George Lucas, Christopher Nolan, Andrew Agamson and Peter Jackson because they direct profitable movies "
   ]
  },
  {
   "cell_type": "code",
   "execution_count": 201,
   "metadata": {},
   "outputs": [
    {
     "data": {
      "image/png": "[encoded data removed]",
      "text/plain": [
       "<Figure size 864x576 with 1 Axes>"
      ]
     },
     "metadata": {
      "needs_background": "light"
     },
     "output_type": "display_data"
    }
   ],
   "source": [
    "x = df_director_sub.groupby('director_name').mean()['gross'].sort_values(ascending=False).index[0:10]\n",
    "y = df_director_sub.groupby('director_name').mean()['gross'].sort_values(ascending=False).values[0:10]\n",
    "\n",
    "fig, ax = plt.subplots(figsize=[12,8])\n",
    "ax.bar(x,y, color='dodgerblue')\n",
    "ax.set_xlabel('Director')\n",
    "plt.xticks(rotation=45)\n",
    "ax.set_ylabel('Average Domestic Gross per Movie ($mm)')\n",
    "ax.set_title('Directors in Target Genres with Highest Average Domestic Gross');\n",
    "plt.tight_layout() \n",
    "plt.savefig('Visualizations/Director_profitability.png')"
   ]
  },
  {
   "cell_type": "markdown",
   "metadata": {},
   "source": [
    "# Data Understanding "
   ]
  },
  {
   "cell_type": "code",
   "execution_count": 202,
   "metadata": {},
   "outputs": [
    {
     "name": "stdout",
     "output_type": "stream",
     "text": [
      "<class 'pandas.core.frame.DataFrame'>\n",
      "RangeIndex: 5043 entries, 0 to 5042\n",
      "Data columns (total 28 columns):\n",
      " #   Column                     Non-Null Count  Dtype  \n",
      "---  ------                     --------------  -----  \n",
      " 0   color                      5024 non-null   object \n",
      " 1   director_name              4939 non-null   object \n",
      " 2   num_critic_for_reviews     4993 non-null   float64\n",
      " 3   duration                   5028 non-null   float64\n",
      " 4   director_facebook_likes    4939 non-null   float64\n",
      " 5   actor_3_facebook_likes     5020 non-null   float64\n",
      " 6   actor_2_name               5030 non-null   object \n",
      " 7   actor_1_facebook_likes     5036 non-null   float64\n",
      " 8   gross                      4159 non-null   float64\n",
      " 9   genres                     5043 non-null   object \n",
      " 10  actor_1_name               5036 non-null   object \n",
      " 11  movie_title                5043 non-null   object \n",
      " 12  num_voted_users            5043 non-null   int64  \n",
      " 13  cast_total_facebook_likes  5043 non-null   int64  \n",
      " 14  actor_3_name               5020 non-null   object \n",
      " 15  facenumber_in_poster       5030 non-null   float64\n",
      " 16  plot_keywords              4890 non-null   object \n",
      " 17  movie_imdb_link            5043 non-null   object \n",
      " 18  num_user_for_reviews       5022 non-null   float64\n",
      " 19  language                   5031 non-null   object \n",
      " 20  country                    5038 non-null   object \n",
      " 21  content_rating             4740 non-null   object \n",
      " 22  budget                     4551 non-null   float64\n",
      " 23  title_year                 4935 non-null   float64\n",
      " 24  actor_2_facebook_likes     5030 non-null   float64\n",
      " 25  imdb_score                 5043 non-null   float64\n",
      " 26  aspect_ratio               4714 non-null   float64\n",
      " 27  movie_facebook_likes       5043 non-null   int64  \n",
      "dtypes: float64(13), int64(3), object(12)\n",
      "memory usage: 1.1+ MB\n"
     ]
    }
   ],
   "source": [
    "df_imdb.info()"
   ]
  },
  {
   "cell_type": "markdown",
   "metadata": {},
   "source": [
    "Based on the output above, we can see that there are 3 seperate columns for actors"
   ]
  },
  {
   "cell_type": "code",
   "execution_count": 203,
   "metadata": {},
   "outputs": [],
   "source": [
    "df_2 = df_imdb.copy()\n",
    "df_3 = df_imdb.copy()\n",
    "\n",
    "# Creates two copies of the DF"
   ]
  },
  {
   "cell_type": "code",
   "execution_count": 204,
   "metadata": {},
   "outputs": [],
   "source": [
    "df_imdb.drop(columns=['actor_2_name', 'actor_3_name'], inplace=True)\n",
    "df_imdb.rename(index=str, columns={\"actor_1_name\": \"actor\"}, inplace=True)\n",
    "# Deletes the actor_2 column and actor_3 column from the original DF and renames the actor_1 column "
   ]
  },
  {
   "cell_type": "code",
   "execution_count": 205,
   "metadata": {},
   "outputs": [],
   "source": [
    "df_2.drop(columns=['actor_1_name', 'actor_3_name'], inplace=True)\n",
    "df_2.rename(index=str, columns={\"actor_2_name\": \"actor\"}, inplace=True)\n",
    "# Deletes the actor_1 column and actor_3 column from the original DF and renames the actor_2 column "
   ]
  },
  {
   "cell_type": "code",
   "execution_count": 206,
   "metadata": {},
   "outputs": [],
   "source": [
    "df_3.drop(columns=['actor_1_name', 'actor_2_name'], inplace=True)\n",
    "df_3.rename(index=str, columns={\"actor_3_name\": \"actor\"}, inplace=True)\n",
    "# Deletes the actor_1 column and actor_3 column from the original DF and renames the actor_2 column "
   ]
  },
  {
   "cell_type": "code",
   "execution_count": 207,
   "metadata": {},
   "outputs": [],
   "source": [
    "actors = pd.concat([df_imdb,df_2, df_3])"
   ]
  },
  {
   "cell_type": "code",
   "execution_count": 208,
   "metadata": {},
   "outputs": [
    {
     "name": "stdout",
     "output_type": "stream",
     "text": [
      "<class 'pandas.core.frame.DataFrame'>\n",
      "Index: 15129 entries, 0 to 5042\n",
      "Data columns (total 26 columns):\n",
      " #   Column                     Non-Null Count  Dtype  \n",
      "---  ------                     --------------  -----  \n",
      " 0   color                      15072 non-null  object \n",
      " 1   director_name              14817 non-null  object \n",
      " 2   num_critic_for_reviews     14979 non-null  float64\n",
      " 3   duration                   15084 non-null  float64\n",
      " 4   director_facebook_likes    14817 non-null  float64\n",
      " 5   actor_3_facebook_likes     15060 non-null  float64\n",
      " 6   actor_1_facebook_likes     15108 non-null  float64\n",
      " 7   gross                      12477 non-null  float64\n",
      " 8   genres                     15129 non-null  object \n",
      " 9   actor                      15086 non-null  object \n",
      " 10  movie_title                15129 non-null  object \n",
      " 11  num_voted_users            15129 non-null  int64  \n",
      " 12  cast_total_facebook_likes  15129 non-null  int64  \n",
      " 13  facenumber_in_poster       15090 non-null  float64\n",
      " 14  plot_keywords              14670 non-null  object \n",
      " 15  movie_imdb_link            15129 non-null  object \n",
      " 16  num_user_for_reviews       15066 non-null  float64\n",
      " 17  language                   15093 non-null  object \n",
      " 18  country                    15114 non-null  object \n",
      " 19  content_rating             14220 non-null  object \n",
      " 20  budget                     13653 non-null  float64\n",
      " 21  title_year                 14805 non-null  float64\n",
      " 22  actor_2_facebook_likes     15090 non-null  float64\n",
      " 23  imdb_score                 15129 non-null  float64\n",
      " 24  aspect_ratio               14142 non-null  float64\n",
      " 25  movie_facebook_likes       15129 non-null  int64  \n",
      "dtypes: float64(13), int64(3), object(10)\n",
      "memory usage: 3.1+ MB\n"
     ]
    }
   ],
   "source": [
    "actors.info()"
   ]
  },
  {
   "cell_type": "code",
   "execution_count": 209,
   "metadata": {},
   "outputs": [],
   "source": [
    "assert actors['gross'][5043] == actors['gross'][0]"
   ]
  },
  {
   "cell_type": "code",
   "execution_count": 210,
   "metadata": {},
   "outputs": [
    {
     "ename": "AssertionError",
     "evalue": "",
     "output_type": "error",
     "traceback": [
      "\u001b[0;31m---------------------------------------------------------------------------\u001b[0m",
      "\u001b[0;31mAssertionError\u001b[0m                            Traceback (most recent call last)",
      "\u001b[0;32m<ipython-input-210-e7e48e5e5486>\u001b[0m in \u001b[0;36m<module>\u001b[0;34m\u001b[0m\n\u001b[0;32m----> 1\u001b[0;31m \u001b[0;32massert\u001b[0m \u001b[0mactors\u001b[0m\u001b[0;34m[\u001b[0m\u001b[0;34m'actor'\u001b[0m\u001b[0;34m]\u001b[0m\u001b[0;34m[\u001b[0m\u001b[0;36m5043\u001b[0m\u001b[0;34m]\u001b[0m \u001b[0;34m==\u001b[0m \u001b[0mactors\u001b[0m\u001b[0;34m[\u001b[0m\u001b[0;34m'actor'\u001b[0m\u001b[0;34m]\u001b[0m\u001b[0;34m[\u001b[0m\u001b[0;36m0\u001b[0m\u001b[0;34m]\u001b[0m\u001b[0;34m\u001b[0m\u001b[0;34m\u001b[0m\u001b[0m\n\u001b[0m",
      "\u001b[0;31mAssertionError\u001b[0m: "
     ]
    }
   ],
   "source": [
    "assert actors['actor'][5043] == actors['actor'][0]"
   ]
  },
  {
   "cell_type": "markdown",
   "metadata": {},
   "source": [
    "The above code was a little clunky but we now have a dataframe with all of the actors in one column. We combined 3 individual dataframes. The second dataframe contained actors that were previously in the actor_2 column while the 3rd dataframe contained actors that were previously in the actor_3 column. Each of these dataframes was 5,043 rows and each row represents a movie. In the concatanated dataframe, each movie has 3 row entries, one for each actor. The assert statement above shows us that the gross revenue for row 0 is the same as the gross revenue for row 5043 (because they are the same movie!). There is an error in the second assert statement because now they have seperate actors in the actor column"
   ]
  },
  {
   "cell_type": "markdown",
   "metadata": {},
   "source": [
    "# Business Understanding"
   ]
  },
  {
   "cell_type": "code",
   "execution_count": 211,
   "metadata": {},
   "outputs": [],
   "source": [
    "actors_genres_sub = actors[actors['genres'].isin(['Adventure', 'Action', 'Animation', 'Sci-Fi', 'Mystery', 'Fantasy'])]\n",
    "# This code creates a new DF with only movies in the genres we highlighted before "
   ]
  },
  {
   "cell_type": "code",
   "execution_count": 212,
   "metadata": {},
   "outputs": [
    {
     "data": {
      "text/plain": [
       "Bruce Willis              27\n",
       "Liam Neeson               22\n",
       "Jason Statham             20\n",
       "Johnny Depp               20\n",
       "Sylvester Stallone        20\n",
       "                          ..\n",
       "Ben Mendelsohn             5\n",
       "Cedric the Entertainer     5\n",
       "Kevin Zegers               5\n",
       "Fred Ward                  4\n",
       "Noel Fisher                4\n",
       "Name: actor, Length: 200, dtype: int64"
      ]
     },
     "execution_count": 212,
     "metadata": {},
     "output_type": "execute_result"
    }
   ],
   "source": [
    "actors_genres_sub['actor'].value_counts()[0:200]"
   ]
  },
  {
   "cell_type": "markdown",
   "metadata": {},
   "source": [
    "Similar to the exercise we did with directors, the above output shows us the actors that have been in the most movies in the genres that we had selected as most profitable"
   ]
  },
  {
   "cell_type": "code",
   "execution_count": 213,
   "metadata": {},
   "outputs": [],
   "source": [
    "top_200_actors_in_genre = list(actors_genres_sub['actor'].value_counts().index[0:200])\n",
    "# takes the above output and puts it into a list of actor names"
   ]
  },
  {
   "cell_type": "code",
   "execution_count": 214,
   "metadata": {},
   "outputs": [],
   "source": [
    "actors_genres_sub = actors_genres_sub[actors_genres_sub['actor'].isin(top_200_actors_in_genre)]\n",
    "# Filters out actors that aren't in the top 200 list we created "
   ]
  },
  {
   "cell_type": "code",
   "execution_count": 215,
   "metadata": {},
   "outputs": [
    {
     "data": {
      "image/png": "[encoded data removed]",
      "text/plain": [
       "<Figure size 864x576 with 1 Axes>"
      ]
     },
     "metadata": {
      "needs_background": "light"
     },
     "output_type": "display_data"
    }
   ],
   "source": [
    "actors_genres_sub.groupby('actor').mean()['gross'].sort_values(ascending=False)\n",
    "# Sorts actors by the average profitability of the movies that they are in.\n",
    "\n",
    "x = actors_genres_sub.groupby('actor').mean()['gross'].sort_values(ascending=False).index[0:10]\n",
    "y = actors_genres_sub.groupby('actor').mean()['gross'].sort_values(ascending=False).values[0:10]\n",
    "\n",
    "fig, ax = plt.subplots(figsize=[12,8])\n",
    "ax.bar(x,y, color='dodgerblue')\n",
    "ax.set_xlabel('Actor')\n",
    "ax.set_ylabel('Average Domestic Gross per Movie ($mm)')\n",
    "ax.set_title('Actors in Target Genres with Highest Average Domestic Gross');\n",
    "plt.xticks(rotation=45)\n",
    "plt.tight_layout()\n",
    "plt.savefig('Visualizations/Actor_profitability.png')"
   ]
  },
  {
   "cell_type": "markdown",
   "metadata": {},
   "source": [
    "Based on the above, it looks like we should target Robert Downey Jr., Robert Pattinson, Jennifer Lawrence, Scarlett Johansson and Daniel Radcliffe if we want a profitable movie!"
   ]
  },
  {
   "cell_type": "code",
   "execution_count": 216,
   "metadata": {},
   "outputs": [
    {
     "data": {
      "text/plain": [
       "actor\n",
       "John Ratzenberger    7.890000\n",
       "Albert Finney        7.700000\n",
       "Orlando Bloom        7.677778\n",
       "Tom Hardy            7.575000\n",
       "Robert Downey Jr.    7.563636\n",
       "                       ...   \n",
       "Frankie Muniz        5.183333\n",
       "Michael Jai White    5.085714\n",
       "Udo Kier             4.933333\n",
       "Alexa PenaVega       4.928571\n",
       "Taylor Lautner       4.900000\n",
       "Name: imdb_score, Length: 200, dtype: float64"
      ]
     },
     "execution_count": 216,
     "metadata": {},
     "output_type": "execute_result"
    }
   ],
   "source": [
    "actors_genres_sub.groupby('actor').mean()['imdb_score'].sort_values(ascending=False)"
   ]
  },
  {
   "cell_type": "markdown",
   "metadata": {},
   "source": [
    "The above sorts the top 200 actors in the specified genres by the average IMDB score for the movies they are in. None of the names in here appear in the most profitable"
   ]
  },
  {
   "cell_type": "markdown",
   "metadata": {},
   "source": [
    "# Data Understanding "
   ]
  },
  {
   "cell_type": "code",
   "execution_count": 217,
   "metadata": {},
   "outputs": [],
   "source": [
    "df_keywords1 = pd.read_csv('zippedData/movie_metadata.csv')"
   ]
  },
  {
   "cell_type": "code",
   "execution_count": 218,
   "metadata": {},
   "outputs": [
    {
     "data": {
      "text/plain": [
       "'avatar|future|marine|native|paraplegic'"
      ]
     },
     "execution_count": 218,
     "metadata": {},
     "output_type": "execute_result"
    }
   ],
   "source": [
    "df_keywords1['plot_keywords'][0]"
   ]
  },
  {
   "cell_type": "markdown",
   "metadata": {},
   "source": [
    "The dataset has a column for keywords in the plot (shown above), but similar to genre it has more than one keyword per movie and the keywords are divided by a \"|\". "
   ]
  },
  {
   "cell_type": "code",
   "execution_count": 219,
   "metadata": {},
   "outputs": [],
   "source": [
    "def split_keyword1(keywords):\n",
    "      return keywords.split('|')[0]\n",
    "\n",
    "def split_keyword2(keywords):\n",
    "        if len(keywords.split('|')) > 1:\n",
    "            return keywords.split('|')[1]\n",
    "        else:\n",
    "            return \"No second keyword\"\n",
    "\n",
    "def split_keyword3(keywords):\n",
    "        if len(keywords.split('|')) > 2:\n",
    "            return keywords.split('|')[2]\n",
    "        else:\n",
    "            return \"No third keyword\"\n",
    "\n",
    "def split_keyword4(keywords):\n",
    "        if len(keywords.split('|')) > 3:\n",
    "            return keywords.split('|')[3]\n",
    "        else:\n",
    "            return \"No fourth keyword\"\n",
    "\n",
    "def split_keyword5(keywords):\n",
    "        if len(keywords.split('|')) > 4:\n",
    "            return keywords.split('|')[4]\n",
    "        else:\n",
    "            return \"No fifth keyword\""
   ]
  },
  {
   "cell_type": "markdown",
   "metadata": {},
   "source": [
    "The code above is a little messy but it creates 5 different functions that each return one of the keywords in the column. The function \"split_keyword1\" returns the first keyword, the function \"split_keyword2\" returns the second keyword and so on. The if statement within the function exists in case there are titles with only 1 or 2 keywords. If this is the case, without the if statement there would be an error message if we attempted to run 'split_keyword5'. Instead, the function returns the string \"No fifth keyword\""
   ]
  },
  {
   "cell_type": "code",
   "execution_count": 220,
   "metadata": {},
   "outputs": [],
   "source": [
    "df_keywords1.dropna(subset=['plot_keywords'], inplace=True)\n",
    "df_keywords1['plot_keywords'] = df_keywords1['plot_keywords'].apply(split_keyword1)"
   ]
  },
  {
   "cell_type": "code",
   "execution_count": 221,
   "metadata": {},
   "outputs": [],
   "source": [
    "df_keywords2 = pd.read_csv('zippedData/movie_metadata.csv')\n",
    "df_keywords2.dropna(subset=['plot_keywords'], inplace=True)\n",
    "df_keywords2['plot_keywords'] = df_keywords2['plot_keywords'].apply(split_keyword2)"
   ]
  },
  {
   "cell_type": "code",
   "execution_count": 222,
   "metadata": {},
   "outputs": [],
   "source": [
    "df_keywords3 = pd.read_csv('zippedData/movie_metadata.csv')\n",
    "df_keywords3.dropna(subset=['plot_keywords'], inplace=True)\n",
    "df_keywords3['plot_keywords'] = df_keywords3['plot_keywords'].apply(split_keyword3)"
   ]
  },
  {
   "cell_type": "code",
   "execution_count": 223,
   "metadata": {},
   "outputs": [],
   "source": [
    "df_keywords4 = pd.read_csv('zippedData/movie_metadata.csv')\n",
    "df_keywords4.dropna(subset=['plot_keywords'], inplace=True)\n",
    "df_keywords4['plot_keywords'] = df_keywords4['plot_keywords'].apply(split_keyword4)"
   ]
  },
  {
   "cell_type": "code",
   "execution_count": 224,
   "metadata": {},
   "outputs": [],
   "source": [
    "df_keywords5 = pd.read_csv('zippedData/movie_metadata.csv')\n",
    "df_keywords5.dropna(subset=['plot_keywords'], inplace=True)\n",
    "df_keywords5['plot_keywords'] = df_keywords5['plot_keywords'].apply(split_keyword5)"
   ]
  },
  {
   "cell_type": "code",
   "execution_count": 225,
   "metadata": {},
   "outputs": [],
   "source": [
    "df_keywords = pd.concat([df_keywords1,df_keywords2, df_keywords3, df_keywords4, df_keywords5])"
   ]
  },
  {
   "cell_type": "code",
   "execution_count": 226,
   "metadata": {
    "scrolled": true
   },
   "outputs": [
    {
     "data": {
      "text/html": [
       "<div>\n",
       "<style scoped>\n",
       "    .dataframe tbody tr th:only-of-type {\n",
       "        vertical-align: middle;\n",
       "    }\n",
       "\n",
       "    .dataframe tbody tr th {\n",
       "        vertical-align: top;\n",
       "    }\n",
       "\n",
       "    .dataframe thead th {\n",
       "        text-align: right;\n",
       "    }\n",
       "</style>\n",
       "<table border=\"1\" class=\"dataframe\">\n",
       "  <thead>\n",
       "    <tr style=\"text-align: right;\">\n",
       "      <th></th>\n",
       "      <th>color</th>\n",
       "      <th>director_name</th>\n",
       "      <th>num_critic_for_reviews</th>\n",
       "      <th>duration</th>\n",
       "      <th>director_facebook_likes</th>\n",
       "      <th>actor_3_facebook_likes</th>\n",
       "      <th>actor_2_name</th>\n",
       "      <th>actor_1_facebook_likes</th>\n",
       "      <th>gross</th>\n",
       "      <th>genres</th>\n",
       "      <th>...</th>\n",
       "      <th>num_user_for_reviews</th>\n",
       "      <th>language</th>\n",
       "      <th>country</th>\n",
       "      <th>content_rating</th>\n",
       "      <th>budget</th>\n",
       "      <th>title_year</th>\n",
       "      <th>actor_2_facebook_likes</th>\n",
       "      <th>imdb_score</th>\n",
       "      <th>aspect_ratio</th>\n",
       "      <th>movie_facebook_likes</th>\n",
       "    </tr>\n",
       "  </thead>\n",
       "  <tbody>\n",
       "    <tr>\n",
       "      <th>0</th>\n",
       "      <td>Color</td>\n",
       "      <td>James Cameron</td>\n",
       "      <td>723.0</td>\n",
       "      <td>178.0</td>\n",
       "      <td>0.0</td>\n",
       "      <td>855.0</td>\n",
       "      <td>Joel David Moore</td>\n",
       "      <td>1000.0</td>\n",
       "      <td>760505847.0</td>\n",
       "      <td>Action|Adventure|Fantasy|Sci-Fi</td>\n",
       "      <td>...</td>\n",
       "      <td>3054.0</td>\n",
       "      <td>English</td>\n",
       "      <td>USA</td>\n",
       "      <td>PG-13</td>\n",
       "      <td>237000000.0</td>\n",
       "      <td>2009.0</td>\n",
       "      <td>936.0</td>\n",
       "      <td>7.9</td>\n",
       "      <td>1.78</td>\n",
       "      <td>33000</td>\n",
       "    </tr>\n",
       "    <tr>\n",
       "      <th>1</th>\n",
       "      <td>Color</td>\n",
       "      <td>Gore Verbinski</td>\n",
       "      <td>302.0</td>\n",
       "      <td>169.0</td>\n",
       "      <td>563.0</td>\n",
       "      <td>1000.0</td>\n",
       "      <td>Orlando Bloom</td>\n",
       "      <td>40000.0</td>\n",
       "      <td>309404152.0</td>\n",
       "      <td>Action|Adventure|Fantasy</td>\n",
       "      <td>...</td>\n",
       "      <td>1238.0</td>\n",
       "      <td>English</td>\n",
       "      <td>USA</td>\n",
       "      <td>PG-13</td>\n",
       "      <td>300000000.0</td>\n",
       "      <td>2007.0</td>\n",
       "      <td>5000.0</td>\n",
       "      <td>7.1</td>\n",
       "      <td>2.35</td>\n",
       "      <td>0</td>\n",
       "    </tr>\n",
       "    <tr>\n",
       "      <th>2</th>\n",
       "      <td>Color</td>\n",
       "      <td>Sam Mendes</td>\n",
       "      <td>602.0</td>\n",
       "      <td>148.0</td>\n",
       "      <td>0.0</td>\n",
       "      <td>161.0</td>\n",
       "      <td>Rory Kinnear</td>\n",
       "      <td>11000.0</td>\n",
       "      <td>200074175.0</td>\n",
       "      <td>Action|Adventure|Thriller</td>\n",
       "      <td>...</td>\n",
       "      <td>994.0</td>\n",
       "      <td>English</td>\n",
       "      <td>UK</td>\n",
       "      <td>PG-13</td>\n",
       "      <td>245000000.0</td>\n",
       "      <td>2015.0</td>\n",
       "      <td>393.0</td>\n",
       "      <td>6.8</td>\n",
       "      <td>2.35</td>\n",
       "      <td>85000</td>\n",
       "    </tr>\n",
       "    <tr>\n",
       "      <th>3</th>\n",
       "      <td>Color</td>\n",
       "      <td>Christopher Nolan</td>\n",
       "      <td>813.0</td>\n",
       "      <td>164.0</td>\n",
       "      <td>22000.0</td>\n",
       "      <td>23000.0</td>\n",
       "      <td>Christian Bale</td>\n",
       "      <td>27000.0</td>\n",
       "      <td>448130642.0</td>\n",
       "      <td>Action|Thriller</td>\n",
       "      <td>...</td>\n",
       "      <td>2701.0</td>\n",
       "      <td>English</td>\n",
       "      <td>USA</td>\n",
       "      <td>PG-13</td>\n",
       "      <td>250000000.0</td>\n",
       "      <td>2012.0</td>\n",
       "      <td>23000.0</td>\n",
       "      <td>8.5</td>\n",
       "      <td>2.35</td>\n",
       "      <td>164000</td>\n",
       "    </tr>\n",
       "    <tr>\n",
       "      <th>5</th>\n",
       "      <td>Color</td>\n",
       "      <td>Andrew Stanton</td>\n",
       "      <td>462.0</td>\n",
       "      <td>132.0</td>\n",
       "      <td>475.0</td>\n",
       "      <td>530.0</td>\n",
       "      <td>Samantha Morton</td>\n",
       "      <td>640.0</td>\n",
       "      <td>73058679.0</td>\n",
       "      <td>Action|Adventure|Sci-Fi</td>\n",
       "      <td>...</td>\n",
       "      <td>738.0</td>\n",
       "      <td>English</td>\n",
       "      <td>USA</td>\n",
       "      <td>PG-13</td>\n",
       "      <td>263700000.0</td>\n",
       "      <td>2012.0</td>\n",
       "      <td>632.0</td>\n",
       "      <td>6.6</td>\n",
       "      <td>2.35</td>\n",
       "      <td>24000</td>\n",
       "    </tr>\n",
       "    <tr>\n",
       "      <th>...</th>\n",
       "      <td>...</td>\n",
       "      <td>...</td>\n",
       "      <td>...</td>\n",
       "      <td>...</td>\n",
       "      <td>...</td>\n",
       "      <td>...</td>\n",
       "      <td>...</td>\n",
       "      <td>...</td>\n",
       "      <td>...</td>\n",
       "      <td>...</td>\n",
       "      <td>...</td>\n",
       "      <td>...</td>\n",
       "      <td>...</td>\n",
       "      <td>...</td>\n",
       "      <td>...</td>\n",
       "      <td>...</td>\n",
       "      <td>...</td>\n",
       "      <td>...</td>\n",
       "      <td>...</td>\n",
       "      <td>...</td>\n",
       "      <td>...</td>\n",
       "    </tr>\n",
       "    <tr>\n",
       "      <th>5036</th>\n",
       "      <td>Color</td>\n",
       "      <td>Anthony Vallone</td>\n",
       "      <td>NaN</td>\n",
       "      <td>84.0</td>\n",
       "      <td>2.0</td>\n",
       "      <td>2.0</td>\n",
       "      <td>John Considine</td>\n",
       "      <td>45.0</td>\n",
       "      <td>NaN</td>\n",
       "      <td>Crime|Drama</td>\n",
       "      <td>...</td>\n",
       "      <td>1.0</td>\n",
       "      <td>English</td>\n",
       "      <td>USA</td>\n",
       "      <td>PG-13</td>\n",
       "      <td>3250.0</td>\n",
       "      <td>2005.0</td>\n",
       "      <td>44.0</td>\n",
       "      <td>7.8</td>\n",
       "      <td>NaN</td>\n",
       "      <td>4</td>\n",
       "    </tr>\n",
       "    <tr>\n",
       "      <th>5037</th>\n",
       "      <td>Color</td>\n",
       "      <td>Edward Burns</td>\n",
       "      <td>14.0</td>\n",
       "      <td>95.0</td>\n",
       "      <td>0.0</td>\n",
       "      <td>133.0</td>\n",
       "      <td>Caitlin FitzGerald</td>\n",
       "      <td>296.0</td>\n",
       "      <td>4584.0</td>\n",
       "      <td>Comedy|Drama</td>\n",
       "      <td>...</td>\n",
       "      <td>14.0</td>\n",
       "      <td>English</td>\n",
       "      <td>USA</td>\n",
       "      <td>Not Rated</td>\n",
       "      <td>9000.0</td>\n",
       "      <td>2011.0</td>\n",
       "      <td>205.0</td>\n",
       "      <td>6.4</td>\n",
       "      <td>NaN</td>\n",
       "      <td>413</td>\n",
       "    </tr>\n",
       "    <tr>\n",
       "      <th>5038</th>\n",
       "      <td>Color</td>\n",
       "      <td>Scott Smith</td>\n",
       "      <td>1.0</td>\n",
       "      <td>87.0</td>\n",
       "      <td>2.0</td>\n",
       "      <td>318.0</td>\n",
       "      <td>Daphne Zuniga</td>\n",
       "      <td>637.0</td>\n",
       "      <td>NaN</td>\n",
       "      <td>Comedy|Drama</td>\n",
       "      <td>...</td>\n",
       "      <td>6.0</td>\n",
       "      <td>English</td>\n",
       "      <td>Canada</td>\n",
       "      <td>NaN</td>\n",
       "      <td>NaN</td>\n",
       "      <td>2013.0</td>\n",
       "      <td>470.0</td>\n",
       "      <td>7.7</td>\n",
       "      <td>NaN</td>\n",
       "      <td>84</td>\n",
       "    </tr>\n",
       "    <tr>\n",
       "      <th>5039</th>\n",
       "      <td>Color</td>\n",
       "      <td>NaN</td>\n",
       "      <td>43.0</td>\n",
       "      <td>43.0</td>\n",
       "      <td>NaN</td>\n",
       "      <td>319.0</td>\n",
       "      <td>Valorie Curry</td>\n",
       "      <td>841.0</td>\n",
       "      <td>NaN</td>\n",
       "      <td>Crime|Drama|Mystery|Thriller</td>\n",
       "      <td>...</td>\n",
       "      <td>359.0</td>\n",
       "      <td>English</td>\n",
       "      <td>USA</td>\n",
       "      <td>TV-14</td>\n",
       "      <td>NaN</td>\n",
       "      <td>NaN</td>\n",
       "      <td>593.0</td>\n",
       "      <td>7.5</td>\n",
       "      <td>16.00</td>\n",
       "      <td>32000</td>\n",
       "    </tr>\n",
       "    <tr>\n",
       "      <th>5042</th>\n",
       "      <td>Color</td>\n",
       "      <td>Jon Gunn</td>\n",
       "      <td>43.0</td>\n",
       "      <td>90.0</td>\n",
       "      <td>16.0</td>\n",
       "      <td>16.0</td>\n",
       "      <td>Brian Herzlinger</td>\n",
       "      <td>86.0</td>\n",
       "      <td>85222.0</td>\n",
       "      <td>Documentary</td>\n",
       "      <td>...</td>\n",
       "      <td>84.0</td>\n",
       "      <td>English</td>\n",
       "      <td>USA</td>\n",
       "      <td>PG</td>\n",
       "      <td>1100.0</td>\n",
       "      <td>2004.0</td>\n",
       "      <td>23.0</td>\n",
       "      <td>6.6</td>\n",
       "      <td>1.85</td>\n",
       "      <td>456</td>\n",
       "    </tr>\n",
       "  </tbody>\n",
       "</table>\n",
       "<p>24450 rows × 28 columns</p>\n",
       "</div>"
      ],
      "text/plain": [
       "      color      director_name  num_critic_for_reviews  duration  \\\n",
       "0     Color      James Cameron                   723.0     178.0   \n",
       "1     Color     Gore Verbinski                   302.0     169.0   \n",
       "2     Color         Sam Mendes                   602.0     148.0   \n",
       "3     Color  Christopher Nolan                   813.0     164.0   \n",
       "5     Color     Andrew Stanton                   462.0     132.0   \n",
       "...     ...                ...                     ...       ...   \n",
       "5036  Color    Anthony Vallone                     NaN      84.0   \n",
       "5037  Color       Edward Burns                    14.0      95.0   \n",
       "5038  Color        Scott Smith                     1.0      87.0   \n",
       "5039  Color                NaN                    43.0      43.0   \n",
       "5042  Color           Jon Gunn                    43.0      90.0   \n",
       "\n",
       "      director_facebook_likes  actor_3_facebook_likes        actor_2_name  \\\n",
       "0                         0.0                   855.0    Joel David Moore   \n",
       "1                       563.0                  1000.0       Orlando Bloom   \n",
       "2                         0.0                   161.0        Rory Kinnear   \n",
       "3                     22000.0                 23000.0      Christian Bale   \n",
       "5                       475.0                   530.0     Samantha Morton   \n",
       "...                       ...                     ...                 ...   \n",
       "5036                      2.0                     2.0      John Considine   \n",
       "5037                      0.0                   133.0  Caitlin FitzGerald   \n",
       "5038                      2.0                   318.0       Daphne Zuniga   \n",
       "5039                      NaN                   319.0       Valorie Curry   \n",
       "5042                     16.0                    16.0    Brian Herzlinger   \n",
       "\n",
       "      actor_1_facebook_likes        gross                           genres  \\\n",
       "0                     1000.0  760505847.0  Action|Adventure|Fantasy|Sci-Fi   \n",
       "1                    40000.0  309404152.0         Action|Adventure|Fantasy   \n",
       "2                    11000.0  200074175.0        Action|Adventure|Thriller   \n",
       "3                    27000.0  448130642.0                  Action|Thriller   \n",
       "5                      640.0   73058679.0          Action|Adventure|Sci-Fi   \n",
       "...                      ...          ...                              ...   \n",
       "5036                    45.0          NaN                      Crime|Drama   \n",
       "5037                   296.0       4584.0                     Comedy|Drama   \n",
       "5038                   637.0          NaN                     Comedy|Drama   \n",
       "5039                   841.0          NaN     Crime|Drama|Mystery|Thriller   \n",
       "5042                    86.0      85222.0                      Documentary   \n",
       "\n",
       "      ... num_user_for_reviews language  country  content_rating       budget  \\\n",
       "0     ...               3054.0  English      USA           PG-13  237000000.0   \n",
       "1     ...               1238.0  English      USA           PG-13  300000000.0   \n",
       "2     ...                994.0  English       UK           PG-13  245000000.0   \n",
       "3     ...               2701.0  English      USA           PG-13  250000000.0   \n",
       "5     ...                738.0  English      USA           PG-13  263700000.0   \n",
       "...   ...                  ...      ...      ...             ...          ...   \n",
       "5036  ...                  1.0  English      USA           PG-13       3250.0   \n",
       "5037  ...                 14.0  English      USA       Not Rated       9000.0   \n",
       "5038  ...                  6.0  English   Canada             NaN          NaN   \n",
       "5039  ...                359.0  English      USA           TV-14          NaN   \n",
       "5042  ...                 84.0  English      USA              PG       1100.0   \n",
       "\n",
       "      title_year actor_2_facebook_likes imdb_score  aspect_ratio  \\\n",
       "0         2009.0                  936.0        7.9          1.78   \n",
       "1         2007.0                 5000.0        7.1          2.35   \n",
       "2         2015.0                  393.0        6.8          2.35   \n",
       "3         2012.0                23000.0        8.5          2.35   \n",
       "5         2012.0                  632.0        6.6          2.35   \n",
       "...          ...                    ...        ...           ...   \n",
       "5036      2005.0                   44.0        7.8           NaN   \n",
       "5037      2011.0                  205.0        6.4           NaN   \n",
       "5038      2013.0                  470.0        7.7           NaN   \n",
       "5039         NaN                  593.0        7.5         16.00   \n",
       "5042      2004.0                   23.0        6.6          1.85   \n",
       "\n",
       "     movie_facebook_likes  \n",
       "0                   33000  \n",
       "1                       0  \n",
       "2                   85000  \n",
       "3                  164000  \n",
       "5                   24000  \n",
       "...                   ...  \n",
       "5036                    4  \n",
       "5037                  413  \n",
       "5038                   84  \n",
       "5039                32000  \n",
       "5042                  456  \n",
       "\n",
       "[24450 rows x 28 columns]"
      ]
     },
     "execution_count": 226,
     "metadata": {},
     "output_type": "execute_result"
    }
   ],
   "source": [
    "df_keywords"
   ]
  },
  {
   "cell_type": "markdown",
   "metadata": {},
   "source": [
    "The above is a little repetitive. It creates 5 new dataframes and populated each one with one of the title keywords. dataframe 1 has the first keyword in the 'plot_keyword column', dataframe 2 has the second keyword in the 'plot_keyword' and so on. "
   ]
  },
  {
   "cell_type": "code",
   "execution_count": 227,
   "metadata": {},
   "outputs": [],
   "source": [
    "df_keywords = df_keywords[df_keywords['plot_keywords'] != \"No second keyword\"] \n",
    "df_keywords = df_keywords[df_keywords['plot_keywords'] != \"No third keyword\"] \n",
    "df_keywords = df_keywords[df_keywords['plot_keywords'] != \"No fourth keyword\"] \n",
    "df_keywords = df_keywords[df_keywords['plot_keywords'] != \"No fifth keyword\"] \n",
    "\n",
    "# The above eliminates all the instances in which the function didn't have a keyword"
   ]
  },
  {
   "cell_type": "markdown",
   "metadata": {},
   "source": [
    "# Business Understanding"
   ]
  },
  {
   "cell_type": "code",
   "execution_count": 228,
   "metadata": {},
   "outputs": [],
   "source": [
    "x= list(df_keywords['plot_keywords'].value_counts().index[0:20])\n",
    "y= list(df_keywords['plot_keywords'].value_counts().values[0:20])"
   ]
  },
  {
   "cell_type": "code",
   "execution_count": 229,
   "metadata": {},
   "outputs": [
    {
     "data": {
      "image/png": "[encoded data removed]",
      "text/plain": [
       "<Figure size 864x576 with 1 Axes>"
      ]
     },
     "metadata": {
      "needs_background": "light"
     },
     "output_type": "display_data"
    }
   ],
   "source": [
    "fig, ax = plt.subplots(figsize=[12,8])\n",
    "ax.bar(x,y, color='dodgerblue')\n",
    "ax.set_xlabel('Plot Theme')\n",
    "ax.set_ylabel('Movie Counts')\n",
    "ax.set_title('Most Popular Movie Themes');\n",
    "plt.xticks(rotation=90)\n",
    "plt.tight_layout()\n",
    "plt.savefig('Visualizations/Keyword_counts.png')"
   ]
  },
  {
   "cell_type": "markdown",
   "metadata": {},
   "source": [
    "Using our new dataframe of keywords, we created a list of the top 10 words and their associated counts above. The plot word that appears most often is \"Love\", awwwwwwwww! "
   ]
  },
  {
   "cell_type": "code",
   "execution_count": 230,
   "metadata": {},
   "outputs": [],
   "source": [
    "top_100_keywords = list(df_keywords['plot_keywords'].value_counts().index[0:100])"
   ]
  },
  {
   "cell_type": "code",
   "execution_count": 231,
   "metadata": {},
   "outputs": [],
   "source": [
    "df_keyword_sub = df_keywords[df_keywords['plot_keywords'].isin(top_100_keywords)]\n",
    "df_keyword_sub = df_keyword_sub.dropna(subset=['gross'])"
   ]
  },
  {
   "cell_type": "markdown",
   "metadata": {},
   "source": [
    "The above creates a list of 100 keywords that appear most frequently in the dataset and then filters out all movies that don't contain a keyword in this list and also filters out entries that don't have a value in the 'gross column'"
   ]
  },
  {
   "cell_type": "code",
   "execution_count": 232,
   "metadata": {},
   "outputs": [
    {
     "data": {
      "text/plain": [
       "plot_keywords\n",
       "superhero                   136.025491\n",
       "princess                    118.124350\n",
       "magic                       111.002026\n",
       "battle                      101.337732\n",
       "monster                      97.822698\n",
       "                               ...    \n",
       "bar                          21.359047\n",
       "gay                          20.367470\n",
       "box office flop              18.272964\n",
       "title directed by female     16.599813\n",
       "sex                          16.067441\n",
       "Name: gross, Length: 100, dtype: float64"
      ]
     },
     "execution_count": 232,
     "metadata": {},
     "output_type": "execute_result"
    }
   ],
   "source": [
    "df_keyword_sub['gross'] = df_keyword_sub['gross'].apply(lambda x: x/1000000)\n",
    "df_keyword_sub.groupby('plot_keywords').mean()['gross'].sort_values(ascending=False)"
   ]
  },
  {
   "cell_type": "code",
   "execution_count": 233,
   "metadata": {},
   "outputs": [],
   "source": [
    "x = df_keyword_sub.groupby('plot_keywords').mean()['gross'].sort_values(ascending=False).index[0:20]\n",
    "y = df_keyword_sub.groupby('plot_keywords').mean()['gross'].sort_values(ascending=False).values[0:20]"
   ]
  },
  {
   "cell_type": "code",
   "execution_count": 234,
   "metadata": {},
   "outputs": [
    {
     "data": {
      "image/png": "[encoded data removed]",
      "text/plain": [
       "<Figure size 864x576 with 1 Axes>"
      ]
     },
     "metadata": {
      "needs_background": "light"
     },
     "output_type": "display_data"
    }
   ],
   "source": [
    "fig, ax = plt.subplots(figsize=[12,8])\n",
    "ax.bar(x,y,color='dodgerblue')\n",
    "ax.set_xlabel('Plot Theme')\n",
    "ax.set_ylabel('Average Domestic Gross Revenue (in $mm)')\n",
    "ax.set_title('Average Gross Revenue for Highest Grossing Plot Themes');\n",
    "plt.xticks(rotation=90)\n",
    "plt.tight_layout()\n",
    "plt.savefig('Visualizations/Keyword_revenue.png')\n"
   ]
  },
  {
   "cell_type": "markdown",
   "metadata": {},
   "source": [
    "Above, we grouped movies by keywords (aka plot themes) and then calculated the average revenue of movies containing that theme. The top 10 themes associated with the highest revenue are listed above. Due to this output, we would recommend creating a movie that has one of these themes"
   ]
  },
  {
   "cell_type": "markdown",
   "metadata": {},
   "source": [
    "In this section we identified 5 genres that generally translate to higher profitability: Family, Action, Adventure, Animation, Musical. We then created a subset of the data featuring movies from these categories and identified the actors and directors that have been involved in the highest earning films. We also identified plot themes that appear in movies that are the most successful in the box office. \n",
    "\n",
    "<b>Genres to target:</b>  Action, Adventure, Animation, Sci-Fi, Fantasy, Mystery\n",
    "\n",
    "<b>Directors to target:</b> Joss Whedon, George Lucas, Christopher Nolan, Andrew Adamson, Peter Jackson \n",
    "\n",
    "<b>Actors to target:</b> Robert Downey, Robert Pattinson, Jennifer Lawrence, Kevin Dunn, Scarlett Johansson, Daniel Radcliffe, Jon Favreau, Orlando Bloom, John Ratzenberger, Albert Finney\n",
    "\n",
    "<b>Plot Themes:</b> superhero, princess, magic, battle, monster, assasin, terrorist, soldier, professor, king, future, spy, vampire, president, alien, island, CIA, scientist, revenge"
   ]
  },
  {
   "cell_type": "markdown",
   "metadata": {},
   "source": [
    "#### Movie Randomizer"
   ]
  },
  {
   "cell_type": "code",
   "execution_count": 235,
   "metadata": {},
   "outputs": [
    {
     "name": "stdout",
     "output_type": "stream",
     "text": [
      "Directed by James Cameron, critics are raving about Microsoft Studio's first film. Anchored by fantastic performances by Johnny Depp and Noel Fisher, the film explores important themes such as prison(s) and king(s). Microsoft has set records at the box office with this film, and the future is bright for the new studio!\n"
     ]
    }
   ],
   "source": [
    "import random\n",
    "\n",
    "keyword_list = list(df_keyword_sub.groupby('plot_keywords').mean()['gross'].sort_values(ascending=False).index[0:50])\n",
    "actor_list  = list(actors_genres_sub.groupby('actor').mean()['gross'].sort_values(ascending=False).index[0:50])\n",
    "director_list = list(df_director_sub.groupby('director_name').mean()['gross'].sort_values(ascending=False).index[0:50])\n",
    "\n",
    "key_themes_random = random.sample(keyword_list, 2)\n",
    "actors_random = random.sample(actor_list, 2)\n",
    "director_random = random.sample(director_list, 1)\n",
    "\n",
    "print(\"Directed by \" + director_random[0] + \", critics are raving about Microsoft Studio's first film. \\\n",
    "Anchored by fantastic performances by \" + actors_random[0] +\" and \" + actors_random[1] \\\n",
    "+ \", the film explores important themes such as \" + key_themes_random[0] + \"(s) and \" + key_themes_random[1] + \"(s). Microsoft \\\n",
    "has set records at the box office with this film, and the future is bright for the new studio!\")"
   ]
  },
  {
   "cell_type": "markdown",
   "metadata": {},
   "source": [
    "Based on our recommendations above, we decided to build a random movie generator that draws on the director, actor and plot theme lists we created. For the purpose of the randomizer, we broadened each list to include 50 elements rather than 10 or 20. Have fun cycling through! "
   ]
  },
  {
   "cell_type": "markdown",
   "metadata": {},
   "source": [
    "## The Numbers Data"
   ]
  },
  {
   "cell_type": "code",
   "execution_count": 236,
   "metadata": {
    "scrolled": false
   },
   "outputs": [
    {
     "data": {
      "text/html": [
       "<div>\n",
       "<style scoped>\n",
       "    .dataframe tbody tr th:only-of-type {\n",
       "        vertical-align: middle;\n",
       "    }\n",
       "\n",
       "    .dataframe tbody tr th {\n",
       "        vertical-align: top;\n",
       "    }\n",
       "\n",
       "    .dataframe thead th {\n",
       "        text-align: right;\n",
       "    }\n",
       "</style>\n",
       "<table border=\"1\" class=\"dataframe\">\n",
       "  <thead>\n",
       "    <tr style=\"text-align: right;\">\n",
       "      <th></th>\n",
       "      <th>id</th>\n",
       "      <th>release_date</th>\n",
       "      <th>movie</th>\n",
       "      <th>production_budget</th>\n",
       "      <th>domestic_gross</th>\n",
       "      <th>worldwide_gross</th>\n",
       "    </tr>\n",
       "  </thead>\n",
       "  <tbody>\n",
       "    <tr>\n",
       "      <th>0</th>\n",
       "      <td>1</td>\n",
       "      <td>Dec 18, 2009</td>\n",
       "      <td>Avatar</td>\n",
       "      <td>$425,000,000</td>\n",
       "      <td>$760,507,625</td>\n",
       "      <td>$2,776,345,279</td>\n",
       "    </tr>\n",
       "    <tr>\n",
       "      <th>1</th>\n",
       "      <td>2</td>\n",
       "      <td>May 20, 2011</td>\n",
       "      <td>Pirates of the Caribbean: On Stranger Tides</td>\n",
       "      <td>$410,600,000</td>\n",
       "      <td>$241,063,875</td>\n",
       "      <td>$1,045,663,875</td>\n",
       "    </tr>\n",
       "    <tr>\n",
       "      <th>2</th>\n",
       "      <td>3</td>\n",
       "      <td>Jun 7, 2019</td>\n",
       "      <td>Dark Phoenix</td>\n",
       "      <td>$350,000,000</td>\n",
       "      <td>$42,762,350</td>\n",
       "      <td>$149,762,350</td>\n",
       "    </tr>\n",
       "    <tr>\n",
       "      <th>3</th>\n",
       "      <td>4</td>\n",
       "      <td>May 1, 2015</td>\n",
       "      <td>Avengers: Age of Ultron</td>\n",
       "      <td>$330,600,000</td>\n",
       "      <td>$459,005,868</td>\n",
       "      <td>$1,403,013,963</td>\n",
       "    </tr>\n",
       "    <tr>\n",
       "      <th>4</th>\n",
       "      <td>5</td>\n",
       "      <td>Dec 15, 2017</td>\n",
       "      <td>Star Wars Ep. VIII: The Last Jedi</td>\n",
       "      <td>$317,000,000</td>\n",
       "      <td>$620,181,382</td>\n",
       "      <td>$1,316,721,747</td>\n",
       "    </tr>\n",
       "  </tbody>\n",
       "</table>\n",
       "</div>"
      ],
      "text/plain": [
       "   id  release_date                                        movie  \\\n",
       "0   1  Dec 18, 2009                                       Avatar   \n",
       "1   2  May 20, 2011  Pirates of the Caribbean: On Stranger Tides   \n",
       "2   3   Jun 7, 2019                                 Dark Phoenix   \n",
       "3   4   May 1, 2015                      Avengers: Age of Ultron   \n",
       "4   5  Dec 15, 2017            Star Wars Ep. VIII: The Last Jedi   \n",
       "\n",
       "  production_budget domestic_gross worldwide_gross  \n",
       "0      $425,000,000   $760,507,625  $2,776,345,279  \n",
       "1      $410,600,000   $241,063,875  $1,045,663,875  \n",
       "2      $350,000,000    $42,762,350    $149,762,350  \n",
       "3      $330,600,000   $459,005,868  $1,403,013,963  \n",
       "4      $317,000,000   $620,181,382  $1,316,721,747  "
      ]
     },
     "execution_count": 236,
     "metadata": {},
     "output_type": "execute_result"
    }
   ],
   "source": [
    "df = pd.read_csv('zippedData/tn.movie_budgets.csv.gz')\n",
    "df.head()"
   ]
  },
  {
   "cell_type": "code",
   "execution_count": 237,
   "metadata": {},
   "outputs": [
    {
     "name": "stdout",
     "output_type": "stream",
     "text": [
      "<class 'pandas.core.frame.DataFrame'>\n",
      "RangeIndex: 5782 entries, 0 to 5781\n",
      "Data columns (total 6 columns):\n",
      " #   Column             Non-Null Count  Dtype \n",
      "---  ------             --------------  ----- \n",
      " 0   id                 5782 non-null   int64 \n",
      " 1   release_date       5782 non-null   object\n",
      " 2   movie              5782 non-null   object\n",
      " 3   production_budget  5782 non-null   object\n",
      " 4   domestic_gross     5782 non-null   object\n",
      " 5   worldwide_gross    5782 non-null   object\n",
      "dtypes: int64(1), object(5)\n",
      "memory usage: 271.2+ KB\n"
     ]
    }
   ],
   "source": [
    "df.info()"
   ]
  },
  {
   "cell_type": "markdown",
   "metadata": {},
   "source": [
    "## Data Cleaning"
   ]
  },
  {
   "cell_type": "markdown",
   "metadata": {},
   "source": [
    "Luckily, we have no missing values. However, we need the data columns for production_budget, domestic_gross, and worldwide_gross to be integers, rather than strings, in order to properly analyze them. "
   ]
  },
  {
   "cell_type": "code",
   "execution_count": 238,
   "metadata": {},
   "outputs": [],
   "source": [
    "#cleaning the production budget column, domestic_gross column, worldwide_gross column to be floats\n",
    "df['prod_budg_fixed'] = df['production_budget'].str.replace('$', '').str.replace(',','').astype(float)\n",
    "df['dom_gross_fixed'] = df['domestic_gross'].str.replace('$', '').str.replace(',','').astype(float)\n",
    "df['world_gross_fixed'] = df['worldwide_gross'].str.replace('$', '').str.replace(',','').astype(float)"
   ]
  },
  {
   "cell_type": "code",
   "execution_count": 239,
   "metadata": {},
   "outputs": [
    {
     "data": {
      "text/html": [
       "<div>\n",
       "<style scoped>\n",
       "    .dataframe tbody tr th:only-of-type {\n",
       "        vertical-align: middle;\n",
       "    }\n",
       "\n",
       "    .dataframe tbody tr th {\n",
       "        vertical-align: top;\n",
       "    }\n",
       "\n",
       "    .dataframe thead th {\n",
       "        text-align: right;\n",
       "    }\n",
       "</style>\n",
       "<table border=\"1\" class=\"dataframe\">\n",
       "  <thead>\n",
       "    <tr style=\"text-align: right;\">\n",
       "      <th></th>\n",
       "      <th>id</th>\n",
       "      <th>release_date</th>\n",
       "      <th>movie</th>\n",
       "      <th>production_budget</th>\n",
       "      <th>domestic_gross</th>\n",
       "      <th>worldwide_gross</th>\n",
       "      <th>prod_budg_fixed</th>\n",
       "      <th>dom_gross_fixed</th>\n",
       "      <th>world_gross_fixed</th>\n",
       "    </tr>\n",
       "  </thead>\n",
       "  <tbody>\n",
       "    <tr>\n",
       "      <th>0</th>\n",
       "      <td>1</td>\n",
       "      <td>Dec 18, 2009</td>\n",
       "      <td>Avatar</td>\n",
       "      <td>$425,000,000</td>\n",
       "      <td>$760,507,625</td>\n",
       "      <td>$2,776,345,279</td>\n",
       "      <td>425000000.0</td>\n",
       "      <td>760507625.0</td>\n",
       "      <td>2.776345e+09</td>\n",
       "    </tr>\n",
       "    <tr>\n",
       "      <th>1</th>\n",
       "      <td>2</td>\n",
       "      <td>May 20, 2011</td>\n",
       "      <td>Pirates of the Caribbean: On Stranger Tides</td>\n",
       "      <td>$410,600,000</td>\n",
       "      <td>$241,063,875</td>\n",
       "      <td>$1,045,663,875</td>\n",
       "      <td>410600000.0</td>\n",
       "      <td>241063875.0</td>\n",
       "      <td>1.045664e+09</td>\n",
       "    </tr>\n",
       "    <tr>\n",
       "      <th>2</th>\n",
       "      <td>3</td>\n",
       "      <td>Jun 7, 2019</td>\n",
       "      <td>Dark Phoenix</td>\n",
       "      <td>$350,000,000</td>\n",
       "      <td>$42,762,350</td>\n",
       "      <td>$149,762,350</td>\n",
       "      <td>350000000.0</td>\n",
       "      <td>42762350.0</td>\n",
       "      <td>1.497624e+08</td>\n",
       "    </tr>\n",
       "    <tr>\n",
       "      <th>3</th>\n",
       "      <td>4</td>\n",
       "      <td>May 1, 2015</td>\n",
       "      <td>Avengers: Age of Ultron</td>\n",
       "      <td>$330,600,000</td>\n",
       "      <td>$459,005,868</td>\n",
       "      <td>$1,403,013,963</td>\n",
       "      <td>330600000.0</td>\n",
       "      <td>459005868.0</td>\n",
       "      <td>1.403014e+09</td>\n",
       "    </tr>\n",
       "    <tr>\n",
       "      <th>4</th>\n",
       "      <td>5</td>\n",
       "      <td>Dec 15, 2017</td>\n",
       "      <td>Star Wars Ep. VIII: The Last Jedi</td>\n",
       "      <td>$317,000,000</td>\n",
       "      <td>$620,181,382</td>\n",
       "      <td>$1,316,721,747</td>\n",
       "      <td>317000000.0</td>\n",
       "      <td>620181382.0</td>\n",
       "      <td>1.316722e+09</td>\n",
       "    </tr>\n",
       "  </tbody>\n",
       "</table>\n",
       "</div>"
      ],
      "text/plain": [
       "   id  release_date                                        movie  \\\n",
       "0   1  Dec 18, 2009                                       Avatar   \n",
       "1   2  May 20, 2011  Pirates of the Caribbean: On Stranger Tides   \n",
       "2   3   Jun 7, 2019                                 Dark Phoenix   \n",
       "3   4   May 1, 2015                      Avengers: Age of Ultron   \n",
       "4   5  Dec 15, 2017            Star Wars Ep. VIII: The Last Jedi   \n",
       "\n",
       "  production_budget domestic_gross worldwide_gross  prod_budg_fixed  \\\n",
       "0      $425,000,000   $760,507,625  $2,776,345,279      425000000.0   \n",
       "1      $410,600,000   $241,063,875  $1,045,663,875      410600000.0   \n",
       "2      $350,000,000    $42,762,350    $149,762,350      350000000.0   \n",
       "3      $330,600,000   $459,005,868  $1,403,013,963      330600000.0   \n",
       "4      $317,000,000   $620,181,382  $1,316,721,747      317000000.0   \n",
       "\n",
       "   dom_gross_fixed  world_gross_fixed  \n",
       "0      760507625.0       2.776345e+09  \n",
       "1      241063875.0       1.045664e+09  \n",
       "2       42762350.0       1.497624e+08  \n",
       "3      459005868.0       1.403014e+09  \n",
       "4      620181382.0       1.316722e+09  "
      ]
     },
     "execution_count": 239,
     "metadata": {},
     "output_type": "execute_result"
    }
   ],
   "source": [
    "df.head()"
   ]
  },
  {
   "cell_type": "code",
   "execution_count": 240,
   "metadata": {},
   "outputs": [
    {
     "data": {
      "text/html": [
       "<div>\n",
       "<style scoped>\n",
       "    .dataframe tbody tr th:only-of-type {\n",
       "        vertical-align: middle;\n",
       "    }\n",
       "\n",
       "    .dataframe tbody tr th {\n",
       "        vertical-align: top;\n",
       "    }\n",
       "\n",
       "    .dataframe thead th {\n",
       "        text-align: right;\n",
       "    }\n",
       "</style>\n",
       "<table border=\"1\" class=\"dataframe\">\n",
       "  <thead>\n",
       "    <tr style=\"text-align: right;\">\n",
       "      <th></th>\n",
       "      <th>id</th>\n",
       "      <th>prod_budg_fixed</th>\n",
       "      <th>dom_gross_fixed</th>\n",
       "      <th>world_gross_fixed</th>\n",
       "    </tr>\n",
       "  </thead>\n",
       "  <tbody>\n",
       "    <tr>\n",
       "      <th>count</th>\n",
       "      <td>5782.000000</td>\n",
       "      <td>5.782000e+03</td>\n",
       "      <td>5.782000e+03</td>\n",
       "      <td>5.782000e+03</td>\n",
       "    </tr>\n",
       "    <tr>\n",
       "      <th>mean</th>\n",
       "      <td>50.372363</td>\n",
       "      <td>3.158776e+07</td>\n",
       "      <td>4.187333e+07</td>\n",
       "      <td>9.148746e+07</td>\n",
       "    </tr>\n",
       "    <tr>\n",
       "      <th>std</th>\n",
       "      <td>28.821076</td>\n",
       "      <td>4.181208e+07</td>\n",
       "      <td>6.824060e+07</td>\n",
       "      <td>1.747200e+08</td>\n",
       "    </tr>\n",
       "    <tr>\n",
       "      <th>min</th>\n",
       "      <td>1.000000</td>\n",
       "      <td>1.100000e+03</td>\n",
       "      <td>0.000000e+00</td>\n",
       "      <td>0.000000e+00</td>\n",
       "    </tr>\n",
       "    <tr>\n",
       "      <th>25%</th>\n",
       "      <td>25.000000</td>\n",
       "      <td>5.000000e+06</td>\n",
       "      <td>1.429534e+06</td>\n",
       "      <td>4.125415e+06</td>\n",
       "    </tr>\n",
       "    <tr>\n",
       "      <th>50%</th>\n",
       "      <td>50.000000</td>\n",
       "      <td>1.700000e+07</td>\n",
       "      <td>1.722594e+07</td>\n",
       "      <td>2.798445e+07</td>\n",
       "    </tr>\n",
       "    <tr>\n",
       "      <th>75%</th>\n",
       "      <td>75.000000</td>\n",
       "      <td>4.000000e+07</td>\n",
       "      <td>5.234866e+07</td>\n",
       "      <td>9.764584e+07</td>\n",
       "    </tr>\n",
       "    <tr>\n",
       "      <th>max</th>\n",
       "      <td>100.000000</td>\n",
       "      <td>4.250000e+08</td>\n",
       "      <td>9.366622e+08</td>\n",
       "      <td>2.776345e+09</td>\n",
       "    </tr>\n",
       "  </tbody>\n",
       "</table>\n",
       "</div>"
      ],
      "text/plain": [
       "                id  prod_budg_fixed  dom_gross_fixed  world_gross_fixed\n",
       "count  5782.000000     5.782000e+03     5.782000e+03       5.782000e+03\n",
       "mean     50.372363     3.158776e+07     4.187333e+07       9.148746e+07\n",
       "std      28.821076     4.181208e+07     6.824060e+07       1.747200e+08\n",
       "min       1.000000     1.100000e+03     0.000000e+00       0.000000e+00\n",
       "25%      25.000000     5.000000e+06     1.429534e+06       4.125415e+06\n",
       "50%      50.000000     1.700000e+07     1.722594e+07       2.798445e+07\n",
       "75%      75.000000     4.000000e+07     5.234866e+07       9.764584e+07\n",
       "max     100.000000     4.250000e+08     9.366622e+08       2.776345e+09"
      ]
     },
     "execution_count": 240,
     "metadata": {},
     "output_type": "execute_result"
    }
   ],
   "source": [
    "df.describe()"
   ]
  },
  {
   "cell_type": "markdown",
   "metadata": {},
   "source": [
    "## Data Analysis\n",
    "With the cleaning out of the way, we have a column of floats for production budget called prod_budg_fixed, a column of floats for domestic gross called dom_gross_fixed, and a column of floats for worldwide gross called world_gross_fixed. We can now start exploring relationships between production budget and the gross revenue"
   ]
  },
  {
   "cell_type": "code",
   "execution_count": 241,
   "metadata": {},
   "outputs": [
    {
     "data": {
      "text/html": [
       "<div>\n",
       "<style scoped>\n",
       "    .dataframe tbody tr th:only-of-type {\n",
       "        vertical-align: middle;\n",
       "    }\n",
       "\n",
       "    .dataframe tbody tr th {\n",
       "        vertical-align: top;\n",
       "    }\n",
       "\n",
       "    .dataframe thead th {\n",
       "        text-align: right;\n",
       "    }\n",
       "</style>\n",
       "<table border=\"1\" class=\"dataframe\">\n",
       "  <thead>\n",
       "    <tr style=\"text-align: right;\">\n",
       "      <th></th>\n",
       "      <th>id</th>\n",
       "      <th>prod_budg_fixed</th>\n",
       "      <th>dom_gross_fixed</th>\n",
       "      <th>world_gross_fixed</th>\n",
       "    </tr>\n",
       "  </thead>\n",
       "  <tbody>\n",
       "    <tr>\n",
       "      <th>id</th>\n",
       "      <td>1.000000</td>\n",
       "      <td>-0.035278</td>\n",
       "      <td>0.008255</td>\n",
       "      <td>-0.009422</td>\n",
       "    </tr>\n",
       "    <tr>\n",
       "      <th>prod_budg_fixed</th>\n",
       "      <td>-0.035278</td>\n",
       "      <td>1.000000</td>\n",
       "      <td>0.685682</td>\n",
       "      <td>0.748306</td>\n",
       "    </tr>\n",
       "    <tr>\n",
       "      <th>dom_gross_fixed</th>\n",
       "      <td>0.008255</td>\n",
       "      <td>0.685682</td>\n",
       "      <td>1.000000</td>\n",
       "      <td>0.938853</td>\n",
       "    </tr>\n",
       "    <tr>\n",
       "      <th>world_gross_fixed</th>\n",
       "      <td>-0.009422</td>\n",
       "      <td>0.748306</td>\n",
       "      <td>0.938853</td>\n",
       "      <td>1.000000</td>\n",
       "    </tr>\n",
       "  </tbody>\n",
       "</table>\n",
       "</div>"
      ],
      "text/plain": [
       "                         id  prod_budg_fixed  dom_gross_fixed  \\\n",
       "id                 1.000000        -0.035278         0.008255   \n",
       "prod_budg_fixed   -0.035278         1.000000         0.685682   \n",
       "dom_gross_fixed    0.008255         0.685682         1.000000   \n",
       "world_gross_fixed -0.009422         0.748306         0.938853   \n",
       "\n",
       "                   world_gross_fixed  \n",
       "id                         -0.009422  \n",
       "prod_budg_fixed             0.748306  \n",
       "dom_gross_fixed             0.938853  \n",
       "world_gross_fixed           1.000000  "
      ]
     },
     "execution_count": 241,
     "metadata": {},
     "output_type": "execute_result"
    }
   ],
   "source": [
    "#Checking the Pearson Correlation Coefficient\n",
    "df.corr(method='pearson')"
   ]
  },
  {
   "cell_type": "markdown",
   "metadata": {},
   "source": [
    "From here, we can see that there is a relatively high correlation between production budget and worldwide gross (0.748306), and an extremely high correlation between the domestic gross and worldwide gross, indicating that a movie doing well in domestic theaters will also do well internationally. Logical, but nice to know."
   ]
  },
  {
   "cell_type": "code",
   "execution_count": 242,
   "metadata": {
    "scrolled": false
   },
   "outputs": [
    {
     "name": "stdout",
     "output_type": "stream",
     "text": [
      "y=3.126943x+(-7285667.054592)\n",
      "y2=1.119087x+(6523888.576660)\n"
     ]
    },
    {
     "data": {
      "image/png": "[encoded data removed]",
      "text/plain": [
       "<Figure size 1152x720 with 1 Axes>"
      ]
     },
     "metadata": {
      "needs_background": "light"
     },
     "output_type": "display_data"
    }
   ],
   "source": [
    "#scatterplot of production budget vs worldwide gross\n",
    "import matplotlib.pyplot as plt\n",
    "from matplotlib.axis import Axis\n",
    "import seaborn as sns\n",
    "import numpy as np\n",
    "import pylab as plb\n",
    "\n",
    "\n",
    "#code for basic scatter plot\n",
    "x = df['prod_budg_fixed']\n",
    "y = df['world_gross_fixed']\n",
    "\n",
    "fig, ax = plt.subplots(figsize=(16, 10))\n",
    "\n",
    "#going for more of a 'heatmap' style plot for readability, so opacity is low\n",
    "ax.scatter(x, y, alpha=0.5)\n",
    "#domestic gross scatter plot\n",
    "y2 = df['dom_gross_fixed']\n",
    "ax.scatter(x, y2, alpha=0.5, c='pink')\n",
    "\n",
    "ax.set_title('Production Budget vs. Gross Revenue')\n",
    "ax.set_xlabel('Production Budget')\n",
    "ax.set_ylabel('Worldwide Gross (Blue) and Domestic Gross (Orange)')\n",
    "ax.set_xlim(xmin=-5000, xmax=(3*10**8))\n",
    "ax.set_ylim(ymin=-5000, ymax=(2*10**9))\n",
    "plt.legend(['Worldwide', 'Domestic'])\n",
    "\n",
    "\n",
    "#finding the trend line\n",
    "z = np.polyfit(x,y,1)\n",
    "p = np.poly1d(z)\n",
    "plb.plot(x, p(x), 'b--')\n",
    "#Supposedly the equation for the line (need to look into this more to understand it)\n",
    "print(\"y=%.6fx+(%.6f)\"%(z[0],z[1]))\n",
    "\n",
    "#second trend line\n",
    "z2 = np.polyfit(x,y2,1)\n",
    "p2 = np.poly1d(z2)\n",
    "plb.plot(x, p2(x), 'r--')\n",
    "print(\"y2=%.6fx+(%.6f)\"%(z2[0],z2[1]))"
   ]
  },
  {
   "cell_type": "markdown",
   "metadata": {},
   "source": [
    "Based on what we see of the scatterplot above, as well as the trend lines, there is a positive correlation for both, with the worldwide gross having a considerably higher slope (meaning higher returns (gross) on investment (production budget)). Releasing a film internationally generally gives better returns than releasing a film purely domestically. \n",
    "\n",
    "Taking a look at the trend line linear equations: \n",
    "\n",
    "worldwide gross: y=3.126943x+(-7285667.054592) \n",
    "\n",
    "domestic gross: y2=1.119087x+(6523888.576660)\n",
    "\n",
    "Using these equations, we can make extremely general estimates of gross domestic earnings based on our production budget using basic linear algebra. \n",
    "\n",
    "x = production budget\n",
    "\n",
    "y-intercept (worldwide gross) = -7285667.05\n",
    "\n",
    "y2-intercept (domestic gross) = 6523888.57\n",
    "\n",
    "x-intercept (breakeven point for each):\n",
    "    y (worldwide\n"
   ]
  },
  {
   "cell_type": "code",
   "execution_count": 243,
   "metadata": {},
   "outputs": [
    {
     "data": {
      "text/plain": [
       "3.052706749010146e+16"
      ]
     },
     "execution_count": 243,
     "metadata": {},
     "output_type": "execute_result"
    }
   ],
   "source": [
    "#Variance of each column\n",
    "df['world_gross_fixed'].var()"
   ]
  },
  {
   "cell_type": "code",
   "execution_count": 244,
   "metadata": {},
   "outputs": [
    {
     "data": {
      "text/plain": [
       "4656779127627114.0"
      ]
     },
     "execution_count": 244,
     "metadata": {},
     "output_type": "execute_result"
    }
   ],
   "source": [
    "df['dom_gross_fixed'].var()"
   ]
  },
  {
   "cell_type": "markdown",
   "metadata": {},
   "source": [
    "There is a lower variance on the domestic gross, meaning that there is a higher likelihood that an estimate made using the domestic gross equation will be accurate"
   ]
  }
 ],
 "metadata": {
  "kernelspec": {
   "display_name": "Python 3",
   "language": "python",
   "name": "python3"
  },
  "language_info": {
   "codemirror_mode": {
    "name": "ipython",
    "version": 3
   },
   "file_extension": ".py",
   "mimetype": "text/x-python",
   "name": "python",
   "nbconvert_exporter": "python",
   "pygments_lexer": "ipython3",
   "version": "3.8.5"
  }
 },
 "nbformat": 4,
 "nbformat_minor": 2
}
