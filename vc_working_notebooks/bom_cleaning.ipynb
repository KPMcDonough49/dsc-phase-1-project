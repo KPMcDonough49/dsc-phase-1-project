{
 "cells": [
  {
   "cell_type": "code",
   "execution_count": 1,
   "metadata": {},
   "outputs": [],
   "source": [
    "import pandas as pd\n",
    "import matplotlib.pyplot as plt"
   ]
  },
  {
   "cell_type": "code",
   "execution_count": 2,
   "metadata": {},
   "outputs": [
    {
     "data": {
      "text/html": [
       "<div>\n",
       "<style scoped>\n",
       "    .dataframe tbody tr th:only-of-type {\n",
       "        vertical-align: middle;\n",
       "    }\n",
       "\n",
       "    .dataframe tbody tr th {\n",
       "        vertical-align: top;\n",
       "    }\n",
       "\n",
       "    .dataframe thead th {\n",
       "        text-align: right;\n",
       "    }\n",
       "</style>\n",
       "<table border=\"1\" class=\"dataframe\">\n",
       "  <thead>\n",
       "    <tr style=\"text-align: right;\">\n",
       "      <th></th>\n",
       "      <th>title</th>\n",
       "      <th>studio</th>\n",
       "      <th>domestic_gross</th>\n",
       "      <th>foreign_gross</th>\n",
       "      <th>year</th>\n",
       "    </tr>\n",
       "  </thead>\n",
       "  <tbody>\n",
       "    <tr>\n",
       "      <th>0</th>\n",
       "      <td>Toy Story 3</td>\n",
       "      <td>BV</td>\n",
       "      <td>415000000.0</td>\n",
       "      <td>652000000</td>\n",
       "      <td>2010</td>\n",
       "    </tr>\n",
       "    <tr>\n",
       "      <th>1</th>\n",
       "      <td>Alice in Wonderland (2010)</td>\n",
       "      <td>BV</td>\n",
       "      <td>334200000.0</td>\n",
       "      <td>691300000</td>\n",
       "      <td>2010</td>\n",
       "    </tr>\n",
       "    <tr>\n",
       "      <th>2</th>\n",
       "      <td>Harry Potter and the Deathly Hallows Part 1</td>\n",
       "      <td>WB</td>\n",
       "      <td>296000000.0</td>\n",
       "      <td>664300000</td>\n",
       "      <td>2010</td>\n",
       "    </tr>\n",
       "    <tr>\n",
       "      <th>3</th>\n",
       "      <td>Inception</td>\n",
       "      <td>WB</td>\n",
       "      <td>292600000.0</td>\n",
       "      <td>535700000</td>\n",
       "      <td>2010</td>\n",
       "    </tr>\n",
       "    <tr>\n",
       "      <th>4</th>\n",
       "      <td>Shrek Forever After</td>\n",
       "      <td>P/DW</td>\n",
       "      <td>238700000.0</td>\n",
       "      <td>513900000</td>\n",
       "      <td>2010</td>\n",
       "    </tr>\n",
       "  </tbody>\n",
       "</table>\n",
       "</div>"
      ],
      "text/plain": [
       "                                         title studio  domestic_gross  \\\n",
       "0                                  Toy Story 3     BV     415000000.0   \n",
       "1                   Alice in Wonderland (2010)     BV     334200000.0   \n",
       "2  Harry Potter and the Deathly Hallows Part 1     WB     296000000.0   \n",
       "3                                    Inception     WB     292600000.0   \n",
       "4                          Shrek Forever After   P/DW     238700000.0   \n",
       "\n",
       "  foreign_gross  year  \n",
       "0     652000000  2010  \n",
       "1     691300000  2010  \n",
       "2     664300000  2010  \n",
       "3     535700000  2010  \n",
       "4     513900000  2010  "
      ]
     },
     "execution_count": 2,
     "metadata": {},
     "output_type": "execute_result"
    }
   ],
   "source": [
    "df = pd.read_csv('zippedData/bom.movie_gross.csv.gz')\n",
    "df.head()"
   ]
  },
  {
   "cell_type": "code",
   "execution_count": 3,
   "metadata": {},
   "outputs": [
    {
     "name": "stdout",
     "output_type": "stream",
     "text": [
      "<class 'pandas.core.frame.DataFrame'>\n",
      "RangeIndex: 3387 entries, 0 to 3386\n",
      "Data columns (total 5 columns):\n",
      " #   Column          Non-Null Count  Dtype  \n",
      "---  ------          --------------  -----  \n",
      " 0   title           3387 non-null   object \n",
      " 1   studio          3382 non-null   object \n",
      " 2   domestic_gross  3359 non-null   float64\n",
      " 3   foreign_gross   2037 non-null   object \n",
      " 4   year            3387 non-null   int64  \n",
      "dtypes: float64(1), int64(1), object(3)\n",
      "memory usage: 132.4+ KB\n"
     ]
    }
   ],
   "source": [
    "df.info()"
   ]
  },
  {
   "cell_type": "code",
   "execution_count": 4,
   "metadata": {},
   "outputs": [
    {
     "data": {
      "text/plain": [
       "(3387, 5)"
      ]
     },
     "execution_count": 4,
     "metadata": {},
     "output_type": "execute_result"
    }
   ],
   "source": [
    "df.shape"
   ]
  },
  {
   "cell_type": "code",
   "execution_count": 5,
   "metadata": {},
   "outputs": [],
   "source": [
    "df['foreign_gross_altered'] = df['foreign_gross']"
   ]
  },
  {
   "cell_type": "code",
   "execution_count": 6,
   "metadata": {},
   "outputs": [],
   "source": [
    "#removing the commas in the foreign gross column\n",
    "df['foreign_gross_altered'] = df['foreign_gross_altered'].str.replace(',', '').astype(float)"
   ]
  },
  {
   "cell_type": "code",
   "execution_count": 7,
   "metadata": {},
   "outputs": [],
   "source": [
    "df['foreign_gross_altered'] = df['foreign_gross_altered'].fillna(0)"
   ]
  },
  {
   "cell_type": "code",
   "execution_count": 8,
   "metadata": {},
   "outputs": [
    {
     "name": "stdout",
     "output_type": "stream",
     "text": [
      "<class 'pandas.core.frame.DataFrame'>\n",
      "RangeIndex: 3387 entries, 0 to 3386\n",
      "Data columns (total 6 columns):\n",
      " #   Column                 Non-Null Count  Dtype  \n",
      "---  ------                 --------------  -----  \n",
      " 0   title                  3387 non-null   object \n",
      " 1   studio                 3382 non-null   object \n",
      " 2   domestic_gross         3359 non-null   float64\n",
      " 3   foreign_gross          2037 non-null   object \n",
      " 4   year                   3387 non-null   int64  \n",
      " 5   foreign_gross_altered  3387 non-null   float64\n",
      "dtypes: float64(2), int64(1), object(3)\n",
      "memory usage: 158.9+ KB\n"
     ]
    }
   ],
   "source": [
    "df.info()"
   ]
  },
  {
   "cell_type": "code",
   "execution_count": 9,
   "metadata": {},
   "outputs": [],
   "source": [
    "df['domestic_gross_altered'] = df['domestic_gross'].fillna(0)"
   ]
  },
  {
   "cell_type": "code",
   "execution_count": 10,
   "metadata": {},
   "outputs": [],
   "source": [
    "df['total_gross'] = df['domestic_gross_altered'] + df['foreign_gross_altered']"
   ]
  },
  {
   "cell_type": "code",
   "execution_count": 11,
   "metadata": {},
   "outputs": [
    {
     "data": {
      "text/plain": [
       "0       1.067000e+09\n",
       "1       1.025500e+09\n",
       "2       9.603000e+08\n",
       "3       8.283000e+08\n",
       "4       7.526000e+08\n",
       "            ...     \n",
       "3382    6.200000e+03\n",
       "3383    4.800000e+03\n",
       "3384    2.500000e+03\n",
       "3385    2.400000e+03\n",
       "3386    1.700000e+03\n",
       "Name: total_gross, Length: 3387, dtype: float64"
      ]
     },
     "execution_count": 11,
     "metadata": {},
     "output_type": "execute_result"
    }
   ],
   "source": [
    "df['total_gross']"
   ]
  },
  {
   "cell_type": "code",
   "execution_count": 12,
   "metadata": {},
   "outputs": [
    {
     "data": {
      "text/html": [
       "<div>\n",
       "<style scoped>\n",
       "    .dataframe tbody tr th:only-of-type {\n",
       "        vertical-align: middle;\n",
       "    }\n",
       "\n",
       "    .dataframe tbody tr th {\n",
       "        vertical-align: top;\n",
       "    }\n",
       "\n",
       "    .dataframe thead th {\n",
       "        text-align: right;\n",
       "    }\n",
       "</style>\n",
       "<table border=\"1\" class=\"dataframe\">\n",
       "  <thead>\n",
       "    <tr style=\"text-align: right;\">\n",
       "      <th></th>\n",
       "      <th>title</th>\n",
       "      <th>studio</th>\n",
       "      <th>domestic_gross</th>\n",
       "      <th>foreign_gross</th>\n",
       "      <th>year</th>\n",
       "      <th>foreign_gross_altered</th>\n",
       "      <th>domestic_gross_altered</th>\n",
       "      <th>total_gross</th>\n",
       "    </tr>\n",
       "  </thead>\n",
       "  <tbody>\n",
       "    <tr>\n",
       "      <th>727</th>\n",
       "      <td>Marvel's The Avengers</td>\n",
       "      <td>BV</td>\n",
       "      <td>623400000.0</td>\n",
       "      <td>895500000</td>\n",
       "      <td>2012</td>\n",
       "      <td>895500000.0</td>\n",
       "      <td>623400000.0</td>\n",
       "      <td>1.518900e+09</td>\n",
       "    </tr>\n",
       "    <tr>\n",
       "      <th>1875</th>\n",
       "      <td>Avengers: Age of Ultron</td>\n",
       "      <td>BV</td>\n",
       "      <td>459000000.0</td>\n",
       "      <td>946400000</td>\n",
       "      <td>2015</td>\n",
       "      <td>946400000.0</td>\n",
       "      <td>459000000.0</td>\n",
       "      <td>1.405400e+09</td>\n",
       "    </tr>\n",
       "    <tr>\n",
       "      <th>3080</th>\n",
       "      <td>Black Panther</td>\n",
       "      <td>BV</td>\n",
       "      <td>700100000.0</td>\n",
       "      <td>646900000</td>\n",
       "      <td>2018</td>\n",
       "      <td>646900000.0</td>\n",
       "      <td>700100000.0</td>\n",
       "      <td>1.347000e+09</td>\n",
       "    </tr>\n",
       "    <tr>\n",
       "      <th>328</th>\n",
       "      <td>Harry Potter and the Deathly Hallows Part 2</td>\n",
       "      <td>WB</td>\n",
       "      <td>381000000.0</td>\n",
       "      <td>960500000</td>\n",
       "      <td>2011</td>\n",
       "      <td>960500000.0</td>\n",
       "      <td>381000000.0</td>\n",
       "      <td>1.341500e+09</td>\n",
       "    </tr>\n",
       "    <tr>\n",
       "      <th>2758</th>\n",
       "      <td>Star Wars: The Last Jedi</td>\n",
       "      <td>BV</td>\n",
       "      <td>620200000.0</td>\n",
       "      <td>712400000</td>\n",
       "      <td>2017</td>\n",
       "      <td>712400000.0</td>\n",
       "      <td>620200000.0</td>\n",
       "      <td>1.332600e+09</td>\n",
       "    </tr>\n",
       "    <tr>\n",
       "      <th>...</th>\n",
       "      <td>...</td>\n",
       "      <td>...</td>\n",
       "      <td>...</td>\n",
       "      <td>...</td>\n",
       "      <td>...</td>\n",
       "      <td>...</td>\n",
       "      <td>...</td>\n",
       "      <td>...</td>\n",
       "    </tr>\n",
       "    <tr>\n",
       "      <th>3078</th>\n",
       "      <td>2:22</td>\n",
       "      <td>Magn.</td>\n",
       "      <td>400.0</td>\n",
       "      <td>NaN</td>\n",
       "      <td>2017</td>\n",
       "      <td>0.0</td>\n",
       "      <td>400.0</td>\n",
       "      <td>4.000000e+02</td>\n",
       "    </tr>\n",
       "    <tr>\n",
       "      <th>2756</th>\n",
       "      <td>News From Planet Mars</td>\n",
       "      <td>KL</td>\n",
       "      <td>300.0</td>\n",
       "      <td>NaN</td>\n",
       "      <td>2016</td>\n",
       "      <td>0.0</td>\n",
       "      <td>300.0</td>\n",
       "      <td>3.000000e+02</td>\n",
       "    </tr>\n",
       "    <tr>\n",
       "      <th>2757</th>\n",
       "      <td>Satanic</td>\n",
       "      <td>Magn.</td>\n",
       "      <td>300.0</td>\n",
       "      <td>NaN</td>\n",
       "      <td>2016</td>\n",
       "      <td>0.0</td>\n",
       "      <td>300.0</td>\n",
       "      <td>3.000000e+02</td>\n",
       "    </tr>\n",
       "    <tr>\n",
       "      <th>2321</th>\n",
       "      <td>The Chambermaid</td>\n",
       "      <td>FM</td>\n",
       "      <td>300.0</td>\n",
       "      <td>NaN</td>\n",
       "      <td>2015</td>\n",
       "      <td>0.0</td>\n",
       "      <td>300.0</td>\n",
       "      <td>3.000000e+02</td>\n",
       "    </tr>\n",
       "    <tr>\n",
       "      <th>1476</th>\n",
       "      <td>Storage 24</td>\n",
       "      <td>Magn.</td>\n",
       "      <td>100.0</td>\n",
       "      <td>NaN</td>\n",
       "      <td>2013</td>\n",
       "      <td>0.0</td>\n",
       "      <td>100.0</td>\n",
       "      <td>1.000000e+02</td>\n",
       "    </tr>\n",
       "  </tbody>\n",
       "</table>\n",
       "<p>3387 rows × 8 columns</p>\n",
       "</div>"
      ],
      "text/plain": [
       "                                            title studio  domestic_gross  \\\n",
       "727                         Marvel's The Avengers     BV     623400000.0   \n",
       "1875                      Avengers: Age of Ultron     BV     459000000.0   \n",
       "3080                                Black Panther     BV     700100000.0   \n",
       "328   Harry Potter and the Deathly Hallows Part 2     WB     381000000.0   \n",
       "2758                     Star Wars: The Last Jedi     BV     620200000.0   \n",
       "...                                           ...    ...             ...   \n",
       "3078                                         2:22  Magn.           400.0   \n",
       "2756                        News From Planet Mars     KL           300.0   \n",
       "2757                                      Satanic  Magn.           300.0   \n",
       "2321                              The Chambermaid     FM           300.0   \n",
       "1476                                   Storage 24  Magn.           100.0   \n",
       "\n",
       "     foreign_gross  year  foreign_gross_altered  domestic_gross_altered  \\\n",
       "727      895500000  2012            895500000.0             623400000.0   \n",
       "1875     946400000  2015            946400000.0             459000000.0   \n",
       "3080     646900000  2018            646900000.0             700100000.0   \n",
       "328      960500000  2011            960500000.0             381000000.0   \n",
       "2758     712400000  2017            712400000.0             620200000.0   \n",
       "...            ...   ...                    ...                     ...   \n",
       "3078           NaN  2017                    0.0                   400.0   \n",
       "2756           NaN  2016                    0.0                   300.0   \n",
       "2757           NaN  2016                    0.0                   300.0   \n",
       "2321           NaN  2015                    0.0                   300.0   \n",
       "1476           NaN  2013                    0.0                   100.0   \n",
       "\n",
       "       total_gross  \n",
       "727   1.518900e+09  \n",
       "1875  1.405400e+09  \n",
       "3080  1.347000e+09  \n",
       "328   1.341500e+09  \n",
       "2758  1.332600e+09  \n",
       "...            ...  \n",
       "3078  4.000000e+02  \n",
       "2756  3.000000e+02  \n",
       "2757  3.000000e+02  \n",
       "2321  3.000000e+02  \n",
       "1476  1.000000e+02  \n",
       "\n",
       "[3387 rows x 8 columns]"
      ]
     },
     "execution_count": 12,
     "metadata": {},
     "output_type": "execute_result"
    }
   ],
   "source": [
    "df.sort_values('total_gross', ascending=False)"
   ]
  },
  {
   "cell_type": "code",
   "execution_count": 13,
   "metadata": {},
   "outputs": [
    {
     "data": {
      "text/html": [
       "<div>\n",
       "<style scoped>\n",
       "    .dataframe tbody tr th:only-of-type {\n",
       "        vertical-align: middle;\n",
       "    }\n",
       "\n",
       "    .dataframe tbody tr th {\n",
       "        vertical-align: top;\n",
       "    }\n",
       "\n",
       "    .dataframe thead th {\n",
       "        text-align: right;\n",
       "    }\n",
       "</style>\n",
       "<table border=\"1\" class=\"dataframe\">\n",
       "  <thead>\n",
       "    <tr style=\"text-align: right;\">\n",
       "      <th></th>\n",
       "      <th>domestic_gross</th>\n",
       "      <th>year</th>\n",
       "      <th>foreign_gross_altered</th>\n",
       "      <th>domestic_gross_altered</th>\n",
       "      <th>total_gross</th>\n",
       "    </tr>\n",
       "  </thead>\n",
       "  <tbody>\n",
       "    <tr>\n",
       "      <th>domestic_gross</th>\n",
       "      <td>1.000000</td>\n",
       "      <td>0.018708</td>\n",
       "      <td>0.792378</td>\n",
       "      <td>1.000000</td>\n",
       "      <td>0.915130</td>\n",
       "    </tr>\n",
       "    <tr>\n",
       "      <th>year</th>\n",
       "      <td>0.018708</td>\n",
       "      <td>1.000000</td>\n",
       "      <td>0.036687</td>\n",
       "      <td>0.020362</td>\n",
       "      <td>0.032217</td>\n",
       "    </tr>\n",
       "    <tr>\n",
       "      <th>foreign_gross_altered</th>\n",
       "      <td>0.792378</td>\n",
       "      <td>0.036687</td>\n",
       "      <td>1.000000</td>\n",
       "      <td>0.792259</td>\n",
       "      <td>0.971046</td>\n",
       "    </tr>\n",
       "    <tr>\n",
       "      <th>domestic_gross_altered</th>\n",
       "      <td>1.000000</td>\n",
       "      <td>0.020362</td>\n",
       "      <td>0.792259</td>\n",
       "      <td>1.000000</td>\n",
       "      <td>0.915089</td>\n",
       "    </tr>\n",
       "    <tr>\n",
       "      <th>total_gross</th>\n",
       "      <td>0.915130</td>\n",
       "      <td>0.032217</td>\n",
       "      <td>0.971046</td>\n",
       "      <td>0.915089</td>\n",
       "      <td>1.000000</td>\n",
       "    </tr>\n",
       "  </tbody>\n",
       "</table>\n",
       "</div>"
      ],
      "text/plain": [
       "                        domestic_gross      year  foreign_gross_altered  \\\n",
       "domestic_gross                1.000000  0.018708               0.792378   \n",
       "year                          0.018708  1.000000               0.036687   \n",
       "foreign_gross_altered         0.792378  0.036687               1.000000   \n",
       "domestic_gross_altered        1.000000  0.020362               0.792259   \n",
       "total_gross                   0.915130  0.032217               0.971046   \n",
       "\n",
       "                        domestic_gross_altered  total_gross  \n",
       "domestic_gross                        1.000000     0.915130  \n",
       "year                                  0.020362     0.032217  \n",
       "foreign_gross_altered                 0.792259     0.971046  \n",
       "domestic_gross_altered                1.000000     0.915089  \n",
       "total_gross                           0.915089     1.000000  "
      ]
     },
     "execution_count": 13,
     "metadata": {},
     "output_type": "execute_result"
    }
   ],
   "source": [
    "df.corr(method='pearson')"
   ]
  },
  {
   "cell_type": "code",
   "execution_count": null,
   "metadata": {},
   "outputs": [],
   "source": []
  }
 ],
 "metadata": {
  "kernelspec": {
   "display_name": "Python (learn-env)",
   "language": "python",
   "name": "learn-env"
  },
  "language_info": {
   "codemirror_mode": {
    "name": "ipython",
    "version": 3
   },
   "file_extension": ".py",
   "mimetype": "text/x-python",
   "name": "python",
   "nbconvert_exporter": "python",
   "pygments_lexer": "ipython3",
   "version": "3.8.5"
  }
 },
 "nbformat": 4,
 "nbformat_minor": 4
}
